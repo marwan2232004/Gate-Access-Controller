{
 "cells": [
  {
   "cell_type": "code",
   "execution_count": 1,
   "id": "3454cb21",
   "metadata": {
    "execution": {
     "iopub.execute_input": "2024-12-15T03:42:07.273544Z",
     "iopub.status.busy": "2024-12-15T03:42:07.273207Z",
     "iopub.status.idle": "2024-12-15T03:42:18.139992Z",
     "shell.execute_reply": "2024-12-15T03:42:18.139034Z"
    },
    "id": "_CJjaW3iX6D8",
    "outputId": "83f7730a-016f-4ec9-d18d-809aa0a869be",
    "papermill": {
     "duration": 10.875542,
     "end_time": "2024-12-15T03:42:18.142187",
     "exception": false,
     "start_time": "2024-12-15T03:42:07.266645",
     "status": "completed"
    },
    "tags": []
   },
   "outputs": [],
   "source": [
    "!pip install ultralytics roboflow easyocr supervision==0.1.0 -q"
   ]
  },
  {
   "cell_type": "markdown",
   "id": "d145c91a",
   "metadata": {
    "papermill": {
     "duration": 0.004618,
     "end_time": "2024-12-15T03:42:18.150964",
     "exception": false,
     "start_time": "2024-12-15T03:42:18.146346",
     "status": "completed"
    },
    "tags": []
   },
   "source": [
    "### Import Libraries"
   ]
  },
  {
   "cell_type": "code",
   "execution_count": 2,
   "id": "82d4a7b7",
   "metadata": {
    "execution": {
     "iopub.execute_input": "2024-12-15T03:42:18.159547Z",
     "iopub.status.busy": "2024-12-15T03:42:18.159229Z",
     "iopub.status.idle": "2024-12-15T03:42:22.105405Z",
     "shell.execute_reply": "2024-12-15T03:42:22.104720Z"
    },
    "id": "IUun5QaoX6Fm",
    "papermill": {
     "duration": 3.953114,
     "end_time": "2024-12-15T03:42:22.107626",
     "exception": false,
     "start_time": "2024-12-15T03:42:18.154512",
     "status": "completed"
    },
    "tags": []
   },
   "outputs": [
    {
     "name": "stdout",
     "output_type": "stream",
     "text": [
      "Creating new Ultralytics Settings v0.0.6 file ✅ \n",
      "View Ultralytics Settings with 'yolo settings' or at '/root/.config/Ultralytics/settings.json'\n",
      "Update Settings with 'yolo settings key=value', i.e. 'yolo settings runs_dir=path/to/dir'. For help see https://docs.ultralytics.com/quickstart/#ultralytics-settings.\n"
     ]
    }
   ],
   "source": [
    "import glob\n",
    "\n",
    "from IPython.display import display, Image\n",
    "from roboflow import Roboflow\n",
    "from ultralytics import YOLO"
   ]
  },
  {
   "cell_type": "markdown",
   "id": "f41705e9",
   "metadata": {
    "papermill": {
     "duration": 0.003586,
     "end_time": "2024-12-15T03:42:22.115464",
     "exception": false,
     "start_time": "2024-12-15T03:42:22.111878",
     "status": "completed"
    },
    "tags": []
   },
   "source": [
    "### Load Models"
   ]
  },
  {
   "cell_type": "code",
   "execution_count": 3,
   "id": "b9aeb616",
   "metadata": {
    "execution": {
     "iopub.execute_input": "2024-12-15T03:42:22.124172Z",
     "iopub.status.busy": "2024-12-15T03:42:22.123802Z",
     "iopub.status.idle": "2024-12-15T03:42:24.805213Z",
     "shell.execute_reply": "2024-12-15T03:42:24.804267Z"
    },
    "id": "e2nx3j9ra046",
    "outputId": "cee2f65e-1533-4e2c-a34d-ce50447da9ad",
    "papermill": {
     "duration": 2.687905,
     "end_time": "2024-12-15T03:42:24.807071",
     "exception": false,
     "start_time": "2024-12-15T03:42:22.119166",
     "status": "completed"
    },
    "tags": []
   },
   "outputs": [
    {
     "name": "stdout",
     "output_type": "stream",
     "text": [
      "Downloading https://github.com/ultralytics/assets/releases/download/v8.3.0/yolo11x.pt to 'yolo11x.pt'...\n"
     ]
    },
    {
     "name": "stderr",
     "output_type": "stream",
     "text": [
      "100%|██████████| 109M/109M [00:00<00:00, 463MB/s] \n"
     ]
    },
    {
     "name": "stdout",
     "output_type": "stream",
     "text": [
      "YOLO11x summary (fused): 464 layers, 56,919,424 parameters, 0 gradients, 194.9 GFLOPs\n"
     ]
    }
   ],
   "source": [
    "model = YOLO(' .pt')\n",
    "model.fuse()"
   ]
  },
  {
   "cell_type": "markdown",
   "id": "b1715153",
   "metadata": {
    "papermill": {
     "duration": 0.003932,
     "end_time": "2024-12-15T03:42:24.815274",
     "exception": false,
     "start_time": "2024-12-15T03:42:24.811342",
     "status": "completed"
    },
    "tags": []
   },
   "source": [
    "### Testing"
   ]
  },
  {
   "cell_type": "code",
   "execution_count": 4,
   "id": "2a9c60e6",
   "metadata": {
    "execution": {
     "iopub.execute_input": "2024-12-15T03:42:24.824556Z",
     "iopub.status.busy": "2024-12-15T03:42:24.824267Z",
     "iopub.status.idle": "2024-12-15T03:42:26.830340Z",
     "shell.execute_reply": "2024-12-15T03:42:26.829361Z"
    },
    "id": "o25qUCFrX6HZ",
    "outputId": "3048770c-56bd-4c86-fa84-460189b77c49",
    "papermill": {
     "duration": 2.01269,
     "end_time": "2024-12-15T03:42:26.832042",
     "exception": false,
     "start_time": "2024-12-15T03:42:24.819352",
     "status": "completed"
    },
    "tags": []
   },
   "outputs": [
    {
     "name": "stdout",
     "output_type": "stream",
     "text": [
      "\n",
      "image 1/1 /kaggle/input/car-plate-detection/images/Cars0.png: 352x640 1 car, 66.5ms\n",
      "Speed: 10.1ms preprocess, 66.5ms inference, 171.2ms postprocess per image at shape (1, 3, 352, 640)\n",
      "Results saved to \u001B[1mruns/detect/predict\u001B[0m\n"
     ]
    }
   ],
   "source": [
    "results = model.predict(source='/kaggle/input/car-plate-detection/images/Cars0.png', conf=0.25, save=True)"
   ]
  },
  {
   "cell_type": "code",
   "execution_count": 5,
   "id": "697b5d62",
   "metadata": {
    "execution": {
     "iopub.execute_input": "2024-12-15T03:42:26.842447Z",
     "iopub.status.busy": "2024-12-15T03:42:26.841715Z",
     "iopub.status.idle": "2024-12-15T03:42:26.850652Z",
     "shell.execute_reply": "2024-12-15T03:42:26.849856Z"
    },
    "id": "gK5kI9U2amij",
    "outputId": "d4434507-f72a-42d7-d62e-74806d4615d5",
    "papermill": {
     "duration": 0.015899,
     "end_time": "2024-12-15T03:42:26.852555",
     "exception": false,
     "start_time": "2024-12-15T03:42:26.836656",
     "status": "completed"
    },
    "tags": []
   },
   "outputs": [
    {
     "data": {
      "image/jpeg": "[encoded data removed]",
      "text/plain": [
       "<IPython.core.display.Image object>"
      ]
     },
     "execution_count": 5,
     "metadata": {
      "image/jpeg": {
       "width": 600
      }
     },
     "output_type": "execute_result"
    }
   ],
   "source": [
    "Image(filename=r'/kaggle/working/runs/detect/predict/Cars0.jpg', width=600)"
   ]
  },
  {
   "cell_type": "markdown",
   "id": "a77b5055",
   "metadata": {
    "papermill": {
     "duration": 0.005113,
     "end_time": "2024-12-15T03:42:26.863454",
     "exception": false,
     "start_time": "2024-12-15T03:42:26.858341",
     "status": "completed"
    },
    "tags": []
   },
   "source": [
    "### Load Data from Roboflow"
   ]
  },
  {
   "cell_type": "code",
   "execution_count": 6,
   "id": "33965b28",
   "metadata": {
    "execution": {
     "iopub.execute_input": "2024-12-15T03:42:26.875081Z",
     "iopub.status.busy": "2024-12-15T03:42:26.874839Z",
     "iopub.status.idle": "2024-12-15T03:42:27.317452Z",
     "shell.execute_reply": "2024-12-15T03:42:27.316798Z"
    },
    "papermill": {
     "duration": 0.450678,
     "end_time": "2024-12-15T03:42:27.319332",
     "exception": false,
     "start_time": "2024-12-15T03:42:26.868654",
     "status": "completed"
    },
    "tags": []
   },
   "outputs": [
    {
     "name": "stdout",
     "output_type": "stream",
     "text": [
      "loading Roboflow workspace...\n",
      "loading Roboflow project...\n"
     ]
    }
   ],
   "source": [
    "rf = Roboflow(api_key=\"keJ6MMMWIdGGqANkazQc\")\n",
    "\n",
    "project = rf.workspace(\"moin\").project(\"car_license_plates\")"
   ]
  },
  {
   "cell_type": "code",
   "execution_count": 7,
   "id": "1ef60e7d",
   "metadata": {
    "execution": {
     "iopub.execute_input": "2024-12-15T03:42:27.333243Z",
     "iopub.status.busy": "2024-12-15T03:42:27.332609Z",
     "iopub.status.idle": "2024-12-15T03:42:29.485998Z",
     "shell.execute_reply": "2024-12-15T03:42:29.485066Z"
    },
    "id": "otyIgU0MX6Kj",
    "outputId": "f34b6957-fa31-40d5-bfff-435da03978c0",
    "papermill": {
     "duration": 2.161414,
     "end_time": "2024-12-15T03:42:29.487787",
     "exception": false,
     "start_time": "2024-12-15T03:42:27.326373",
     "status": "completed"
    },
    "tags": []
   },
   "outputs": [
    {
     "name": "stderr",
     "output_type": "stream",
     "text": [
      "Downloading Dataset Version Zip in Car_License_Plates-2 to yolov11:: 100%|██████████| 32906/32906 [00:00<00:00, 53883.24it/s]"
     ]
    },
    {
     "name": "stdout",
     "output_type": "stream",
     "text": [
      "\n"
     ]
    },
    {
     "name": "stderr",
     "output_type": "stream",
     "text": [
      "\n",
      "Extracting Dataset Version Zip to Car_License_Plates-2 in yolov11:: 100%|██████████| 1436/1436 [00:00<00:00, 8356.35it/s]\n"
     ]
    }
   ],
   "source": [
    "dataset = project.version(2).download(\"yolov11\")"
   ]
  },
  {
   "cell_type": "markdown",
   "id": "a18b03dc",
   "metadata": {
    "id": "A3I13FWcX6JA",
    "outputId": "594a00d4-edf5-4dab-f828-e984ff70d343",
    "papermill": {
     "duration": 0.005813,
     "end_time": "2024-12-15T03:42:29.499977",
     "exception": false,
     "start_time": "2024-12-15T03:42:29.494164",
     "status": "completed"
    },
    "tags": []
   },
   "source": [
    "### Training"
   ]
  },
  {
   "cell_type": "code",
   "execution_count": 8,
   "id": "2cc3860a",
   "metadata": {
    "execution": {
     "iopub.execute_input": "2024-12-15T03:42:29.513694Z",
     "iopub.status.busy": "2024-12-15T03:42:29.512827Z",
     "iopub.status.idle": "2024-12-15T05:18:20.648366Z",
     "shell.execute_reply": "2024-12-15T05:18:20.647335Z"
    },
    "id": "QDrG8pNLX6Md",
    "outputId": "a180416b-db46-467c-ec49-c5ac135c807c",
    "papermill": {
     "duration": 5751.146761,
     "end_time": "2024-12-15T05:18:20.652805",
     "exception": false,
     "start_time": "2024-12-15T03:42:29.506044",
     "status": "completed"
    },
    "tags": []
   },
   "outputs": [
    {
     "name": "stdout",
     "output_type": "stream",
     "text": [
      "Ultralytics 8.3.49 🚀 Python-3.10.14 torch-2.4.0 CUDA:0 (Tesla P100-PCIE-16GB, 16269MiB)\n",
      "\u001B[34m\u001B[1mengine/trainer: \u001B[0mtask=detect, mode=train, model=yolo11x.pt, data=/kaggle/working/Car_License_Plates-2/data.yaml, epochs=80, time=None, patience=100, batch=16, imgsz=640, save=True, save_period=-1, cache=False, device=None, workers=8, project=None, name=train, exist_ok=False, pretrained=True, optimizer=auto, verbose=True, seed=0, deterministic=True, single_cls=False, rect=False, cos_lr=False, close_mosaic=10, resume=False, amp=True, fraction=1.0, profile=False, freeze=None, multi_scale=False, overlap_mask=True, mask_ratio=4, dropout=0.0, val=True, split=val, save_json=False, save_hybrid=False, conf=None, iou=0.7, max_det=300, half=False, dnn=False, plots=True, source=None, vid_stride=1, stream_buffer=False, visualize=False, augment=False, agnostic_nms=False, classes=None, retina_masks=False, embed=None, show=False, save_frames=False, save_txt=False, save_conf=False, save_crop=False, show_labels=True, show_conf=True, show_boxes=True, line_width=None, format=torchscript, keras=False, optimize=False, int8=False, dynamic=False, simplify=True, opset=None, workspace=None, nms=False, lr0=0.01, lrf=0.01, momentum=0.937, weight_decay=0.0005, warmup_epochs=3.0, warmup_momentum=0.8, warmup_bias_lr=0.1, box=7.5, cls=0.5, dfl=1.5, pose=12.0, kobj=1.0, nbs=64, hsv_h=0.015, hsv_s=0.7, hsv_v=0.4, degrees=0.0, translate=0.1, scale=0.5, shear=0.0, perspective=0.0, flipud=0.0, fliplr=0.5, bgr=0.0, mosaic=1.0, mixup=0.0, copy_paste=0.0, copy_paste_mode=flip, auto_augment=randaugment, erasing=0.4, crop_fraction=1.0, cfg=None, tracker=botsort.yaml, save_dir=runs/detect/train\n",
      "Downloading https://ultralytics.com/assets/Arial.ttf to '/root/.config/Ultralytics/Arial.ttf'...\n"
     ]
    },
    {
     "name": "stderr",
     "output_type": "stream",
     "text": [
      "100%|██████████| 755k/755k [00:00<00:00, 24.8MB/s]\n"
     ]
    },
    {
     "name": "stdout",
     "output_type": "stream",
     "text": [
      "Overriding model.yaml nc=80 with nc=1\n",
      "\n",
      "                   from  n    params  module                                       arguments                     \n",
      "  0                  -1  1      2784  ultralytics.nn.modules.conv.Conv             [3, 96, 3, 2]                 \n",
      "  1                  -1  1    166272  ultralytics.nn.modules.conv.Conv             [96, 192, 3, 2]               \n",
      "  2                  -1  2    389760  ultralytics.nn.modules.block.C3k2            [192, 384, 2, True, 0.25]     \n",
      "  3                  -1  1   1327872  ultralytics.nn.modules.conv.Conv             [384, 384, 3, 2]              \n",
      "  4                  -1  2   1553664  ultralytics.nn.modules.block.C3k2            [384, 768, 2, True, 0.25]     \n",
      "  5                  -1  1   5309952  ultralytics.nn.modules.conv.Conv             [768, 768, 3, 2]              \n",
      "  6                  -1  2   5022720  ultralytics.nn.modules.block.C3k2            [768, 768, 2, True]           \n",
      "  7                  -1  1   5309952  ultralytics.nn.modules.conv.Conv             [768, 768, 3, 2]              \n",
      "  8                  -1  2   5022720  ultralytics.nn.modules.block.C3k2            [768, 768, 2, True]           \n",
      "  9                  -1  1   1476864  ultralytics.nn.modules.block.SPPF            [768, 768, 5]                 \n",
      " 10                  -1  2   3264768  ultralytics.nn.modules.block.C2PSA           [768, 768, 2]                 \n",
      " 11                  -1  1         0  torch.nn.modules.upsampling.Upsample         [None, 2, 'nearest']          \n",
      " 12             [-1, 6]  1         0  ultralytics.nn.modules.conv.Concat           [1]                           \n",
      " 13                  -1  2   5612544  ultralytics.nn.modules.block.C3k2            [1536, 768, 2, True]          \n",
      " 14                  -1  1         0  torch.nn.modules.upsampling.Upsample         [None, 2, 'nearest']          \n",
      " 15             [-1, 4]  1         0  ultralytics.nn.modules.conv.Concat           [1]                           \n",
      " 16                  -1  2   1700352  ultralytics.nn.modules.block.C3k2            [1536, 384, 2, True]          \n",
      " 17                  -1  1   1327872  ultralytics.nn.modules.conv.Conv             [384, 384, 3, 2]              \n",
      " 18            [-1, 13]  1         0  ultralytics.nn.modules.conv.Concat           [1]                           \n",
      " 19                  -1  2   5317632  ultralytics.nn.modules.block.C3k2            [1152, 768, 2, True]          \n",
      " 20                  -1  1   5309952  ultralytics.nn.modules.conv.Conv             [768, 768, 3, 2]              \n",
      " 21            [-1, 10]  1         0  ultralytics.nn.modules.conv.Concat           [1]                           \n",
      " 22                  -1  2   5612544  ultralytics.nn.modules.block.C3k2            [1536, 768, 2, True]          \n",
      " 23        [16, 19, 22]  1   3146707  ultralytics.nn.modules.head.Detect           [1, [384, 768, 768]]          \n",
      "YOLO11x summary: 631 layers, 56,874,931 parameters, 56,874,915 gradients, 195.4 GFLOPs\n",
      "\n",
      "Transferred 174/1015 items from pretrained weights\n",
      "\u001B[34m\u001B[1mTensorBoard: \u001B[0mStart with 'tensorboard --logdir runs/detect/train', view at http://localhost:6006/\n",
      "Freezing layer 'model.23.dfl.conv.weight'\n",
      "\u001B[34m\u001B[1mAMP: \u001B[0mrunning Automatic Mixed Precision (AMP) checks...\n",
      "Downloading https://github.com/ultralytics/assets/releases/download/v8.3.0/yolo11n.pt to 'yolo11n.pt'...\n"
     ]
    },
    {
     "name": "stderr",
     "output_type": "stream",
     "text": [
      "100%|██████████| 5.35M/5.35M [00:00<00:00, 102MB/s]\n"
     ]
    },
    {
     "name": "stdout",
     "output_type": "stream",
     "text": [
      "\u001B[34m\u001B[1mAMP: \u001B[0mchecks passed ✅\n"
     ]
    },
    {
     "name": "stderr",
     "output_type": "stream",
     "text": [
      "\u001B[34m\u001B[1mtrain: \u001B[0mScanning /kaggle/working/Car_License_Plates-2/train/labels... 618 images, 1 backgrounds, 0 corrupt: 100%|██████████| 618/618 [00:00<00:00, 1175.02it/s]"
     ]
    },
    {
     "name": "stdout",
     "output_type": "stream",
     "text": [
      "\u001B[34m\u001B[1mtrain: \u001B[0mNew cache created: /kaggle/working/Car_License_Plates-2/train/labels.cache\n"
     ]
    },
    {
     "name": "stderr",
     "output_type": "stream",
     "text": [
      "\n"
     ]
    },
    {
     "name": "stdout",
     "output_type": "stream",
     "text": [
      "\u001B[34m\u001B[1malbumentations: \u001B[0mBlur(p=0.01, blur_limit=(3, 7)), MedianBlur(p=0.01, blur_limit=(3, 7)), ToGray(p=0.01, num_output_channels=3, method='weighted_average'), CLAHE(p=0.01, clip_limit=(1.0, 4.0), tile_grid_size=(8, 8))\n"
     ]
    },
    {
     "name": "stderr",
     "output_type": "stream",
     "text": [
      "A new version of Albumentations is available: 1.4.22 (you have 1.4.21). Upgrade using: pip install -U albumentations. To disable automatic update checks, set the environment variable NO_ALBUMENTATIONS_UPDATE to 1.\n",
      "os.fork() was called. os.fork() is incompatible with multithreaded code, and JAX is multithreaded, so this will likely lead to a deadlock.\n",
      "\u001B[34m\u001B[1mval: \u001B[0mScanning /kaggle/working/Car_License_Plates-2/valid/labels... 64 images, 0 backgrounds, 0 corrupt: 100%|██████████| 64/64 [00:00<00:00, 1464.18it/s]\n"
     ]
    },
    {
     "name": "stdout",
     "output_type": "stream",
     "text": [
      "\u001B[34m\u001B[1mval: \u001B[0mNew cache created: /kaggle/working/Car_License_Plates-2/valid/labels.cache\n",
      "Plotting labels to runs/detect/train/labels.jpg... \n",
      "\u001B[34m\u001B[1moptimizer:\u001B[0m 'optimizer=auto' found, ignoring 'lr0=0.01' and 'momentum=0.937' and determining best 'optimizer', 'lr0' and 'momentum' automatically... \n",
      "\u001B[34m\u001B[1moptimizer:\u001B[0m AdamW(lr=0.002, momentum=0.9) with parameter groups 167 weight(decay=0.0), 174 weight(decay=0.0005), 173 bias(decay=0.0)\n",
      "\u001B[34m\u001B[1mTensorBoard: \u001B[0mmodel graph visualization added ✅\n",
      "Image sizes 640 train, 640 val\n",
      "Using 4 dataloader workers\n",
      "Logging results to \u001B[1mruns/detect/train\u001B[0m\n",
      "Starting training for 80 epochs...\n",
      "\n",
      "      Epoch    GPU_mem   box_loss   cls_loss   dfl_loss  Instances       Size\n"
     ]
    },
    {
     "name": "stderr",
     "output_type": "stream",
     "text": [
      "       1/80      16.4G      2.049      2.977      1.899         13        640: 100%|██████████| 39/39 [01:08<00:00,  1.76s/it]\n",
      "                 Class     Images  Instances      Box(P          R      mAP50  mAP50-95): 100%|██████████| 2/2 [00:03<00:00,  1.55s/it]"
     ]
    },
    {
     "name": "stdout",
     "output_type": "stream",
     "text": [
      "                   all         64         68      0.855      0.607       0.68      0.361\n"
     ]
    },
    {
     "name": "stderr",
     "output_type": "stream",
     "text": [
      "\n"
     ]
    },
    {
     "name": "stdout",
     "output_type": "stream",
     "text": [
      "\n",
      "      Epoch    GPU_mem   box_loss   cls_loss   dfl_loss  Instances       Size\n"
     ]
    },
    {
     "name": "stderr",
     "output_type": "stream",
     "text": [
      "       2/80        16G      1.695      1.706      1.476         17        640: 100%|██████████| 39/39 [01:07<00:00,  1.72s/it]\n",
      "                 Class     Images  Instances      Box(P          R      mAP50  mAP50-95): 100%|██████████| 2/2 [00:02<00:00,  1.22s/it]"
     ]
    },
    {
     "name": "stdout",
     "output_type": "stream",
     "text": [
      "                   all         64         68      0.725      0.515      0.594      0.318\n"
     ]
    },
    {
     "name": "stderr",
     "output_type": "stream",
     "text": [
      "\n"
     ]
    },
    {
     "name": "stdout",
     "output_type": "stream",
     "text": [
      "\n",
      "      Epoch    GPU_mem   box_loss   cls_loss   dfl_loss  Instances       Size\n"
     ]
    },
    {
     "name": "stderr",
     "output_type": "stream",
     "text": [
      "       3/80        16G       1.59      1.342      1.464         21        640: 100%|██████████| 39/39 [01:06<00:00,  1.72s/it]\n",
      "                 Class     Images  Instances      Box(P          R      mAP50  mAP50-95): 100%|██████████| 2/2 [00:02<00:00,  1.22s/it]"
     ]
    },
    {
     "name": "stdout",
     "output_type": "stream",
     "text": [
      "                   all         64         68      0.661      0.662      0.642      0.275\n"
     ]
    },
    {
     "name": "stderr",
     "output_type": "stream",
     "text": [
      "\n"
     ]
    },
    {
     "name": "stdout",
     "output_type": "stream",
     "text": [
      "\n",
      "      Epoch    GPU_mem   box_loss   cls_loss   dfl_loss  Instances       Size\n"
     ]
    },
    {
     "name": "stderr",
     "output_type": "stream",
     "text": [
      "       4/80      16.1G      1.618      1.328      1.472         24        640: 100%|██████████| 39/39 [01:06<00:00,  1.71s/it]\n",
      "                 Class     Images  Instances      Box(P          R      mAP50  mAP50-95): 100%|██████████| 2/2 [00:02<00:00,  1.17s/it]"
     ]
    },
    {
     "name": "stdout",
     "output_type": "stream",
     "text": [
      "                   all         64         68      0.794      0.603      0.692      0.346\n"
     ]
    },
    {
     "name": "stderr",
     "output_type": "stream",
     "text": [
      "\n"
     ]
    },
    {
     "name": "stdout",
     "output_type": "stream",
     "text": [
      "\n",
      "      Epoch    GPU_mem   box_loss   cls_loss   dfl_loss  Instances       Size\n"
     ]
    },
    {
     "name": "stderr",
     "output_type": "stream",
     "text": [
      "       5/80      16.4G      1.575      1.188       1.44         13        640: 100%|██████████| 39/39 [01:06<00:00,  1.71s/it]\n",
      "                 Class     Images  Instances      Box(P          R      mAP50  mAP50-95): 100%|██████████| 2/2 [00:02<00:00,  1.18s/it]"
     ]
    },
    {
     "name": "stdout",
     "output_type": "stream",
     "text": [
      "                   all         64         68      0.779      0.721       0.76       0.39\n"
     ]
    },
    {
     "name": "stderr",
     "output_type": "stream",
     "text": [
      "\n"
     ]
    },
    {
     "name": "stdout",
     "output_type": "stream",
     "text": [
      "\n",
      "      Epoch    GPU_mem   box_loss   cls_loss   dfl_loss  Instances       Size\n"
     ]
    },
    {
     "name": "stderr",
     "output_type": "stream",
     "text": [
      "       6/80      16.2G      1.493      1.091      1.398         15        640: 100%|██████████| 39/39 [01:06<00:00,  1.71s/it]\n",
      "                 Class     Images  Instances      Box(P          R      mAP50  mAP50-95): 100%|██████████| 2/2 [00:02<00:00,  1.19s/it]"
     ]
    },
    {
     "name": "stdout",
     "output_type": "stream",
     "text": [
      "                   all         64         68      0.741      0.757      0.815      0.417\n"
     ]
    },
    {
     "name": "stderr",
     "output_type": "stream",
     "text": [
      "\n"
     ]
    },
    {
     "name": "stdout",
     "output_type": "stream",
     "text": [
      "\n",
      "      Epoch    GPU_mem   box_loss   cls_loss   dfl_loss  Instances       Size\n"
     ]
    },
    {
     "name": "stderr",
     "output_type": "stream",
     "text": [
      "       7/80      16.1G      1.539      1.107      1.414         16        640: 100%|██████████| 39/39 [01:06<00:00,  1.71s/it]\n",
      "                 Class     Images  Instances      Box(P          R      mAP50  mAP50-95): 100%|██████████| 2/2 [00:02<00:00,  1.24s/it]"
     ]
    },
    {
     "name": "stdout",
     "output_type": "stream",
     "text": [
      "                   all         64         68      0.784      0.691      0.672      0.346\n"
     ]
    },
    {
     "name": "stderr",
     "output_type": "stream",
     "text": [
      "\n"
     ]
    },
    {
     "name": "stdout",
     "output_type": "stream",
     "text": [
      "\n",
      "      Epoch    GPU_mem   box_loss   cls_loss   dfl_loss  Instances       Size\n"
     ]
    },
    {
     "name": "stderr",
     "output_type": "stream",
     "text": [
      "       8/80      15.9G       1.43      1.032      1.343         13        640: 100%|██████████| 39/39 [01:06<00:00,  1.71s/it]\n",
      "                 Class     Images  Instances      Box(P          R      mAP50  mAP50-95): 100%|██████████| 2/2 [00:02<00:00,  1.17s/it]"
     ]
    },
    {
     "name": "stdout",
     "output_type": "stream",
     "text": [
      "                   all         64         68      0.774      0.676      0.709      0.342\n"
     ]
    },
    {
     "name": "stderr",
     "output_type": "stream",
     "text": [
      "\n"
     ]
    },
    {
     "name": "stdout",
     "output_type": "stream",
     "text": [
      "\n",
      "      Epoch    GPU_mem   box_loss   cls_loss   dfl_loss  Instances       Size\n"
     ]
    },
    {
     "name": "stderr",
     "output_type": "stream",
     "text": [
      "       9/80        16G      1.506      1.068      1.403         17        640: 100%|██████████| 39/39 [01:07<00:00,  1.72s/it]\n",
      "                 Class     Images  Instances      Box(P          R      mAP50  mAP50-95): 100%|██████████| 2/2 [00:02<00:00,  1.15s/it]"
     ]
    },
    {
     "name": "stdout",
     "output_type": "stream",
     "text": [
      "                   all         64         68      0.747      0.782      0.787       0.43\n"
     ]
    },
    {
     "name": "stderr",
     "output_type": "stream",
     "text": [
      "\n"
     ]
    },
    {
     "name": "stdout",
     "output_type": "stream",
     "text": [
      "\n",
      "      Epoch    GPU_mem   box_loss   cls_loss   dfl_loss  Instances       Size\n"
     ]
    },
    {
     "name": "stderr",
     "output_type": "stream",
     "text": [
      "      10/80      16.6G      1.401     0.9772      1.344         16        640: 100%|██████████| 39/39 [01:06<00:00,  1.71s/it]\n",
      "                 Class     Images  Instances      Box(P          R      mAP50  mAP50-95): 100%|██████████| 2/2 [00:02<00:00,  1.16s/it]"
     ]
    },
    {
     "name": "stdout",
     "output_type": "stream",
     "text": [
      "                   all         64         68      0.752      0.721      0.773      0.383\n"
     ]
    },
    {
     "name": "stderr",
     "output_type": "stream",
     "text": [
      "\n"
     ]
    },
    {
     "name": "stdout",
     "output_type": "stream",
     "text": [
      "\n",
      "      Epoch    GPU_mem   box_loss   cls_loss   dfl_loss  Instances       Size\n"
     ]
    },
    {
     "name": "stderr",
     "output_type": "stream",
     "text": [
      "      11/80      16.2G        1.4     0.9481      1.323         19        640: 100%|██████████| 39/39 [01:06<00:00,  1.71s/it]\n",
      "                 Class     Images  Instances      Box(P          R      mAP50  mAP50-95): 100%|██████████| 2/2 [00:02<00:00,  1.24s/it]"
     ]
    },
    {
     "name": "stdout",
     "output_type": "stream",
     "text": [
      "                   all         64         68      0.764      0.763      0.768      0.401\n"
     ]
    },
    {
     "name": "stderr",
     "output_type": "stream",
     "text": [
      "\n"
     ]
    },
    {
     "name": "stdout",
     "output_type": "stream",
     "text": [
      "\n",
      "      Epoch    GPU_mem   box_loss   cls_loss   dfl_loss  Instances       Size\n"
     ]
    },
    {
     "name": "stderr",
     "output_type": "stream",
     "text": [
      "      12/80      16.1G      1.333     0.8974      1.308         15        640: 100%|██████████| 39/39 [01:06<00:00,  1.72s/it]\n",
      "                 Class     Images  Instances      Box(P          R      mAP50  mAP50-95): 100%|██████████| 2/2 [00:02<00:00,  1.17s/it]"
     ]
    },
    {
     "name": "stdout",
     "output_type": "stream",
     "text": [
      "                   all         64         68      0.767      0.727      0.799      0.403\n"
     ]
    },
    {
     "name": "stderr",
     "output_type": "stream",
     "text": [
      "\n"
     ]
    },
    {
     "name": "stdout",
     "output_type": "stream",
     "text": [
      "\n",
      "      Epoch    GPU_mem   box_loss   cls_loss   dfl_loss  Instances       Size\n"
     ]
    },
    {
     "name": "stderr",
     "output_type": "stream",
     "text": [
      "      13/80        16G      1.367     0.8882      1.331         21        640: 100%|██████████| 39/39 [01:07<00:00,  1.72s/it]\n",
      "                 Class     Images  Instances      Box(P          R      mAP50  mAP50-95): 100%|██████████| 2/2 [00:02<00:00,  1.16s/it]"
     ]
    },
    {
     "name": "stdout",
     "output_type": "stream",
     "text": [
      "                   all         64         68      0.831      0.651      0.796      0.412\n"
     ]
    },
    {
     "name": "stderr",
     "output_type": "stream",
     "text": [
      "\n"
     ]
    },
    {
     "name": "stdout",
     "output_type": "stream",
     "text": [
      "\n",
      "      Epoch    GPU_mem   box_loss   cls_loss   dfl_loss  Instances       Size\n"
     ]
    },
    {
     "name": "stderr",
     "output_type": "stream",
     "text": [
      "      14/80      16.2G      1.332     0.8688      1.309         15        640: 100%|██████████| 39/39 [01:06<00:00,  1.71s/it]\n",
      "                 Class     Images  Instances      Box(P          R      mAP50  mAP50-95): 100%|██████████| 2/2 [00:02<00:00,  1.17s/it]"
     ]
    },
    {
     "name": "stdout",
     "output_type": "stream",
     "text": [
      "                   all         64         68      0.772      0.735      0.755      0.341\n"
     ]
    },
    {
     "name": "stderr",
     "output_type": "stream",
     "text": [
      "\n"
     ]
    },
    {
     "name": "stdout",
     "output_type": "stream",
     "text": [
      "\n",
      "      Epoch    GPU_mem   box_loss   cls_loss   dfl_loss  Instances       Size\n"
     ]
    },
    {
     "name": "stderr",
     "output_type": "stream",
     "text": [
      "      15/80      16.6G       1.31     0.8179      1.282         15        640: 100%|██████████| 39/39 [01:06<00:00,  1.71s/it]\n",
      "                 Class     Images  Instances      Box(P          R      mAP50  mAP50-95): 100%|██████████| 2/2 [00:02<00:00,  1.25s/it]"
     ]
    },
    {
     "name": "stdout",
     "output_type": "stream",
     "text": [
      "                   all         64         68      0.831      0.794      0.795      0.413\n"
     ]
    },
    {
     "name": "stderr",
     "output_type": "stream",
     "text": [
      "\n"
     ]
    },
    {
     "name": "stdout",
     "output_type": "stream",
     "text": [
      "\n",
      "      Epoch    GPU_mem   box_loss   cls_loss   dfl_loss  Instances       Size\n"
     ]
    },
    {
     "name": "stderr",
     "output_type": "stream",
     "text": [
      "      16/80      16.2G       1.31     0.8489      1.307         16        640: 100%|██████████| 39/39 [01:06<00:00,  1.71s/it]\n",
      "                 Class     Images  Instances      Box(P          R      mAP50  mAP50-95): 100%|██████████| 2/2 [00:02<00:00,  1.19s/it]"
     ]
    },
    {
     "name": "stdout",
     "output_type": "stream",
     "text": [
      "                   all         64         68      0.725      0.779      0.772       0.42\n"
     ]
    },
    {
     "name": "stderr",
     "output_type": "stream",
     "text": [
      "\n"
     ]
    },
    {
     "name": "stdout",
     "output_type": "stream",
     "text": [
      "\n",
      "      Epoch    GPU_mem   box_loss   cls_loss   dfl_loss  Instances       Size\n"
     ]
    },
    {
     "name": "stderr",
     "output_type": "stream",
     "text": [
      "      17/80      16.5G      1.294     0.8762       1.29         14        640: 100%|██████████| 39/39 [01:06<00:00,  1.71s/it]\n",
      "                 Class     Images  Instances      Box(P          R      mAP50  mAP50-95): 100%|██████████| 2/2 [00:02<00:00,  1.20s/it]"
     ]
    },
    {
     "name": "stdout",
     "output_type": "stream",
     "text": [
      "                   all         64         68      0.868      0.773       0.85      0.453\n"
     ]
    },
    {
     "name": "stderr",
     "output_type": "stream",
     "text": [
      "\n"
     ]
    },
    {
     "name": "stdout",
     "output_type": "stream",
     "text": [
      "\n",
      "      Epoch    GPU_mem   box_loss   cls_loss   dfl_loss  Instances       Size\n"
     ]
    },
    {
     "name": "stderr",
     "output_type": "stream",
     "text": [
      "      18/80      16.2G      1.282     0.8168      1.265         18        640: 100%|██████████| 39/39 [01:06<00:00,  1.71s/it]\n",
      "                 Class     Images  Instances      Box(P          R      mAP50  mAP50-95): 100%|██████████| 2/2 [00:02<00:00,  1.18s/it]"
     ]
    },
    {
     "name": "stdout",
     "output_type": "stream",
     "text": [
      "                   all         64         68      0.757      0.735      0.766      0.409\n"
     ]
    },
    {
     "name": "stderr",
     "output_type": "stream",
     "text": [
      "\n"
     ]
    },
    {
     "name": "stdout",
     "output_type": "stream",
     "text": [
      "\n",
      "      Epoch    GPU_mem   box_loss   cls_loss   dfl_loss  Instances       Size\n"
     ]
    },
    {
     "name": "stderr",
     "output_type": "stream",
     "text": [
      "      19/80        16G      1.264     0.8278      1.254         17        640: 100%|██████████| 39/39 [01:07<00:00,  1.72s/it]\n",
      "                 Class     Images  Instances      Box(P          R      mAP50  mAP50-95): 100%|██████████| 2/2 [00:02<00:00,  1.21s/it]"
     ]
    },
    {
     "name": "stdout",
     "output_type": "stream",
     "text": [
      "                   all         64         68      0.892      0.728      0.801      0.403\n"
     ]
    },
    {
     "name": "stderr",
     "output_type": "stream",
     "text": [
      "\n"
     ]
    },
    {
     "name": "stdout",
     "output_type": "stream",
     "text": [
      "\n",
      "      Epoch    GPU_mem   box_loss   cls_loss   dfl_loss  Instances       Size\n"
     ]
    },
    {
     "name": "stderr",
     "output_type": "stream",
     "text": [
      "      20/80      16.6G      1.226     0.7805      1.253         17        640: 100%|██████████| 39/39 [01:06<00:00,  1.71s/it]\n",
      "                 Class     Images  Instances      Box(P          R      mAP50  mAP50-95): 100%|██████████| 2/2 [00:02<00:00,  1.18s/it]"
     ]
    },
    {
     "name": "stdout",
     "output_type": "stream",
     "text": [
      "                   all         64         68      0.875      0.691      0.822      0.445\n"
     ]
    },
    {
     "name": "stderr",
     "output_type": "stream",
     "text": [
      "\n"
     ]
    },
    {
     "name": "stdout",
     "output_type": "stream",
     "text": [
      "\n",
      "      Epoch    GPU_mem   box_loss   cls_loss   dfl_loss  Instances       Size\n"
     ]
    },
    {
     "name": "stderr",
     "output_type": "stream",
     "text": [
      "      21/80      16.1G      1.222     0.7429       1.25         15        640: 100%|██████████| 39/39 [01:07<00:00,  1.72s/it]\n",
      "                 Class     Images  Instances      Box(P          R      mAP50  mAP50-95): 100%|██████████| 2/2 [00:02<00:00,  1.15s/it]"
     ]
    },
    {
     "name": "stdout",
     "output_type": "stream",
     "text": [
      "                   all         64         68      0.854       0.75      0.839      0.455\n"
     ]
    },
    {
     "name": "stderr",
     "output_type": "stream",
     "text": [
      "\n"
     ]
    },
    {
     "name": "stdout",
     "output_type": "stream",
     "text": [
      "\n",
      "      Epoch    GPU_mem   box_loss   cls_loss   dfl_loss  Instances       Size\n"
     ]
    },
    {
     "name": "stderr",
     "output_type": "stream",
     "text": [
      "      22/80      16.1G      1.239     0.7632      1.258         20        640: 100%|██████████| 39/39 [01:06<00:00,  1.71s/it]\n",
      "                 Class     Images  Instances      Box(P          R      mAP50  mAP50-95): 100%|██████████| 2/2 [00:02<00:00,  1.16s/it]"
     ]
    },
    {
     "name": "stdout",
     "output_type": "stream",
     "text": [
      "                   all         64         68      0.846       0.75      0.847      0.418\n"
     ]
    },
    {
     "name": "stderr",
     "output_type": "stream",
     "text": [
      "\n"
     ]
    },
    {
     "name": "stdout",
     "output_type": "stream",
     "text": [
      "\n",
      "      Epoch    GPU_mem   box_loss   cls_loss   dfl_loss  Instances       Size\n"
     ]
    },
    {
     "name": "stderr",
     "output_type": "stream",
     "text": [
      "      23/80      16.2G      1.156     0.7185      1.226         20        640: 100%|██████████| 39/39 [01:06<00:00,  1.71s/it]\n",
      "                 Class     Images  Instances      Box(P          R      mAP50  mAP50-95): 100%|██████████| 2/2 [00:02<00:00,  1.24s/it]"
     ]
    },
    {
     "name": "stdout",
     "output_type": "stream",
     "text": [
      "                   all         64         68      0.833      0.765        0.8      0.457\n"
     ]
    },
    {
     "name": "stderr",
     "output_type": "stream",
     "text": [
      "\n"
     ]
    },
    {
     "name": "stdout",
     "output_type": "stream",
     "text": [
      "\n",
      "      Epoch    GPU_mem   box_loss   cls_loss   dfl_loss  Instances       Size\n"
     ]
    },
    {
     "name": "stderr",
     "output_type": "stream",
     "text": [
      "      24/80      16.1G      1.167     0.7193      1.216         23        640: 100%|██████████| 39/39 [01:06<00:00,  1.71s/it]\n",
      "                 Class     Images  Instances      Box(P          R      mAP50  mAP50-95): 100%|██████████| 2/2 [00:02<00:00,  1.16s/it]"
     ]
    },
    {
     "name": "stdout",
     "output_type": "stream",
     "text": [
      "                   all         64         68      0.956      0.765       0.85      0.504\n"
     ]
    },
    {
     "name": "stderr",
     "output_type": "stream",
     "text": [
      "\n"
     ]
    },
    {
     "name": "stdout",
     "output_type": "stream",
     "text": [
      "\n",
      "      Epoch    GPU_mem   box_loss   cls_loss   dfl_loss  Instances       Size\n"
     ]
    },
    {
     "name": "stderr",
     "output_type": "stream",
     "text": [
      "      25/80      16.4G      1.102     0.6747      1.173         17        640: 100%|██████████| 39/39 [01:06<00:00,  1.71s/it]\n",
      "                 Class     Images  Instances      Box(P          R      mAP50  mAP50-95): 100%|██████████| 2/2 [00:02<00:00,  1.15s/it]"
     ]
    },
    {
     "name": "stdout",
     "output_type": "stream",
     "text": [
      "                   all         64         68      0.862      0.779       0.86      0.472\n"
     ]
    },
    {
     "name": "stderr",
     "output_type": "stream",
     "text": [
      "\n"
     ]
    },
    {
     "name": "stdout",
     "output_type": "stream",
     "text": [
      "\n",
      "      Epoch    GPU_mem   box_loss   cls_loss   dfl_loss  Instances       Size\n"
     ]
    },
    {
     "name": "stderr",
     "output_type": "stream",
     "text": [
      "      26/80      16.1G      1.109     0.6756      1.197         17        640: 100%|██████████| 39/39 [01:06<00:00,  1.71s/it]\n",
      "                 Class     Images  Instances      Box(P          R      mAP50  mAP50-95): 100%|██████████| 2/2 [00:02<00:00,  1.14s/it]"
     ]
    },
    {
     "name": "stdout",
     "output_type": "stream",
     "text": [
      "                   all         64         68      0.893      0.809      0.826      0.461\n"
     ]
    },
    {
     "name": "stderr",
     "output_type": "stream",
     "text": [
      "\n"
     ]
    },
    {
     "name": "stdout",
     "output_type": "stream",
     "text": [
      "\n",
      "      Epoch    GPU_mem   box_loss   cls_loss   dfl_loss  Instances       Size\n"
     ]
    },
    {
     "name": "stderr",
     "output_type": "stream",
     "text": [
      "      27/80      16.2G      1.072     0.6565      1.173         16        640: 100%|██████████| 39/39 [01:06<00:00,  1.71s/it]\n",
      "                 Class     Images  Instances      Box(P          R      mAP50  mAP50-95): 100%|██████████| 2/2 [00:02<00:00,  1.23s/it]"
     ]
    },
    {
     "name": "stdout",
     "output_type": "stream",
     "text": [
      "                   all         64         68      0.862      0.721      0.819      0.447\n"
     ]
    },
    {
     "name": "stderr",
     "output_type": "stream",
     "text": [
      "\n"
     ]
    },
    {
     "name": "stdout",
     "output_type": "stream",
     "text": [
      "\n",
      "      Epoch    GPU_mem   box_loss   cls_loss   dfl_loss  Instances       Size\n"
     ]
    },
    {
     "name": "stderr",
     "output_type": "stream",
     "text": [
      "      28/80      16.4G      1.095     0.6592      1.167         15        640: 100%|██████████| 39/39 [01:06<00:00,  1.71s/it]\n",
      "                 Class     Images  Instances      Box(P          R      mAP50  mAP50-95): 100%|██████████| 2/2 [00:02<00:00,  1.18s/it]"
     ]
    },
    {
     "name": "stdout",
     "output_type": "stream",
     "text": [
      "                   all         64         68      0.935       0.84      0.874      0.464\n"
     ]
    },
    {
     "name": "stderr",
     "output_type": "stream",
     "text": [
      "\n"
     ]
    },
    {
     "name": "stdout",
     "output_type": "stream",
     "text": [
      "\n",
      "      Epoch    GPU_mem   box_loss   cls_loss   dfl_loss  Instances       Size\n"
     ]
    },
    {
     "name": "stderr",
     "output_type": "stream",
     "text": [
      "      29/80        16G      1.036     0.6307       1.15         13        640: 100%|██████████| 39/39 [01:06<00:00,  1.71s/it]\n",
      "                 Class     Images  Instances      Box(P          R      mAP50  mAP50-95): 100%|██████████| 2/2 [00:02<00:00,  1.18s/it]"
     ]
    },
    {
     "name": "stdout",
     "output_type": "stream",
     "text": [
      "                   all         64         68      0.838      0.735       0.81      0.425\n"
     ]
    },
    {
     "name": "stderr",
     "output_type": "stream",
     "text": [
      "\n"
     ]
    },
    {
     "name": "stdout",
     "output_type": "stream",
     "text": [
      "\n",
      "      Epoch    GPU_mem   box_loss   cls_loss   dfl_loss  Instances       Size\n"
     ]
    },
    {
     "name": "stderr",
     "output_type": "stream",
     "text": [
      "      30/80      16.2G      1.052     0.6419      1.145         13        640: 100%|██████████| 39/39 [01:06<00:00,  1.71s/it]\n",
      "                 Class     Images  Instances      Box(P          R      mAP50  mAP50-95): 100%|██████████| 2/2 [00:02<00:00,  1.17s/it]"
     ]
    },
    {
     "name": "stdout",
     "output_type": "stream",
     "text": [
      "                   all         64         68      0.944      0.747      0.837      0.448\n"
     ]
    },
    {
     "name": "stderr",
     "output_type": "stream",
     "text": [
      "\n"
     ]
    },
    {
     "name": "stdout",
     "output_type": "stream",
     "text": [
      "\n",
      "      Epoch    GPU_mem   box_loss   cls_loss   dfl_loss  Instances       Size\n"
     ]
    },
    {
     "name": "stderr",
     "output_type": "stream",
     "text": [
      "      31/80      16.2G       1.05     0.6333      1.159         15        640: 100%|██████████| 39/39 [01:06<00:00,  1.71s/it]\n",
      "                 Class     Images  Instances      Box(P          R      mAP50  mAP50-95): 100%|██████████| 2/2 [00:02<00:00,  1.24s/it]"
     ]
    },
    {
     "name": "stdout",
     "output_type": "stream",
     "text": [
      "                   all         64         68      0.896      0.763      0.869      0.452\n"
     ]
    },
    {
     "name": "stderr",
     "output_type": "stream",
     "text": [
      "\n"
     ]
    },
    {
     "name": "stdout",
     "output_type": "stream",
     "text": [
      "\n",
      "      Epoch    GPU_mem   box_loss   cls_loss   dfl_loss  Instances       Size\n"
     ]
    },
    {
     "name": "stderr",
     "output_type": "stream",
     "text": [
      "      32/80      15.9G     0.9982     0.6124      1.131         20        640: 100%|██████████| 39/39 [01:06<00:00,  1.71s/it]\n",
      "                 Class     Images  Instances      Box(P          R      mAP50  mAP50-95): 100%|██████████| 2/2 [00:02<00:00,  1.17s/it]"
     ]
    },
    {
     "name": "stdout",
     "output_type": "stream",
     "text": [
      "                   all         64         68       0.86      0.824      0.869      0.451\n"
     ]
    },
    {
     "name": "stderr",
     "output_type": "stream",
     "text": [
      "\n"
     ]
    },
    {
     "name": "stdout",
     "output_type": "stream",
     "text": [
      "\n",
      "      Epoch    GPU_mem   box_loss   cls_loss   dfl_loss  Instances       Size\n"
     ]
    },
    {
     "name": "stderr",
     "output_type": "stream",
     "text": [
      "      33/80      16.4G     0.9697     0.5771      1.112         16        640: 100%|██████████| 39/39 [01:06<00:00,  1.71s/it]\n",
      "                 Class     Images  Instances      Box(P          R      mAP50  mAP50-95): 100%|██████████| 2/2 [00:02<00:00,  1.17s/it]"
     ]
    },
    {
     "name": "stdout",
     "output_type": "stream",
     "text": [
      "                   all         64         68        0.9      0.735      0.851      0.437\n"
     ]
    },
    {
     "name": "stderr",
     "output_type": "stream",
     "text": [
      "\n"
     ]
    },
    {
     "name": "stdout",
     "output_type": "stream",
     "text": [
      "\n",
      "      Epoch    GPU_mem   box_loss   cls_loss   dfl_loss  Instances       Size\n"
     ]
    },
    {
     "name": "stderr",
     "output_type": "stream",
     "text": [
      "      34/80      16.2G     0.9524     0.5857      1.108         18        640: 100%|██████████| 39/39 [01:06<00:00,  1.71s/it]\n",
      "                 Class     Images  Instances      Box(P          R      mAP50  mAP50-95): 100%|██████████| 2/2 [00:02<00:00,  1.18s/it]"
     ]
    },
    {
     "name": "stdout",
     "output_type": "stream",
     "text": [
      "                   all         64         68      0.837      0.765      0.836      0.441\n"
     ]
    },
    {
     "name": "stderr",
     "output_type": "stream",
     "text": [
      "\n"
     ]
    },
    {
     "name": "stdout",
     "output_type": "stream",
     "text": [
      "\n",
      "      Epoch    GPU_mem   box_loss   cls_loss   dfl_loss  Instances       Size\n"
     ]
    },
    {
     "name": "stderr",
     "output_type": "stream",
     "text": [
      "      35/80      16.2G     0.9363     0.5661      1.093         22        640: 100%|██████████| 39/39 [01:06<00:00,  1.71s/it]\n",
      "                 Class     Images  Instances      Box(P          R      mAP50  mAP50-95): 100%|██████████| 2/2 [00:02<00:00,  1.23s/it]"
     ]
    },
    {
     "name": "stdout",
     "output_type": "stream",
     "text": [
      "                   all         64         68      0.818      0.824      0.867      0.465\n"
     ]
    },
    {
     "name": "stderr",
     "output_type": "stream",
     "text": [
      "\n"
     ]
    },
    {
     "name": "stdout",
     "output_type": "stream",
     "text": [
      "\n",
      "      Epoch    GPU_mem   box_loss   cls_loss   dfl_loss  Instances       Size\n"
     ]
    },
    {
     "name": "stderr",
     "output_type": "stream",
     "text": [
      "      36/80      16.1G     0.9172     0.5411       1.08         18        640: 100%|██████████| 39/39 [01:06<00:00,  1.71s/it]\n",
      "                 Class     Images  Instances      Box(P          R      mAP50  mAP50-95): 100%|██████████| 2/2 [00:02<00:00,  1.15s/it]"
     ]
    },
    {
     "name": "stdout",
     "output_type": "stream",
     "text": [
      "                   all         64         68      0.946       0.75      0.865      0.459\n"
     ]
    },
    {
     "name": "stderr",
     "output_type": "stream",
     "text": [
      "\n"
     ]
    },
    {
     "name": "stdout",
     "output_type": "stream",
     "text": [
      "\n",
      "      Epoch    GPU_mem   box_loss   cls_loss   dfl_loss  Instances       Size\n"
     ]
    },
    {
     "name": "stderr",
     "output_type": "stream",
     "text": [
      "      37/80        16G     0.8952     0.5217      1.073         14        640: 100%|██████████| 39/39 [01:06<00:00,  1.71s/it]\n",
      "                 Class     Images  Instances      Box(P          R      mAP50  mAP50-95): 100%|██████████| 2/2 [00:02<00:00,  1.04s/it]"
     ]
    },
    {
     "name": "stdout",
     "output_type": "stream",
     "text": [
      "                   all         64         68      0.936      0.859      0.899       0.47\n"
     ]
    },
    {
     "name": "stderr",
     "output_type": "stream",
     "text": [
      "\n"
     ]
    },
    {
     "name": "stdout",
     "output_type": "stream",
     "text": [
      "\n",
      "      Epoch    GPU_mem   box_loss   cls_loss   dfl_loss  Instances       Size\n"
     ]
    },
    {
     "name": "stderr",
     "output_type": "stream",
     "text": [
      "      38/80      16.1G     0.8667     0.5208      1.064         15        640: 100%|██████████| 39/39 [01:06<00:00,  1.71s/it]\n",
      "                 Class     Images  Instances      Box(P          R      mAP50  mAP50-95): 100%|██████████| 2/2 [00:02<00:00,  1.17s/it]"
     ]
    },
    {
     "name": "stdout",
     "output_type": "stream",
     "text": [
      "                   all         64         68      0.836      0.838      0.899      0.456\n"
     ]
    },
    {
     "name": "stderr",
     "output_type": "stream",
     "text": [
      "\n"
     ]
    },
    {
     "name": "stdout",
     "output_type": "stream",
     "text": [
      "\n",
      "      Epoch    GPU_mem   box_loss   cls_loss   dfl_loss  Instances       Size\n"
     ]
    },
    {
     "name": "stderr",
     "output_type": "stream",
     "text": [
      "      39/80      16.2G     0.8685     0.5306      1.064         17        640: 100%|██████████| 39/39 [01:06<00:00,  1.71s/it]\n",
      "                 Class     Images  Instances      Box(P          R      mAP50  mAP50-95): 100%|██████████| 2/2 [00:02<00:00,  1.24s/it]"
     ]
    },
    {
     "name": "stdout",
     "output_type": "stream",
     "text": [
      "                   all         64         68      0.943      0.809      0.883      0.432\n"
     ]
    },
    {
     "name": "stderr",
     "output_type": "stream",
     "text": [
      "\n"
     ]
    },
    {
     "name": "stdout",
     "output_type": "stream",
     "text": [
      "\n",
      "      Epoch    GPU_mem   box_loss   cls_loss   dfl_loss  Instances       Size\n"
     ]
    },
    {
     "name": "stderr",
     "output_type": "stream",
     "text": [
      "      40/80      16.2G     0.8968     0.5326      1.066         17        640: 100%|██████████| 39/39 [01:06<00:00,  1.71s/it]\n",
      "                 Class     Images  Instances      Box(P          R      mAP50  mAP50-95): 100%|██████████| 2/2 [00:02<00:00,  1.19s/it]"
     ]
    },
    {
     "name": "stdout",
     "output_type": "stream",
     "text": [
      "                   all         64         68      0.834      0.838      0.865      0.486\n"
     ]
    },
    {
     "name": "stderr",
     "output_type": "stream",
     "text": [
      "\n"
     ]
    },
    {
     "name": "stdout",
     "output_type": "stream",
     "text": [
      "\n",
      "      Epoch    GPU_mem   box_loss   cls_loss   dfl_loss  Instances       Size\n"
     ]
    },
    {
     "name": "stderr",
     "output_type": "stream",
     "text": [
      "      41/80      16.4G     0.8431     0.5151      1.053         22        640: 100%|██████████| 39/39 [01:06<00:00,  1.71s/it]\n",
      "                 Class     Images  Instances      Box(P          R      mAP50  mAP50-95): 100%|██████████| 2/2 [00:02<00:00,  1.19s/it]"
     ]
    },
    {
     "name": "stdout",
     "output_type": "stream",
     "text": [
      "                   all         64         68      0.932      0.735      0.883      0.491\n"
     ]
    },
    {
     "name": "stderr",
     "output_type": "stream",
     "text": [
      "\n"
     ]
    },
    {
     "name": "stdout",
     "output_type": "stream",
     "text": [
      "\n",
      "      Epoch    GPU_mem   box_loss   cls_loss   dfl_loss  Instances       Size\n"
     ]
    },
    {
     "name": "stderr",
     "output_type": "stream",
     "text": [
      "      42/80      16.6G     0.9006     0.5346      1.062         10        640: 100%|██████████| 39/39 [01:06<00:00,  1.71s/it]\n",
      "                 Class     Images  Instances      Box(P          R      mAP50  mAP50-95): 100%|██████████| 2/2 [00:02<00:00,  1.19s/it]"
     ]
    },
    {
     "name": "stdout",
     "output_type": "stream",
     "text": [
      "                   all         64         68      0.946      0.771      0.883       0.46\n"
     ]
    },
    {
     "name": "stderr",
     "output_type": "stream",
     "text": [
      "\n"
     ]
    },
    {
     "name": "stdout",
     "output_type": "stream",
     "text": [
      "\n",
      "      Epoch    GPU_mem   box_loss   cls_loss   dfl_loss  Instances       Size\n"
     ]
    },
    {
     "name": "stderr",
     "output_type": "stream",
     "text": [
      "      43/80      16.2G     0.8504     0.5139      1.042         16        640: 100%|██████████| 39/39 [01:06<00:00,  1.72s/it]\n",
      "                 Class     Images  Instances      Box(P          R      mAP50  mAP50-95): 100%|██████████| 2/2 [00:02<00:00,  1.23s/it]"
     ]
    },
    {
     "name": "stdout",
     "output_type": "stream",
     "text": [
      "                   all         64         68      0.916      0.794       0.89      0.485\n"
     ]
    },
    {
     "name": "stderr",
     "output_type": "stream",
     "text": [
      "\n"
     ]
    },
    {
     "name": "stdout",
     "output_type": "stream",
     "text": [
      "\n",
      "      Epoch    GPU_mem   box_loss   cls_loss   dfl_loss  Instances       Size\n"
     ]
    },
    {
     "name": "stderr",
     "output_type": "stream",
     "text": [
      "      44/80      16.2G     0.7868      0.484      1.031         12        640: 100%|██████████| 39/39 [01:06<00:00,  1.71s/it]\n",
      "                 Class     Images  Instances      Box(P          R      mAP50  mAP50-95): 100%|██████████| 2/2 [00:02<00:00,  1.19s/it]"
     ]
    },
    {
     "name": "stdout",
     "output_type": "stream",
     "text": [
      "                   all         64         68      0.946      0.774      0.875      0.474\n"
     ]
    },
    {
     "name": "stderr",
     "output_type": "stream",
     "text": [
      "\n"
     ]
    },
    {
     "name": "stdout",
     "output_type": "stream",
     "text": [
      "\n",
      "      Epoch    GPU_mem   box_loss   cls_loss   dfl_loss  Instances       Size\n"
     ]
    },
    {
     "name": "stderr",
     "output_type": "stream",
     "text": [
      "      45/80      16.4G     0.7992     0.4775       1.03         12        640: 100%|██████████| 39/39 [01:06<00:00,  1.71s/it]\n",
      "                 Class     Images  Instances      Box(P          R      mAP50  mAP50-95): 100%|██████████| 2/2 [00:02<00:00,  1.19s/it]"
     ]
    },
    {
     "name": "stdout",
     "output_type": "stream",
     "text": [
      "                   all         64         68      0.844      0.797      0.843      0.454\n"
     ]
    },
    {
     "name": "stderr",
     "output_type": "stream",
     "text": [
      "\n"
     ]
    },
    {
     "name": "stdout",
     "output_type": "stream",
     "text": [
      "\n",
      "      Epoch    GPU_mem   box_loss   cls_loss   dfl_loss  Instances       Size\n"
     ]
    },
    {
     "name": "stderr",
     "output_type": "stream",
     "text": [
      "      46/80      16.2G     0.7898     0.4679       1.01         20        640: 100%|██████████| 39/39 [01:06<00:00,  1.71s/it]\n",
      "                 Class     Images  Instances      Box(P          R      mAP50  mAP50-95): 100%|██████████| 2/2 [00:02<00:00,  1.19s/it]"
     ]
    },
    {
     "name": "stdout",
     "output_type": "stream",
     "text": [
      "                   all         64         68      0.964      0.765      0.903      0.514\n"
     ]
    },
    {
     "name": "stderr",
     "output_type": "stream",
     "text": [
      "\n"
     ]
    },
    {
     "name": "stdout",
     "output_type": "stream",
     "text": [
      "\n",
      "      Epoch    GPU_mem   box_loss   cls_loss   dfl_loss  Instances       Size\n"
     ]
    },
    {
     "name": "stderr",
     "output_type": "stream",
     "text": [
      "      47/80      16.6G     0.7948     0.4781      1.024         15        640: 100%|██████████| 39/39 [01:06<00:00,  1.71s/it]\n",
      "                 Class     Images  Instances      Box(P          R      mAP50  mAP50-95): 100%|██████████| 2/2 [00:02<00:00,  1.24s/it]"
     ]
    },
    {
     "name": "stdout",
     "output_type": "stream",
     "text": [
      "                   all         64         68      0.963      0.765      0.851      0.472\n"
     ]
    },
    {
     "name": "stderr",
     "output_type": "stream",
     "text": [
      "\n"
     ]
    },
    {
     "name": "stdout",
     "output_type": "stream",
     "text": [
      "\n",
      "      Epoch    GPU_mem   box_loss   cls_loss   dfl_loss  Instances       Size\n"
     ]
    },
    {
     "name": "stderr",
     "output_type": "stream",
     "text": [
      "      48/80      16.6G     0.7807     0.4776      1.029         12        640: 100%|██████████| 39/39 [01:06<00:00,  1.71s/it]\n",
      "                 Class     Images  Instances      Box(P          R      mAP50  mAP50-95): 100%|██████████| 2/2 [00:02<00:00,  1.19s/it]"
     ]
    },
    {
     "name": "stdout",
     "output_type": "stream",
     "text": [
      "                   all         64         68      0.862      0.765       0.84      0.463\n"
     ]
    },
    {
     "name": "stderr",
     "output_type": "stream",
     "text": [
      "\n"
     ]
    },
    {
     "name": "stdout",
     "output_type": "stream",
     "text": [
      "\n",
      "      Epoch    GPU_mem   box_loss   cls_loss   dfl_loss  Instances       Size\n"
     ]
    },
    {
     "name": "stderr",
     "output_type": "stream",
     "text": [
      "      49/80      16.5G     0.7377     0.4512     0.9973         16        640: 100%|██████████| 39/39 [01:07<00:00,  1.72s/it]\n",
      "                 Class     Images  Instances      Box(P          R      mAP50  mAP50-95): 100%|██████████| 2/2 [00:02<00:00,  1.17s/it]"
     ]
    },
    {
     "name": "stdout",
     "output_type": "stream",
     "text": [
      "                   all         64         68      0.842      0.782      0.829      0.479\n"
     ]
    },
    {
     "name": "stderr",
     "output_type": "stream",
     "text": [
      "\n"
     ]
    },
    {
     "name": "stdout",
     "output_type": "stream",
     "text": [
      "\n",
      "      Epoch    GPU_mem   box_loss   cls_loss   dfl_loss  Instances       Size\n"
     ]
    },
    {
     "name": "stderr",
     "output_type": "stream",
     "text": [
      "      50/80      16.2G     0.7067     0.4413      0.984         20        640: 100%|██████████| 39/39 [01:06<00:00,  1.71s/it]\n",
      "                 Class     Images  Instances      Box(P          R      mAP50  mAP50-95): 100%|██████████| 2/2 [00:02<00:00,  1.17s/it]"
     ]
    },
    {
     "name": "stdout",
     "output_type": "stream",
     "text": [
      "                   all         64         68      0.889      0.779      0.862       0.47\n"
     ]
    },
    {
     "name": "stderr",
     "output_type": "stream",
     "text": [
      "\n"
     ]
    },
    {
     "name": "stdout",
     "output_type": "stream",
     "text": [
      "\n",
      "      Epoch    GPU_mem   box_loss   cls_loss   dfl_loss  Instances       Size\n"
     ]
    },
    {
     "name": "stderr",
     "output_type": "stream",
     "text": [
      "      51/80      16.2G     0.7123     0.4277     0.9779         20        640: 100%|██████████| 39/39 [01:06<00:00,  1.71s/it]\n",
      "                 Class     Images  Instances      Box(P          R      mAP50  mAP50-95): 100%|██████████| 2/2 [00:02<00:00,  1.23s/it]"
     ]
    },
    {
     "name": "stdout",
     "output_type": "stream",
     "text": [
      "                   all         64         68        0.9      0.824       0.91      0.518\n"
     ]
    },
    {
     "name": "stderr",
     "output_type": "stream",
     "text": [
      "\n"
     ]
    },
    {
     "name": "stdout",
     "output_type": "stream",
     "text": [
      "\n",
      "      Epoch    GPU_mem   box_loss   cls_loss   dfl_loss  Instances       Size\n"
     ]
    },
    {
     "name": "stderr",
     "output_type": "stream",
     "text": [
      "      52/80      15.9G      0.685     0.4156      0.981         16        640: 100%|██████████| 39/39 [01:06<00:00,  1.71s/it]\n",
      "                 Class     Images  Instances      Box(P          R      mAP50  mAP50-95): 100%|██████████| 2/2 [00:02<00:00,  1.16s/it]"
     ]
    },
    {
     "name": "stdout",
     "output_type": "stream",
     "text": [
      "                   all         64         68      0.948      0.794      0.872      0.504\n"
     ]
    },
    {
     "name": "stderr",
     "output_type": "stream",
     "text": [
      "\n"
     ]
    },
    {
     "name": "stdout",
     "output_type": "stream",
     "text": [
      "\n",
      "      Epoch    GPU_mem   box_loss   cls_loss   dfl_loss  Instances       Size\n"
     ]
    },
    {
     "name": "stderr",
     "output_type": "stream",
     "text": [
      "      53/80      16.4G     0.6634     0.4045     0.9712         16        640: 100%|██████████| 39/39 [01:06<00:00,  1.71s/it]\n",
      "                 Class     Images  Instances      Box(P          R      mAP50  mAP50-95): 100%|██████████| 2/2 [00:02<00:00,  1.16s/it]"
     ]
    },
    {
     "name": "stdout",
     "output_type": "stream",
     "text": [
      "                   all         64         68      0.918      0.819      0.866        0.5\n"
     ]
    },
    {
     "name": "stderr",
     "output_type": "stream",
     "text": [
      "\n"
     ]
    },
    {
     "name": "stdout",
     "output_type": "stream",
     "text": [
      "\n",
      "      Epoch    GPU_mem   box_loss   cls_loss   dfl_loss  Instances       Size\n"
     ]
    },
    {
     "name": "stderr",
     "output_type": "stream",
     "text": [
      "      54/80      16.2G     0.6552     0.4116       0.96         21        640: 100%|██████████| 39/39 [01:06<00:00,  1.71s/it]\n",
      "                 Class     Images  Instances      Box(P          R      mAP50  mAP50-95): 100%|██████████| 2/2 [00:02<00:00,  1.17s/it]"
     ]
    },
    {
     "name": "stdout",
     "output_type": "stream",
     "text": [
      "                   all         64         68      0.891       0.84      0.872      0.511\n"
     ]
    },
    {
     "name": "stderr",
     "output_type": "stream",
     "text": [
      "\n"
     ]
    },
    {
     "name": "stdout",
     "output_type": "stream",
     "text": [
      "\n",
      "      Epoch    GPU_mem   box_loss   cls_loss   dfl_loss  Instances       Size\n"
     ]
    },
    {
     "name": "stderr",
     "output_type": "stream",
     "text": [
      "      55/80      16.2G      0.654     0.4014     0.9559         15        640: 100%|██████████| 39/39 [01:06<00:00,  1.71s/it]\n",
      "                 Class     Images  Instances      Box(P          R      mAP50  mAP50-95): 100%|██████████| 2/2 [00:02<00:00,  1.23s/it]"
     ]
    },
    {
     "name": "stdout",
     "output_type": "stream",
     "text": [
      "                   all         64         68        0.9      0.792      0.867      0.476\n"
     ]
    },
    {
     "name": "stderr",
     "output_type": "stream",
     "text": [
      "\n"
     ]
    },
    {
     "name": "stdout",
     "output_type": "stream",
     "text": [
      "\n",
      "      Epoch    GPU_mem   box_loss   cls_loss   dfl_loss  Instances       Size\n"
     ]
    },
    {
     "name": "stderr",
     "output_type": "stream",
     "text": [
      "      56/80      16.1G     0.6406      0.391     0.9512         15        640: 100%|██████████| 39/39 [01:06<00:00,  1.71s/it]\n",
      "                 Class     Images  Instances      Box(P          R      mAP50  mAP50-95): 100%|██████████| 2/2 [00:02<00:00,  1.17s/it]"
     ]
    },
    {
     "name": "stdout",
     "output_type": "stream",
     "text": [
      "                   all         64         68      0.944      0.743      0.862      0.514\n"
     ]
    },
    {
     "name": "stderr",
     "output_type": "stream",
     "text": [
      "\n"
     ]
    },
    {
     "name": "stdout",
     "output_type": "stream",
     "text": [
      "\n",
      "      Epoch    GPU_mem   box_loss   cls_loss   dfl_loss  Instances       Size\n"
     ]
    },
    {
     "name": "stderr",
     "output_type": "stream",
     "text": [
      "      57/80      16.4G     0.6398     0.4062     0.9515         16        640: 100%|██████████| 39/39 [01:06<00:00,  1.71s/it]\n",
      "                 Class     Images  Instances      Box(P          R      mAP50  mAP50-95): 100%|██████████| 2/2 [00:02<00:00,  1.17s/it]"
     ]
    },
    {
     "name": "stdout",
     "output_type": "stream",
     "text": [
      "                   all         64         68      0.935      0.824      0.888      0.492\n"
     ]
    },
    {
     "name": "stderr",
     "output_type": "stream",
     "text": [
      "\n"
     ]
    },
    {
     "name": "stdout",
     "output_type": "stream",
     "text": [
      "\n",
      "      Epoch    GPU_mem   box_loss   cls_loss   dfl_loss  Instances       Size\n"
     ]
    },
    {
     "name": "stderr",
     "output_type": "stream",
     "text": [
      "      58/80      16.2G     0.6223     0.4013       0.95         17        640: 100%|██████████| 39/39 [01:06<00:00,  1.71s/it]\n",
      "                 Class     Images  Instances      Box(P          R      mAP50  mAP50-95): 100%|██████████| 2/2 [00:02<00:00,  1.17s/it]"
     ]
    },
    {
     "name": "stdout",
     "output_type": "stream",
     "text": [
      "                   all         64         68      0.928      0.809      0.887      0.513\n"
     ]
    },
    {
     "name": "stderr",
     "output_type": "stream",
     "text": [
      "\n"
     ]
    },
    {
     "name": "stdout",
     "output_type": "stream",
     "text": [
      "\n",
      "      Epoch    GPU_mem   box_loss   cls_loss   dfl_loss  Instances       Size\n"
     ]
    },
    {
     "name": "stderr",
     "output_type": "stream",
     "text": [
      "      59/80      16.6G     0.6004     0.3815     0.9425         16        640: 100%|██████████| 39/39 [01:06<00:00,  1.71s/it]\n",
      "                 Class     Images  Instances      Box(P          R      mAP50  mAP50-95): 100%|██████████| 2/2 [00:02<00:00,  1.23s/it]"
     ]
    },
    {
     "name": "stdout",
     "output_type": "stream",
     "text": [
      "                   all         64         68      0.965      0.807      0.891      0.511\n"
     ]
    },
    {
     "name": "stderr",
     "output_type": "stream",
     "text": [
      "\n"
     ]
    },
    {
     "name": "stdout",
     "output_type": "stream",
     "text": [
      "\n",
      "      Epoch    GPU_mem   box_loss   cls_loss   dfl_loss  Instances       Size\n"
     ]
    },
    {
     "name": "stderr",
     "output_type": "stream",
     "text": [
      "      60/80      16.6G     0.6103     0.3772     0.9387         18        640: 100%|██████████| 39/39 [01:06<00:00,  1.71s/it]\n",
      "                 Class     Images  Instances      Box(P          R      mAP50  mAP50-95): 100%|██████████| 2/2 [00:02<00:00,  1.17s/it]"
     ]
    },
    {
     "name": "stdout",
     "output_type": "stream",
     "text": [
      "                   all         64         68      0.966      0.835       0.91      0.509\n"
     ]
    },
    {
     "name": "stderr",
     "output_type": "stream",
     "text": [
      "\n"
     ]
    },
    {
     "name": "stdout",
     "output_type": "stream",
     "text": [
      "\n",
      "      Epoch    GPU_mem   box_loss   cls_loss   dfl_loss  Instances       Size\n"
     ]
    },
    {
     "name": "stderr",
     "output_type": "stream",
     "text": [
      "      61/80      16.4G     0.5966     0.3746     0.9344         23        640: 100%|██████████| 39/39 [01:06<00:00,  1.71s/it]\n",
      "                 Class     Images  Instances      Box(P          R      mAP50  mAP50-95): 100%|██████████| 2/2 [00:02<00:00,  1.18s/it]"
     ]
    },
    {
     "name": "stdout",
     "output_type": "stream",
     "text": [
      "                   all         64         68      0.961      0.809      0.905      0.532\n"
     ]
    },
    {
     "name": "stderr",
     "output_type": "stream",
     "text": [
      "\n"
     ]
    },
    {
     "name": "stdout",
     "output_type": "stream",
     "text": [
      "\n",
      "      Epoch    GPU_mem   box_loss   cls_loss   dfl_loss  Instances       Size\n"
     ]
    },
    {
     "name": "stderr",
     "output_type": "stream",
     "text": [
      "      62/80      16.6G      0.567     0.3734     0.9223         14        640: 100%|██████████| 39/39 [01:06<00:00,  1.71s/it]\n",
      "                 Class     Images  Instances      Box(P          R      mAP50  mAP50-95): 100%|██████████| 2/2 [00:02<00:00,  1.18s/it]"
     ]
    },
    {
     "name": "stdout",
     "output_type": "stream",
     "text": [
      "                   all         64         68      0.871      0.838      0.883      0.534\n"
     ]
    },
    {
     "name": "stderr",
     "output_type": "stream",
     "text": [
      "\n"
     ]
    },
    {
     "name": "stdout",
     "output_type": "stream",
     "text": [
      "\n",
      "      Epoch    GPU_mem   box_loss   cls_loss   dfl_loss  Instances       Size\n"
     ]
    },
    {
     "name": "stderr",
     "output_type": "stream",
     "text": [
      "      63/80      16.6G     0.5806     0.3822     0.9359         21        640: 100%|██████████| 39/39 [01:06<00:00,  1.71s/it]\n",
      "                 Class     Images  Instances      Box(P          R      mAP50  mAP50-95): 100%|██████████| 2/2 [00:02<00:00,  1.24s/it]"
     ]
    },
    {
     "name": "stdout",
     "output_type": "stream",
     "text": [
      "                   all         64         68      0.933       0.82      0.877      0.525\n"
     ]
    },
    {
     "name": "stderr",
     "output_type": "stream",
     "text": [
      "\n"
     ]
    },
    {
     "name": "stdout",
     "output_type": "stream",
     "text": [
      "\n",
      "      Epoch    GPU_mem   box_loss   cls_loss   dfl_loss  Instances       Size\n"
     ]
    },
    {
     "name": "stderr",
     "output_type": "stream",
     "text": [
      "      64/80      15.9G      0.563     0.3633     0.9311         24        640: 100%|██████████| 39/39 [01:06<00:00,  1.71s/it]\n",
      "                 Class     Images  Instances      Box(P          R      mAP50  mAP50-95): 100%|██████████| 2/2 [00:02<00:00,  1.16s/it]"
     ]
    },
    {
     "name": "stdout",
     "output_type": "stream",
     "text": [
      "                   all         64         68       0.96      0.794      0.873      0.533\n"
     ]
    },
    {
     "name": "stderr",
     "output_type": "stream",
     "text": [
      "\n"
     ]
    },
    {
     "name": "stdout",
     "output_type": "stream",
     "text": [
      "\n",
      "      Epoch    GPU_mem   box_loss   cls_loss   dfl_loss  Instances       Size\n"
     ]
    },
    {
     "name": "stderr",
     "output_type": "stream",
     "text": [
      "      65/80      16.1G     0.5678     0.3611     0.9169         12        640: 100%|██████████| 39/39 [01:07<00:00,  1.72s/it]\n",
      "                 Class     Images  Instances      Box(P          R      mAP50  mAP50-95): 100%|██████████| 2/2 [00:02<00:00,  1.14s/it]"
     ]
    },
    {
     "name": "stdout",
     "output_type": "stream",
     "text": [
      "                   all         64         68      0.897      0.809      0.855      0.493\n"
     ]
    },
    {
     "name": "stderr",
     "output_type": "stream",
     "text": [
      "\n"
     ]
    },
    {
     "name": "stdout",
     "output_type": "stream",
     "text": [
      "\n",
      "      Epoch    GPU_mem   box_loss   cls_loss   dfl_loss  Instances       Size\n"
     ]
    },
    {
     "name": "stderr",
     "output_type": "stream",
     "text": [
      "      66/80      16.2G     0.5478     0.3523     0.9126         16        640: 100%|██████████| 39/39 [01:06<00:00,  1.71s/it]\n",
      "                 Class     Images  Instances      Box(P          R      mAP50  mAP50-95): 100%|██████████| 2/2 [00:02<00:00,  1.17s/it]"
     ]
    },
    {
     "name": "stdout",
     "output_type": "stream",
     "text": [
      "                   all         64         68      0.885       0.79      0.879      0.517\n"
     ]
    },
    {
     "name": "stderr",
     "output_type": "stream",
     "text": [
      "\n"
     ]
    },
    {
     "name": "stdout",
     "output_type": "stream",
     "text": [
      "\n",
      "      Epoch    GPU_mem   box_loss   cls_loss   dfl_loss  Instances       Size\n"
     ]
    },
    {
     "name": "stderr",
     "output_type": "stream",
     "text": [
      "      67/80      16.6G     0.5651     0.3514     0.9313         16        640: 100%|██████████| 39/39 [01:06<00:00,  1.72s/it]\n",
      "                 Class     Images  Instances      Box(P          R      mAP50  mAP50-95): 100%|██████████| 2/2 [00:02<00:00,  1.24s/it]"
     ]
    },
    {
     "name": "stdout",
     "output_type": "stream",
     "text": [
      "                   all         64         68      0.956      0.779      0.895      0.541\n"
     ]
    },
    {
     "name": "stderr",
     "output_type": "stream",
     "text": [
      "\n"
     ]
    },
    {
     "name": "stdout",
     "output_type": "stream",
     "text": [
      "\n",
      "      Epoch    GPU_mem   box_loss   cls_loss   dfl_loss  Instances       Size\n"
     ]
    },
    {
     "name": "stderr",
     "output_type": "stream",
     "text": [
      "      68/80      16.1G     0.5079     0.3229     0.9003         16        640: 100%|██████████| 39/39 [01:06<00:00,  1.71s/it]\n",
      "                 Class     Images  Instances      Box(P          R      mAP50  mAP50-95): 100%|██████████| 2/2 [00:02<00:00,  1.17s/it]"
     ]
    },
    {
     "name": "stdout",
     "output_type": "stream",
     "text": [
      "                   all         64         68      0.889      0.823      0.876      0.526\n"
     ]
    },
    {
     "name": "stderr",
     "output_type": "stream",
     "text": [
      "\n"
     ]
    },
    {
     "name": "stdout",
     "output_type": "stream",
     "text": [
      "\n",
      "      Epoch    GPU_mem   box_loss   cls_loss   dfl_loss  Instances       Size\n"
     ]
    },
    {
     "name": "stderr",
     "output_type": "stream",
     "text": [
      "      69/80        16G     0.5103     0.3351      0.901         22        640: 100%|██████████| 39/39 [01:07<00:00,  1.72s/it]\n",
      "                 Class     Images  Instances      Box(P          R      mAP50  mAP50-95): 100%|██████████| 2/2 [00:02<00:00,  1.06s/it]"
     ]
    },
    {
     "name": "stdout",
     "output_type": "stream",
     "text": [
      "                   all         64         68      0.909      0.809      0.898      0.541\n"
     ]
    },
    {
     "name": "stderr",
     "output_type": "stream",
     "text": [
      "\n"
     ]
    },
    {
     "name": "stdout",
     "output_type": "stream",
     "text": [
      "\n",
      "      Epoch    GPU_mem   box_loss   cls_loss   dfl_loss  Instances       Size\n"
     ]
    },
    {
     "name": "stderr",
     "output_type": "stream",
     "text": [
      "      70/80      16.6G     0.5283     0.3352     0.8946         23        640: 100%|██████████| 39/39 [01:06<00:00,  1.71s/it]\n",
      "                 Class     Images  Instances      Box(P          R      mAP50  mAP50-95): 100%|██████████| 2/2 [00:02<00:00,  1.18s/it]"
     ]
    },
    {
     "name": "stdout",
     "output_type": "stream",
     "text": [
      "                   all         64         68      0.891      0.838      0.886      0.521\n"
     ]
    },
    {
     "name": "stderr",
     "output_type": "stream",
     "text": [
      "\n"
     ]
    },
    {
     "name": "stdout",
     "output_type": "stream",
     "text": [
      "Closing dataloader mosaic\n",
      "\u001B[34m\u001B[1malbumentations: \u001B[0mBlur(p=0.01, blur_limit=(3, 7)), MedianBlur(p=0.01, blur_limit=(3, 7)), ToGray(p=0.01, num_output_channels=3, method='weighted_average'), CLAHE(p=0.01, clip_limit=(1.0, 4.0), tile_grid_size=(8, 8))\n"
     ]
    },
    {
     "name": "stderr",
     "output_type": "stream",
     "text": [
      "os.fork() was called. os.fork() is incompatible with multithreaded code, and JAX is multithreaded, so this will likely lead to a deadlock.\n",
      "os.fork() was called. os.fork() is incompatible with multithreaded code, and JAX is multithreaded, so this will likely lead to a deadlock.\n"
     ]
    },
    {
     "name": "stdout",
     "output_type": "stream",
     "text": [
      "\n",
      "      Epoch    GPU_mem   box_loss   cls_loss   dfl_loss  Instances       Size\n"
     ]
    },
    {
     "name": "stderr",
     "output_type": "stream",
     "text": [
      "      71/80      16.6G     0.4538     0.2804     0.8638         10        640: 100%|██████████| 39/39 [01:07<00:00,  1.73s/it]\n",
      "                 Class     Images  Instances      Box(P          R      mAP50  mAP50-95): 100%|██████████| 2/2 [00:02<00:00,  1.25s/it]"
     ]
    },
    {
     "name": "stdout",
     "output_type": "stream",
     "text": [
      "                   all         64         68      0.904      0.831      0.879      0.543\n"
     ]
    },
    {
     "name": "stderr",
     "output_type": "stream",
     "text": [
      "\n"
     ]
    },
    {
     "name": "stdout",
     "output_type": "stream",
     "text": [
      "\n",
      "      Epoch    GPU_mem   box_loss   cls_loss   dfl_loss  Instances       Size\n"
     ]
    },
    {
     "name": "stderr",
     "output_type": "stream",
     "text": [
      "      72/80      16.1G     0.4263     0.2694     0.8507         14        640: 100%|██████████| 39/39 [01:06<00:00,  1.71s/it]\n",
      "                 Class     Images  Instances      Box(P          R      mAP50  mAP50-95): 100%|██████████| 2/2 [00:02<00:00,  1.17s/it]"
     ]
    },
    {
     "name": "stdout",
     "output_type": "stream",
     "text": [
      "                   all         64         68      0.967      0.794      0.893      0.527\n"
     ]
    },
    {
     "name": "stderr",
     "output_type": "stream",
     "text": [
      "\n"
     ]
    },
    {
     "name": "stdout",
     "output_type": "stream",
     "text": [
      "\n",
      "      Epoch    GPU_mem   box_loss   cls_loss   dfl_loss  Instances       Size\n"
     ]
    },
    {
     "name": "stderr",
     "output_type": "stream",
     "text": [
      "      73/80        16G      0.413     0.2641     0.8428         10        640: 100%|██████████| 39/39 [01:07<00:00,  1.72s/it]\n",
      "                 Class     Images  Instances      Box(P          R      mAP50  mAP50-95): 100%|██████████| 2/2 [00:02<00:00,  1.04s/it]"
     ]
    },
    {
     "name": "stdout",
     "output_type": "stream",
     "text": [
      "                   all         64         68      0.983      0.831      0.896      0.543\n"
     ]
    },
    {
     "name": "stderr",
     "output_type": "stream",
     "text": [
      "\n"
     ]
    },
    {
     "name": "stdout",
     "output_type": "stream",
     "text": [
      "\n",
      "      Epoch    GPU_mem   box_loss   cls_loss   dfl_loss  Instances       Size\n"
     ]
    },
    {
     "name": "stderr",
     "output_type": "stream",
     "text": [
      "      74/80      16.1G     0.4287     0.2724     0.8611          9        640: 100%|██████████| 39/39 [01:06<00:00,  1.71s/it]\n",
      "                 Class     Images  Instances      Box(P          R      mAP50  mAP50-95): 100%|██████████| 2/2 [00:02<00:00,  1.16s/it]"
     ]
    },
    {
     "name": "stdout",
     "output_type": "stream",
     "text": [
      "                   all         64         68      0.982      0.809      0.897      0.542\n"
     ]
    },
    {
     "name": "stderr",
     "output_type": "stream",
     "text": [
      "\n"
     ]
    },
    {
     "name": "stdout",
     "output_type": "stream",
     "text": [
      "\n",
      "      Epoch    GPU_mem   box_loss   cls_loss   dfl_loss  Instances       Size\n"
     ]
    },
    {
     "name": "stderr",
     "output_type": "stream",
     "text": [
      "      75/80      16.2G     0.3999     0.2503     0.8453         12        640: 100%|██████████| 39/39 [01:06<00:00,  1.71s/it]\n",
      "                 Class     Images  Instances      Box(P          R      mAP50  mAP50-95): 100%|██████████| 2/2 [00:02<00:00,  1.24s/it]"
     ]
    },
    {
     "name": "stdout",
     "output_type": "stream",
     "text": [
      "                   all         64         68      0.977      0.809      0.895      0.542\n"
     ]
    },
    {
     "name": "stderr",
     "output_type": "stream",
     "text": [
      "\n"
     ]
    },
    {
     "name": "stdout",
     "output_type": "stream",
     "text": [
      "\n",
      "      Epoch    GPU_mem   box_loss   cls_loss   dfl_loss  Instances       Size\n"
     ]
    },
    {
     "name": "stderr",
     "output_type": "stream",
     "text": [
      "      76/80      16.1G     0.3885     0.2456     0.8324         12        640: 100%|██████████| 39/39 [01:06<00:00,  1.71s/it]\n",
      "                 Class     Images  Instances      Box(P          R      mAP50  mAP50-95): 100%|██████████| 2/2 [00:02<00:00,  1.17s/it]"
     ]
    },
    {
     "name": "stdout",
     "output_type": "stream",
     "text": [
      "                   all         64         68      0.956      0.824      0.887      0.544\n"
     ]
    },
    {
     "name": "stderr",
     "output_type": "stream",
     "text": [
      "\n"
     ]
    },
    {
     "name": "stdout",
     "output_type": "stream",
     "text": [
      "\n",
      "      Epoch    GPU_mem   box_loss   cls_loss   dfl_loss  Instances       Size\n"
     ]
    },
    {
     "name": "stderr",
     "output_type": "stream",
     "text": [
      "      77/80        16G     0.3793     0.2443     0.8381         11        640: 100%|██████████| 39/39 [01:06<00:00,  1.71s/it]\n",
      "                 Class     Images  Instances      Box(P          R      mAP50  mAP50-95): 100%|██████████| 2/2 [00:02<00:00,  1.16s/it]"
     ]
    },
    {
     "name": "stdout",
     "output_type": "stream",
     "text": [
      "                   all         64         68      0.979      0.824      0.896      0.546\n"
     ]
    },
    {
     "name": "stderr",
     "output_type": "stream",
     "text": [
      "\n"
     ]
    },
    {
     "name": "stdout",
     "output_type": "stream",
     "text": [
      "\n",
      "      Epoch    GPU_mem   box_loss   cls_loss   dfl_loss  Instances       Size\n"
     ]
    },
    {
     "name": "stderr",
     "output_type": "stream",
     "text": [
      "      78/80      16.1G     0.3686     0.2382     0.8359         11        640: 100%|██████████| 39/39 [01:06<00:00,  1.71s/it]\n",
      "                 Class     Images  Instances      Box(P          R      mAP50  mAP50-95): 100%|██████████| 2/2 [00:02<00:00,  1.16s/it]"
     ]
    },
    {
     "name": "stdout",
     "output_type": "stream",
     "text": [
      "                   all         64         68      0.979      0.824        0.9      0.548\n"
     ]
    },
    {
     "name": "stderr",
     "output_type": "stream",
     "text": [
      "\n"
     ]
    },
    {
     "name": "stdout",
     "output_type": "stream",
     "text": [
      "\n",
      "      Epoch    GPU_mem   box_loss   cls_loss   dfl_loss  Instances       Size\n"
     ]
    },
    {
     "name": "stderr",
     "output_type": "stream",
     "text": [
      "      79/80      16.2G     0.3767     0.2385     0.8393         11        640: 100%|██████████| 39/39 [01:06<00:00,  1.71s/it]\n",
      "                 Class     Images  Instances      Box(P          R      mAP50  mAP50-95): 100%|██████████| 2/2 [00:02<00:00,  1.23s/it]"
     ]
    },
    {
     "name": "stdout",
     "output_type": "stream",
     "text": [
      "                   all         64         68      0.966      0.835      0.897      0.544\n"
     ]
    },
    {
     "name": "stderr",
     "output_type": "stream",
     "text": [
      "\n"
     ]
    },
    {
     "name": "stdout",
     "output_type": "stream",
     "text": [
      "\n",
      "      Epoch    GPU_mem   box_loss   cls_loss   dfl_loss  Instances       Size\n"
     ]
    },
    {
     "name": "stderr",
     "output_type": "stream",
     "text": [
      "      80/80      16.1G     0.3537      0.232     0.8382         11        640: 100%|██████████| 39/39 [01:06<00:00,  1.71s/it]\n",
      "                 Class     Images  Instances      Box(P          R      mAP50  mAP50-95): 100%|██████████| 2/2 [00:02<00:00,  1.15s/it]"
     ]
    },
    {
     "name": "stdout",
     "output_type": "stream",
     "text": [
      "                   all         64         68      0.966      0.834      0.898      0.549\n"
     ]
    },
    {
     "name": "stderr",
     "output_type": "stream",
     "text": [
      "\n"
     ]
    },
    {
     "name": "stdout",
     "output_type": "stream",
     "text": [
      "\n",
      "80 epochs completed in 1.588 hours.\n",
      "Optimizer stripped from runs/detect/train/weights/last.pt, 114.4MB\n",
      "Optimizer stripped from runs/detect/train/weights/best.pt, 114.4MB\n",
      "\n",
      "Validating runs/detect/train/weights/best.pt...\n",
      "Ultralytics 8.3.49 🚀 Python-3.10.14 torch-2.4.0 CUDA:0 (Tesla P100-PCIE-16GB, 16269MiB)\n",
      "YOLO11x summary (fused): 464 layers, 56,828,179 parameters, 0 gradients, 194.4 GFLOPs\n"
     ]
    },
    {
     "name": "stderr",
     "output_type": "stream",
     "text": [
      "                 Class     Images  Instances      Box(P          R      mAP50  mAP50-95): 100%|██████████| 2/2 [00:02<00:00,  1.14s/it]\n"
     ]
    },
    {
     "name": "stdout",
     "output_type": "stream",
     "text": [
      "                   all         64         68      0.961      0.824      0.897      0.554\n",
      "Speed: 0.2ms preprocess, 30.5ms inference, 0.0ms loss, 1.6ms postprocess per image\n",
      "Results saved to \u001B[1mruns/detect/train\u001B[0m\n"
     ]
    },
    {
     "data": {
      "text/plain": [
       "ultralytics.utils.metrics.DetMetrics object with attributes:\n",
       "\n",
       "ap_class_index: array([0])\n",
       "box: ultralytics.utils.metrics.Metric object\n",
       "confusion_matrix: <ultralytics.utils.metrics.ConfusionMatrix object at 0x7cd691aec130>\n",
       "curves: ['Precision-Recall(B)', 'F1-Confidence(B)', 'Precision-Confidence(B)', 'Recall-Confidence(B)']\n",
       "curves_results: [[array([          0,    0.001001,    0.002002,    0.003003,    0.004004,    0.005005,    0.006006,    0.007007,    0.008008,    0.009009,     0.01001,    0.011011,    0.012012,    0.013013,    0.014014,    0.015015,    0.016016,    0.017017,    0.018018,    0.019019,     0.02002,    0.021021,    0.022022,    0.023023,\n",
       "          0.024024,    0.025025,    0.026026,    0.027027,    0.028028,    0.029029,     0.03003,    0.031031,    0.032032,    0.033033,    0.034034,    0.035035,    0.036036,    0.037037,    0.038038,    0.039039,     0.04004,    0.041041,    0.042042,    0.043043,    0.044044,    0.045045,    0.046046,    0.047047,\n",
       "          0.048048,    0.049049,     0.05005,    0.051051,    0.052052,    0.053053,    0.054054,    0.055055,    0.056056,    0.057057,    0.058058,    0.059059,     0.06006,    0.061061,    0.062062,    0.063063,    0.064064,    0.065065,    0.066066,    0.067067,    0.068068,    0.069069,     0.07007,    0.071071,\n",
       "          0.072072,    0.073073,    0.074074,    0.075075,    0.076076,    0.077077,    0.078078,    0.079079,     0.08008,    0.081081,    0.082082,    0.083083,    0.084084,    0.085085,    0.086086,    0.087087,    0.088088,    0.089089,     0.09009,    0.091091,    0.092092,    0.093093,    0.094094,    0.095095,\n",
       "          0.096096,    0.097097,    0.098098,    0.099099,      0.1001,      0.1011,      0.1021,      0.1031,      0.1041,     0.10511,     0.10611,     0.10711,     0.10811,     0.10911,     0.11011,     0.11111,     0.11211,     0.11311,     0.11411,     0.11512,     0.11612,     0.11712,     0.11812,     0.11912,\n",
       "           0.12012,     0.12112,     0.12212,     0.12312,     0.12412,     0.12513,     0.12613,     0.12713,     0.12813,     0.12913,     0.13013,     0.13113,     0.13213,     0.13313,     0.13413,     0.13514,     0.13614,     0.13714,     0.13814,     0.13914,     0.14014,     0.14114,     0.14214,     0.14314,\n",
       "           0.14414,     0.14515,     0.14615,     0.14715,     0.14815,     0.14915,     0.15015,     0.15115,     0.15215,     0.15315,     0.15415,     0.15516,     0.15616,     0.15716,     0.15816,     0.15916,     0.16016,     0.16116,     0.16216,     0.16316,     0.16416,     0.16517,     0.16617,     0.16717,\n",
       "           0.16817,     0.16917,     0.17017,     0.17117,     0.17217,     0.17317,     0.17417,     0.17518,     0.17618,     0.17718,     0.17818,     0.17918,     0.18018,     0.18118,     0.18218,     0.18318,     0.18418,     0.18519,     0.18619,     0.18719,     0.18819,     0.18919,     0.19019,     0.19119,\n",
       "           0.19219,     0.19319,     0.19419,      0.1952,      0.1962,      0.1972,      0.1982,      0.1992,      0.2002,      0.2012,      0.2022,      0.2032,      0.2042,     0.20521,     0.20621,     0.20721,     0.20821,     0.20921,     0.21021,     0.21121,     0.21221,     0.21321,     0.21421,     0.21522,\n",
       "           0.21622,     0.21722,     0.21822,     0.21922,     0.22022,     0.22122,     0.22222,     0.22322,     0.22422,     0.22523,     0.22623,     0.22723,     0.22823,     0.22923,     0.23023,     0.23123,     0.23223,     0.23323,     0.23423,     0.23524,     0.23624,     0.23724,     0.23824,     0.23924,\n",
       "           0.24024,     0.24124,     0.24224,     0.24324,     0.24424,     0.24525,     0.24625,     0.24725,     0.24825,     0.24925,     0.25025,     0.25125,     0.25225,     0.25325,     0.25425,     0.25526,     0.25626,     0.25726,     0.25826,     0.25926,     0.26026,     0.26126,     0.26226,     0.26326,\n",
       "           0.26426,     0.26527,     0.26627,     0.26727,     0.26827,     0.26927,     0.27027,     0.27127,     0.27227,     0.27327,     0.27427,     0.27528,     0.27628,     0.27728,     0.27828,     0.27928,     0.28028,     0.28128,     0.28228,     0.28328,     0.28428,     0.28529,     0.28629,     0.28729,\n",
       "           0.28829,     0.28929,     0.29029,     0.29129,     0.29229,     0.29329,     0.29429,      0.2953,      0.2963,      0.2973,      0.2983,      0.2993,      0.3003,      0.3013,      0.3023,      0.3033,      0.3043,     0.30531,     0.30631,     0.30731,     0.30831,     0.30931,     0.31031,     0.31131,\n",
       "           0.31231,     0.31331,     0.31431,     0.31532,     0.31632,     0.31732,     0.31832,     0.31932,     0.32032,     0.32132,     0.32232,     0.32332,     0.32432,     0.32533,     0.32633,     0.32733,     0.32833,     0.32933,     0.33033,     0.33133,     0.33233,     0.33333,     0.33433,     0.33534,\n",
       "           0.33634,     0.33734,     0.33834,     0.33934,     0.34034,     0.34134,     0.34234,     0.34334,     0.34434,     0.34535,     0.34635,     0.34735,     0.34835,     0.34935,     0.35035,     0.35135,     0.35235,     0.35335,     0.35435,     0.35536,     0.35636,     0.35736,     0.35836,     0.35936,\n",
       "           0.36036,     0.36136,     0.36236,     0.36336,     0.36436,     0.36537,     0.36637,     0.36737,     0.36837,     0.36937,     0.37037,     0.37137,     0.37237,     0.37337,     0.37437,     0.37538,     0.37638,     0.37738,     0.37838,     0.37938,     0.38038,     0.38138,     0.38238,     0.38338,\n",
       "           0.38438,     0.38539,     0.38639,     0.38739,     0.38839,     0.38939,     0.39039,     0.39139,     0.39239,     0.39339,     0.39439,      0.3954,      0.3964,      0.3974,      0.3984,      0.3994,      0.4004,      0.4014,      0.4024,      0.4034,      0.4044,     0.40541,     0.40641,     0.40741,\n",
       "           0.40841,     0.40941,     0.41041,     0.41141,     0.41241,     0.41341,     0.41441,     0.41542,     0.41642,     0.41742,     0.41842,     0.41942,     0.42042,     0.42142,     0.42242,     0.42342,     0.42442,     0.42543,     0.42643,     0.42743,     0.42843,     0.42943,     0.43043,     0.43143,\n",
       "           0.43243,     0.43343,     0.43443,     0.43544,     0.43644,     0.43744,     0.43844,     0.43944,     0.44044,     0.44144,     0.44244,     0.44344,     0.44444,     0.44545,     0.44645,     0.44745,     0.44845,     0.44945,     0.45045,     0.45145,     0.45245,     0.45345,     0.45445,     0.45546,\n",
       "           0.45646,     0.45746,     0.45846,     0.45946,     0.46046,     0.46146,     0.46246,     0.46346,     0.46446,     0.46547,     0.46647,     0.46747,     0.46847,     0.46947,     0.47047,     0.47147,     0.47247,     0.47347,     0.47447,     0.47548,     0.47648,     0.47748,     0.47848,     0.47948,\n",
       "           0.48048,     0.48148,     0.48248,     0.48348,     0.48448,     0.48549,     0.48649,     0.48749,     0.48849,     0.48949,     0.49049,     0.49149,     0.49249,     0.49349,     0.49449,      0.4955,      0.4965,      0.4975,      0.4985,      0.4995,      0.5005,      0.5015,      0.5025,      0.5035,\n",
       "            0.5045,     0.50551,     0.50651,     0.50751,     0.50851,     0.50951,     0.51051,     0.51151,     0.51251,     0.51351,     0.51451,     0.51552,     0.51652,     0.51752,     0.51852,     0.51952,     0.52052,     0.52152,     0.52252,     0.52352,     0.52452,     0.52553,     0.52653,     0.52753,\n",
       "           0.52853,     0.52953,     0.53053,     0.53153,     0.53253,     0.53353,     0.53453,     0.53554,     0.53654,     0.53754,     0.53854,     0.53954,     0.54054,     0.54154,     0.54254,     0.54354,     0.54454,     0.54555,     0.54655,     0.54755,     0.54855,     0.54955,     0.55055,     0.55155,\n",
       "           0.55255,     0.55355,     0.55455,     0.55556,     0.55656,     0.55756,     0.55856,     0.55956,     0.56056,     0.56156,     0.56256,     0.56356,     0.56456,     0.56557,     0.56657,     0.56757,     0.56857,     0.56957,     0.57057,     0.57157,     0.57257,     0.57357,     0.57457,     0.57558,\n",
       "           0.57658,     0.57758,     0.57858,     0.57958,     0.58058,     0.58158,     0.58258,     0.58358,     0.58458,     0.58559,     0.58659,     0.58759,     0.58859,     0.58959,     0.59059,     0.59159,     0.59259,     0.59359,     0.59459,      0.5956,      0.5966,      0.5976,      0.5986,      0.5996,\n",
       "            0.6006,      0.6016,      0.6026,      0.6036,      0.6046,     0.60561,     0.60661,     0.60761,     0.60861,     0.60961,     0.61061,     0.61161,     0.61261,     0.61361,     0.61461,     0.61562,     0.61662,     0.61762,     0.61862,     0.61962,     0.62062,     0.62162,     0.62262,     0.62362,\n",
       "           0.62462,     0.62563,     0.62663,     0.62763,     0.62863,     0.62963,     0.63063,     0.63163,     0.63263,     0.63363,     0.63463,     0.63564,     0.63664,     0.63764,     0.63864,     0.63964,     0.64064,     0.64164,     0.64264,     0.64364,     0.64464,     0.64565,     0.64665,     0.64765,\n",
       "           0.64865,     0.64965,     0.65065,     0.65165,     0.65265,     0.65365,     0.65465,     0.65566,     0.65666,     0.65766,     0.65866,     0.65966,     0.66066,     0.66166,     0.66266,     0.66366,     0.66466,     0.66567,     0.66667,     0.66767,     0.66867,     0.66967,     0.67067,     0.67167,\n",
       "           0.67267,     0.67367,     0.67467,     0.67568,     0.67668,     0.67768,     0.67868,     0.67968,     0.68068,     0.68168,     0.68268,     0.68368,     0.68468,     0.68569,     0.68669,     0.68769,     0.68869,     0.68969,     0.69069,     0.69169,     0.69269,     0.69369,     0.69469,      0.6957,\n",
       "            0.6967,      0.6977,      0.6987,      0.6997,      0.7007,      0.7017,      0.7027,      0.7037,      0.7047,     0.70571,     0.70671,     0.70771,     0.70871,     0.70971,     0.71071,     0.71171,     0.71271,     0.71371,     0.71471,     0.71572,     0.71672,     0.71772,     0.71872,     0.71972,\n",
       "           0.72072,     0.72172,     0.72272,     0.72372,     0.72472,     0.72573,     0.72673,     0.72773,     0.72873,     0.72973,     0.73073,     0.73173,     0.73273,     0.73373,     0.73473,     0.73574,     0.73674,     0.73774,     0.73874,     0.73974,     0.74074,     0.74174,     0.74274,     0.74374,\n",
       "           0.74474,     0.74575,     0.74675,     0.74775,     0.74875,     0.74975,     0.75075,     0.75175,     0.75275,     0.75375,     0.75475,     0.75576,     0.75676,     0.75776,     0.75876,     0.75976,     0.76076,     0.76176,     0.76276,     0.76376,     0.76476,     0.76577,     0.76677,     0.76777,\n",
       "           0.76877,     0.76977,     0.77077,     0.77177,     0.77277,     0.77377,     0.77477,     0.77578,     0.77678,     0.77778,     0.77878,     0.77978,     0.78078,     0.78178,     0.78278,     0.78378,     0.78478,     0.78579,     0.78679,     0.78779,     0.78879,     0.78979,     0.79079,     0.79179,\n",
       "           0.79279,     0.79379,     0.79479,      0.7958,      0.7968,      0.7978,      0.7988,      0.7998,      0.8008,      0.8018,      0.8028,      0.8038,      0.8048,     0.80581,     0.80681,     0.80781,     0.80881,     0.80981,     0.81081,     0.81181,     0.81281,     0.81381,     0.81481,     0.81582,\n",
       "           0.81682,     0.81782,     0.81882,     0.81982,     0.82082,     0.82182,     0.82282,     0.82382,     0.82482,     0.82583,     0.82683,     0.82783,     0.82883,     0.82983,     0.83083,     0.83183,     0.83283,     0.83383,     0.83483,     0.83584,     0.83684,     0.83784,     0.83884,     0.83984,\n",
       "           0.84084,     0.84184,     0.84284,     0.84384,     0.84484,     0.84585,     0.84685,     0.84785,     0.84885,     0.84985,     0.85085,     0.85185,     0.85285,     0.85385,     0.85485,     0.85586,     0.85686,     0.85786,     0.85886,     0.85986,     0.86086,     0.86186,     0.86286,     0.86386,\n",
       "           0.86486,     0.86587,     0.86687,     0.86787,     0.86887,     0.86987,     0.87087,     0.87187,     0.87287,     0.87387,     0.87487,     0.87588,     0.87688,     0.87788,     0.87888,     0.87988,     0.88088,     0.88188,     0.88288,     0.88388,     0.88488,     0.88589,     0.88689,     0.88789,\n",
       "           0.88889,     0.88989,     0.89089,     0.89189,     0.89289,     0.89389,     0.89489,      0.8959,      0.8969,      0.8979,      0.8989,      0.8999,      0.9009,      0.9019,      0.9029,      0.9039,      0.9049,     0.90591,     0.90691,     0.90791,     0.90891,     0.90991,     0.91091,     0.91191,\n",
       "           0.91291,     0.91391,     0.91491,     0.91592,     0.91692,     0.91792,     0.91892,     0.91992,     0.92092,     0.92192,     0.92292,     0.92392,     0.92492,     0.92593,     0.92693,     0.92793,     0.92893,     0.92993,     0.93093,     0.93193,     0.93293,     0.93393,     0.93493,     0.93594,\n",
       "           0.93694,     0.93794,     0.93894,     0.93994,     0.94094,     0.94194,     0.94294,     0.94394,     0.94494,     0.94595,     0.94695,     0.94795,     0.94895,     0.94995,     0.95095,     0.95195,     0.95295,     0.95395,     0.95495,     0.95596,     0.95696,     0.95796,     0.95896,     0.95996,\n",
       "           0.96096,     0.96196,     0.96296,     0.96396,     0.96496,     0.96597,     0.96697,     0.96797,     0.96897,     0.96997,     0.97097,     0.97197,     0.97297,     0.97397,     0.97497,     0.97598,     0.97698,     0.97798,     0.97898,     0.97998,     0.98098,     0.98198,     0.98298,     0.98398,\n",
       "           0.98498,     0.98599,     0.98699,     0.98799,     0.98899,     0.98999,     0.99099,     0.99199,     0.99299,     0.99399,     0.99499,       0.996,       0.997,       0.998,       0.999,           1]), array([[          1,           1,           1,           1,           1,           1,           1,           1,           1,           1,           1,           1,           1,           1,           1,           1,           1,           1,           1,           1,           1,           1,           1,\n",
       "                  1,           1,           1,           1,           1,           1,           1,           1,           1,           1,           1,           1,           1,           1,           1,           1,           1,           1,           1,           1,           1,           1,           1,\n",
       "                  1,           1,           1,           1,           1,           1,           1,           1,           1,           1,           1,           1,           1,           1,           1,           1,           1,           1,           1,           1,           1,           1,           1,\n",
       "                  1,           1,           1,           1,           1,           1,           1,           1,           1,           1,           1,           1,           1,           1,           1,           1,           1,           1,           1,           1,           1,           1,           1,\n",
       "                  1,           1,           1,           1,           1,           1,           1,           1,           1,           1,           1,           1,           1,           1,           1,           1,           1,           1,           1,           1,           1,           1,           1,\n",
       "                  1,           1,           1,           1,           1,           1,           1,           1,           1,           1,           1,           1,           1,           1,           1,           1,           1,           1,           1,           1,           1,           1,           1,\n",
       "                  1,           1,           1,           1,           1,           1,           1,           1,           1,           1,           1,           1,           1,           1,           1,           1,           1,           1,           1,           1,           1,           1,           1,\n",
       "                  1,           1,           1,           1,           1,           1,           1,           1,           1,           1,           1,           1,           1,           1,           1,           1,           1,           1,           1,           1,           1,           1,           1,\n",
       "                  1,           1,           1,           1,           1,           1,           1,           1,           1,           1,           1,           1,           1,           1,           1,           1,           1,           1,           1,           1,           1,           1,           1,\n",
       "                  1,           1,           1,           1,           1,           1,           1,           1,           1,           1,           1,           1,           1,           1,           1,           1,           1,           1,           1,           1,           1,           1,           1,\n",
       "                  1,           1,           1,           1,           1,           1,           1,           1,           1,           1,           1,           1,           1,           1,           1,           1,           1,           1,           1,           1,        0.98,        0.98,        0.98,\n",
       "               0.98,        0.98,        0.98,        0.98,        0.98,        0.98,        0.98,        0.98,        0.98,        0.98,        0.98,        0.98,        0.98,        0.98,        0.98,        0.98,        0.98,        0.98,        0.98,        0.98,        0.98,        0.98,        0.98,\n",
       "               0.98,        0.98,        0.98,        0.98,        0.98,        0.98,        0.98,        0.98,        0.98,        0.98,        0.98,        0.98,        0.98,        0.98,        0.98,        0.98,        0.98,        0.98,        0.98,        0.98,        0.98,        0.98,        0.98,\n",
       "               0.98,        0.98,        0.98,        0.98,        0.98,        0.98,        0.98,        0.98,        0.98,        0.98,        0.98,        0.98,        0.98,        0.98,        0.98,        0.98,        0.98,        0.98,        0.98,        0.98,        0.98,        0.98,        0.98,\n",
       "               0.98,        0.98,        0.98,        0.98,        0.98,        0.98,        0.98,        0.98,        0.98,        0.98,        0.98,        0.98,        0.98,        0.98,        0.98,        0.98,        0.98,        0.98,        0.98,        0.98,        0.98,        0.98,        0.98,\n",
       "               0.98,        0.98,        0.98,        0.98,        0.98,        0.98,        0.98,        0.98,        0.98,        0.98,        0.98,        0.98,        0.98,        0.98,        0.98,        0.98,        0.98,        0.98,        0.98,        0.98,        0.98,        0.98,        0.98,\n",
       "               0.98,        0.98,        0.98,        0.98,        0.98,        0.98,        0.98,        0.98,        0.98,        0.98,        0.98,        0.98,        0.98,        0.98,        0.98,        0.98,        0.98,        0.98,        0.98,        0.98,        0.98,        0.98,        0.98,\n",
       "               0.98,        0.98,        0.98,        0.98,        0.98,        0.98,        0.98,        0.98,        0.98,        0.98,        0.98,        0.98,        0.98,        0.98,        0.98,        0.98,        0.98,        0.98,        0.98,        0.98,        0.98,        0.98,        0.98,\n",
       "               0.98,        0.98,        0.98,        0.98,        0.98,        0.98,        0.98,        0.98,        0.98,        0.98,        0.98,        0.98,        0.98,        0.98,        0.98,        0.98,        0.98,        0.98,        0.98,        0.98,        0.98,        0.98,        0.98,\n",
       "               0.98,        0.98,        0.98,        0.98,        0.98,        0.98,        0.98,        0.98,        0.98,        0.98,        0.98,        0.98,        0.98,        0.98,        0.98,        0.98,        0.98,        0.98,        0.98,        0.98,        0.98,        0.98,        0.98,\n",
       "               0.98,        0.98,        0.98,        0.98,        0.98,        0.98,        0.98,        0.98,        0.98,        0.98,        0.98,        0.98,        0.98,        0.98,        0.98,        0.98,        0.98,        0.98,        0.98,        0.98,        0.98,        0.98,        0.98,\n",
       "               0.98,        0.98,        0.98,        0.98,        0.98,        0.98,        0.98,        0.98,        0.98,        0.98,        0.98,        0.98,        0.98,        0.98,        0.98,        0.98,        0.98,        0.98,        0.98,        0.98,        0.98,        0.98,        0.98,\n",
       "               0.98,        0.98,        0.98,        0.98,        0.98,        0.98,        0.98,        0.98,        0.98,        0.98,        0.98,        0.98,        0.98,        0.98,        0.98,        0.98,        0.98,        0.98,        0.98,        0.98,        0.98,        0.98,        0.98,\n",
       "               0.98,        0.98,        0.98,        0.98,        0.98,        0.98,        0.98,        0.98,        0.98,        0.98,        0.98,        0.98,        0.98,        0.98,        0.98,        0.98,        0.98,        0.98,        0.98,        0.98,        0.98,        0.98,        0.98,\n",
       "               0.98,        0.98,        0.98,        0.98,        0.98,        0.98,        0.98,        0.98,        0.98,        0.98,        0.98,        0.98,        0.98,        0.98,        0.98,        0.98,        0.98,        0.98,        0.98,        0.98,        0.98,        0.98,        0.98,\n",
       "               0.98,        0.98,        0.98,        0.98,        0.98,        0.98,        0.98,        0.98,        0.98,        0.98,        0.98,        0.98,        0.98,        0.98,        0.98,        0.98,        0.98,        0.98,        0.98,        0.98,        0.98,        0.98,        0.98,\n",
       "               0.98,        0.98,        0.98,        0.98,        0.98,        0.98,        0.98,        0.98,        0.98,        0.98,        0.98,        0.98,        0.98,        0.98,        0.98,        0.98,        0.98,        0.98,        0.98,        0.98,        0.98,        0.98,        0.98,\n",
       "               0.98,        0.98,        0.98,        0.98,        0.98,        0.98,        0.98,        0.98,        0.98,        0.98,        0.98,        0.98,        0.98,        0.98,        0.98,        0.98,        0.98,        0.98,        0.98,        0.98,        0.98,        0.98,        0.98,\n",
       "               0.98,        0.98,        0.98,        0.98,        0.98,        0.98,        0.98,        0.98,        0.98,        0.98,        0.98,        0.98,        0.98,        0.98,        0.98,        0.98,        0.98,        0.98,        0.98,        0.98,        0.98,        0.98,        0.98,\n",
       "               0.98,        0.98,        0.98,        0.98,        0.98,        0.98,        0.98,        0.98,        0.98,        0.98,        0.98,        0.98,        0.98,        0.98,        0.98,        0.98,        0.98,        0.98,        0.98,        0.98,        0.98,        0.98,        0.98,\n",
       "               0.98,        0.98,        0.98,        0.98,        0.98,        0.98,        0.98,        0.98,        0.98,        0.98,        0.98,        0.98,        0.98,        0.98,        0.98,        0.98,        0.98,        0.98,        0.98,        0.98,        0.98,        0.98,        0.98,\n",
       "               0.98,        0.98,        0.98,        0.98,        0.98,        0.98,        0.98,     0.96552,     0.96552,     0.96552,     0.96552,     0.96552,     0.96552,     0.96552,     0.96552,     0.96552,     0.96552,     0.96552,     0.96552,     0.96552,     0.96552,     0.96552,     0.96552,\n",
       "            0.96552,     0.96552,     0.96552,     0.96552,     0.96552,     0.96552,     0.96552,     0.96552,     0.96552,     0.96552,     0.96552,     0.96552,     0.96552,     0.96552,     0.96552,     0.96552,     0.96552,     0.96552,     0.96552,     0.96552,     0.96552,     0.96552,     0.96552,\n",
       "            0.96552,     0.96552,     0.96552,     0.96552,     0.96552,     0.96552,     0.96552,     0.96552,     0.96552,     0.96552,     0.96552,     0.96552,     0.96552,     0.96552,     0.96552,     0.96552,     0.96552,     0.96552,     0.96552,     0.96552,     0.96552,     0.96552,     0.96552,\n",
       "            0.96552,     0.96552,     0.96552,     0.96552,     0.96552,     0.96552,     0.96552,     0.96552,     0.96552,     0.96552,     0.96552,     0.96552,     0.96552,     0.96552,     0.96552,     0.96552,     0.96552,     0.96552,     0.96552,     0.96552,     0.96552,     0.96552,     0.96552,\n",
       "            0.96552,     0.96552,     0.96552,     0.96552,     0.96552,     0.96552,     0.96552,     0.96552,     0.96552,     0.96552,     0.96552,     0.96552,     0.96552,     0.96552,     0.96552,     0.96552,     0.96552,     0.96552,        0.95,        0.95,        0.95,        0.95,        0.95,\n",
       "               0.95,        0.95,        0.95,        0.95,        0.95,        0.95,        0.95,        0.95,        0.95,        0.95,     0.77632,     0.77632,     0.77632,     0.77632,     0.77632,     0.77632,     0.77632,     0.77632,     0.77632,     0.77632,     0.77632,     0.77632,     0.77632,\n",
       "            0.77632,     0.77632,     0.77632,     0.77632,     0.77632,     0.77632,     0.77632,     0.77632,     0.77632,     0.77632,     0.77632,     0.77632,     0.77632,     0.77632,     0.77632,     0.77632,     0.75949,     0.75949,     0.75949,     0.75949,     0.75949,     0.75949,     0.75949,\n",
       "            0.75949,     0.75949,     0.75949,     0.75949,     0.75949,     0.75949,     0.75949,     0.75949,     0.68539,     0.68539,     0.68539,     0.68539,     0.68539,     0.68539,     0.68539,     0.68539,     0.68539,     0.68539,     0.68539,     0.68539,     0.68539,     0.68539,     0.68539,\n",
       "            0.60194,     0.60194,     0.60194,     0.60194,     0.60194,     0.60194,     0.60194,     0.60194,     0.60194,     0.60194,     0.60194,     0.60194,     0.60194,     0.60194,     0.43589,     0.43094,     0.42598,     0.42103,     0.41608,     0.41112,     0.40617,     0.40122,     0.39626,\n",
       "            0.39131,     0.38636,      0.3814,     0.37645,      0.3715,     0.36654,     0.36159,     0.35664,     0.35169,     0.34673,     0.34178,     0.33683,     0.33187,     0.32692,     0.32197,     0.31701,     0.31206,     0.30711,     0.30215,      0.2972,     0.29225,     0.28729,     0.28234,\n",
       "            0.27739,     0.27243,     0.26748,     0.26253,     0.25757,     0.25262,     0.24767,     0.24271,     0.23776,     0.23281,     0.22785,      0.2229,     0.21795,     0.21299,     0.20804,     0.20309,     0.19813,     0.19318,     0.18823,     0.18327,     0.17832,     0.17337,     0.16841,\n",
       "            0.16346,     0.15851,     0.15355,      0.1486,     0.14365,     0.13869,     0.13374,     0.12879,     0.12383,     0.11888,     0.11393,     0.10897,     0.10402,    0.099066,    0.094113,     0.08916,    0.084206,    0.079253,      0.0743,    0.069346,    0.064393,     0.05944,    0.054486,\n",
       "           0.049533,     0.04458,    0.039626,    0.034673,     0.02972,    0.024767,    0.019813,     0.01486,   0.0099066,   0.0049533,           0]]), 'Recall', 'Precision'], [array([          0,    0.001001,    0.002002,    0.003003,    0.004004,    0.005005,    0.006006,    0.007007,    0.008008,    0.009009,     0.01001,    0.011011,    0.012012,    0.013013,    0.014014,    0.015015,    0.016016,    0.017017,    0.018018,    0.019019,     0.02002,    0.021021,    0.022022,    0.023023,\n",
       "          0.024024,    0.025025,    0.026026,    0.027027,    0.028028,    0.029029,     0.03003,    0.031031,    0.032032,    0.033033,    0.034034,    0.035035,    0.036036,    0.037037,    0.038038,    0.039039,     0.04004,    0.041041,    0.042042,    0.043043,    0.044044,    0.045045,    0.046046,    0.047047,\n",
       "          0.048048,    0.049049,     0.05005,    0.051051,    0.052052,    0.053053,    0.054054,    0.055055,    0.056056,    0.057057,    0.058058,    0.059059,     0.06006,    0.061061,    0.062062,    0.063063,    0.064064,    0.065065,    0.066066,    0.067067,    0.068068,    0.069069,     0.07007,    0.071071,\n",
       "          0.072072,    0.073073,    0.074074,    0.075075,    0.076076,    0.077077,    0.078078,    0.079079,     0.08008,    0.081081,    0.082082,    0.083083,    0.084084,    0.085085,    0.086086,    0.087087,    0.088088,    0.089089,     0.09009,    0.091091,    0.092092,    0.093093,    0.094094,    0.095095,\n",
       "          0.096096,    0.097097,    0.098098,    0.099099,      0.1001,      0.1011,      0.1021,      0.1031,      0.1041,     0.10511,     0.10611,     0.10711,     0.10811,     0.10911,     0.11011,     0.11111,     0.11211,     0.11311,     0.11411,     0.11512,     0.11612,     0.11712,     0.11812,     0.11912,\n",
       "           0.12012,     0.12112,     0.12212,     0.12312,     0.12412,     0.12513,     0.12613,     0.12713,     0.12813,     0.12913,     0.13013,     0.13113,     0.13213,     0.13313,     0.13413,     0.13514,     0.13614,     0.13714,     0.13814,     0.13914,     0.14014,     0.14114,     0.14214,     0.14314,\n",
       "           0.14414,     0.14515,     0.14615,     0.14715,     0.14815,     0.14915,     0.15015,     0.15115,     0.15215,     0.15315,     0.15415,     0.15516,     0.15616,     0.15716,     0.15816,     0.15916,     0.16016,     0.16116,     0.16216,     0.16316,     0.16416,     0.16517,     0.16617,     0.16717,\n",
       "           0.16817,     0.16917,     0.17017,     0.17117,     0.17217,     0.17317,     0.17417,     0.17518,     0.17618,     0.17718,     0.17818,     0.17918,     0.18018,     0.18118,     0.18218,     0.18318,     0.18418,     0.18519,     0.18619,     0.18719,     0.18819,     0.18919,     0.19019,     0.19119,\n",
       "           0.19219,     0.19319,     0.19419,      0.1952,      0.1962,      0.1972,      0.1982,      0.1992,      0.2002,      0.2012,      0.2022,      0.2032,      0.2042,     0.20521,     0.20621,     0.20721,     0.20821,     0.20921,     0.21021,     0.21121,     0.21221,     0.21321,     0.21421,     0.21522,\n",
       "           0.21622,     0.21722,     0.21822,     0.21922,     0.22022,     0.22122,     0.22222,     0.22322,     0.22422,     0.22523,     0.22623,     0.22723,     0.22823,     0.22923,     0.23023,     0.23123,     0.23223,     0.23323,     0.23423,     0.23524,     0.23624,     0.23724,     0.23824,     0.23924,\n",
       "           0.24024,     0.24124,     0.24224,     0.24324,     0.24424,     0.24525,     0.24625,     0.24725,     0.24825,     0.24925,     0.25025,     0.25125,     0.25225,     0.25325,     0.25425,     0.25526,     0.25626,     0.25726,     0.25826,     0.25926,     0.26026,     0.26126,     0.26226,     0.26326,\n",
       "           0.26426,     0.26527,     0.26627,     0.26727,     0.26827,     0.26927,     0.27027,     0.27127,     0.27227,     0.27327,     0.27427,     0.27528,     0.27628,     0.27728,     0.27828,     0.27928,     0.28028,     0.28128,     0.28228,     0.28328,     0.28428,     0.28529,     0.28629,     0.28729,\n",
       "           0.28829,     0.28929,     0.29029,     0.29129,     0.29229,     0.29329,     0.29429,      0.2953,      0.2963,      0.2973,      0.2983,      0.2993,      0.3003,      0.3013,      0.3023,      0.3033,      0.3043,     0.30531,     0.30631,     0.30731,     0.30831,     0.30931,     0.31031,     0.31131,\n",
       "           0.31231,     0.31331,     0.31431,     0.31532,     0.31632,     0.31732,     0.31832,     0.31932,     0.32032,     0.32132,     0.32232,     0.32332,     0.32432,     0.32533,     0.32633,     0.32733,     0.32833,     0.32933,     0.33033,     0.33133,     0.33233,     0.33333,     0.33433,     0.33534,\n",
       "           0.33634,     0.33734,     0.33834,     0.33934,     0.34034,     0.34134,     0.34234,     0.34334,     0.34434,     0.34535,     0.34635,     0.34735,     0.34835,     0.34935,     0.35035,     0.35135,     0.35235,     0.35335,     0.35435,     0.35536,     0.35636,     0.35736,     0.35836,     0.35936,\n",
       "           0.36036,     0.36136,     0.36236,     0.36336,     0.36436,     0.36537,     0.36637,     0.36737,     0.36837,     0.36937,     0.37037,     0.37137,     0.37237,     0.37337,     0.37437,     0.37538,     0.37638,     0.37738,     0.37838,     0.37938,     0.38038,     0.38138,     0.38238,     0.38338,\n",
       "           0.38438,     0.38539,     0.38639,     0.38739,     0.38839,     0.38939,     0.39039,     0.39139,     0.39239,     0.39339,     0.39439,      0.3954,      0.3964,      0.3974,      0.3984,      0.3994,      0.4004,      0.4014,      0.4024,      0.4034,      0.4044,     0.40541,     0.40641,     0.40741,\n",
       "           0.40841,     0.40941,     0.41041,     0.41141,     0.41241,     0.41341,     0.41441,     0.41542,     0.41642,     0.41742,     0.41842,     0.41942,     0.42042,     0.42142,     0.42242,     0.42342,     0.42442,     0.42543,     0.42643,     0.42743,     0.42843,     0.42943,     0.43043,     0.43143,\n",
       "           0.43243,     0.43343,     0.43443,     0.43544,     0.43644,     0.43744,     0.43844,     0.43944,     0.44044,     0.44144,     0.44244,     0.44344,     0.44444,     0.44545,     0.44645,     0.44745,     0.44845,     0.44945,     0.45045,     0.45145,     0.45245,     0.45345,     0.45445,     0.45546,\n",
       "           0.45646,     0.45746,     0.45846,     0.45946,     0.46046,     0.46146,     0.46246,     0.46346,     0.46446,     0.46547,     0.46647,     0.46747,     0.46847,     0.46947,     0.47047,     0.47147,     0.47247,     0.47347,     0.47447,     0.47548,     0.47648,     0.47748,     0.47848,     0.47948,\n",
       "           0.48048,     0.48148,     0.48248,     0.48348,     0.48448,     0.48549,     0.48649,     0.48749,     0.48849,     0.48949,     0.49049,     0.49149,     0.49249,     0.49349,     0.49449,      0.4955,      0.4965,      0.4975,      0.4985,      0.4995,      0.5005,      0.5015,      0.5025,      0.5035,\n",
       "            0.5045,     0.50551,     0.50651,     0.50751,     0.50851,     0.50951,     0.51051,     0.51151,     0.51251,     0.51351,     0.51451,     0.51552,     0.51652,     0.51752,     0.51852,     0.51952,     0.52052,     0.52152,     0.52252,     0.52352,     0.52452,     0.52553,     0.52653,     0.52753,\n",
       "           0.52853,     0.52953,     0.53053,     0.53153,     0.53253,     0.53353,     0.53453,     0.53554,     0.53654,     0.53754,     0.53854,     0.53954,     0.54054,     0.54154,     0.54254,     0.54354,     0.54454,     0.54555,     0.54655,     0.54755,     0.54855,     0.54955,     0.55055,     0.55155,\n",
       "           0.55255,     0.55355,     0.55455,     0.55556,     0.55656,     0.55756,     0.55856,     0.55956,     0.56056,     0.56156,     0.56256,     0.56356,     0.56456,     0.56557,     0.56657,     0.56757,     0.56857,     0.56957,     0.57057,     0.57157,     0.57257,     0.57357,     0.57457,     0.57558,\n",
       "           0.57658,     0.57758,     0.57858,     0.57958,     0.58058,     0.58158,     0.58258,     0.58358,     0.58458,     0.58559,     0.58659,     0.58759,     0.58859,     0.58959,     0.59059,     0.59159,     0.59259,     0.59359,     0.59459,      0.5956,      0.5966,      0.5976,      0.5986,      0.5996,\n",
       "            0.6006,      0.6016,      0.6026,      0.6036,      0.6046,     0.60561,     0.60661,     0.60761,     0.60861,     0.60961,     0.61061,     0.61161,     0.61261,     0.61361,     0.61461,     0.61562,     0.61662,     0.61762,     0.61862,     0.61962,     0.62062,     0.62162,     0.62262,     0.62362,\n",
       "           0.62462,     0.62563,     0.62663,     0.62763,     0.62863,     0.62963,     0.63063,     0.63163,     0.63263,     0.63363,     0.63463,     0.63564,     0.63664,     0.63764,     0.63864,     0.63964,     0.64064,     0.64164,     0.64264,     0.64364,     0.64464,     0.64565,     0.64665,     0.64765,\n",
       "           0.64865,     0.64965,     0.65065,     0.65165,     0.65265,     0.65365,     0.65465,     0.65566,     0.65666,     0.65766,     0.65866,     0.65966,     0.66066,     0.66166,     0.66266,     0.66366,     0.66466,     0.66567,     0.66667,     0.66767,     0.66867,     0.66967,     0.67067,     0.67167,\n",
       "           0.67267,     0.67367,     0.67467,     0.67568,     0.67668,     0.67768,     0.67868,     0.67968,     0.68068,     0.68168,     0.68268,     0.68368,     0.68468,     0.68569,     0.68669,     0.68769,     0.68869,     0.68969,     0.69069,     0.69169,     0.69269,     0.69369,     0.69469,      0.6957,\n",
       "            0.6967,      0.6977,      0.6987,      0.6997,      0.7007,      0.7017,      0.7027,      0.7037,      0.7047,     0.70571,     0.70671,     0.70771,     0.70871,     0.70971,     0.71071,     0.71171,     0.71271,     0.71371,     0.71471,     0.71572,     0.71672,     0.71772,     0.71872,     0.71972,\n",
       "           0.72072,     0.72172,     0.72272,     0.72372,     0.72472,     0.72573,     0.72673,     0.72773,     0.72873,     0.72973,     0.73073,     0.73173,     0.73273,     0.73373,     0.73473,     0.73574,     0.73674,     0.73774,     0.73874,     0.73974,     0.74074,     0.74174,     0.74274,     0.74374,\n",
       "           0.74474,     0.74575,     0.74675,     0.74775,     0.74875,     0.74975,     0.75075,     0.75175,     0.75275,     0.75375,     0.75475,     0.75576,     0.75676,     0.75776,     0.75876,     0.75976,     0.76076,     0.76176,     0.76276,     0.76376,     0.76476,     0.76577,     0.76677,     0.76777,\n",
       "           0.76877,     0.76977,     0.77077,     0.77177,     0.77277,     0.77377,     0.77477,     0.77578,     0.77678,     0.77778,     0.77878,     0.77978,     0.78078,     0.78178,     0.78278,     0.78378,     0.78478,     0.78579,     0.78679,     0.78779,     0.78879,     0.78979,     0.79079,     0.79179,\n",
       "           0.79279,     0.79379,     0.79479,      0.7958,      0.7968,      0.7978,      0.7988,      0.7998,      0.8008,      0.8018,      0.8028,      0.8038,      0.8048,     0.80581,     0.80681,     0.80781,     0.80881,     0.80981,     0.81081,     0.81181,     0.81281,     0.81381,     0.81481,     0.81582,\n",
       "           0.81682,     0.81782,     0.81882,     0.81982,     0.82082,     0.82182,     0.82282,     0.82382,     0.82482,     0.82583,     0.82683,     0.82783,     0.82883,     0.82983,     0.83083,     0.83183,     0.83283,     0.83383,     0.83483,     0.83584,     0.83684,     0.83784,     0.83884,     0.83984,\n",
       "           0.84084,     0.84184,     0.84284,     0.84384,     0.84484,     0.84585,     0.84685,     0.84785,     0.84885,     0.84985,     0.85085,     0.85185,     0.85285,     0.85385,     0.85485,     0.85586,     0.85686,     0.85786,     0.85886,     0.85986,     0.86086,     0.86186,     0.86286,     0.86386,\n",
       "           0.86486,     0.86587,     0.86687,     0.86787,     0.86887,     0.86987,     0.87087,     0.87187,     0.87287,     0.87387,     0.87487,     0.87588,     0.87688,     0.87788,     0.87888,     0.87988,     0.88088,     0.88188,     0.88288,     0.88388,     0.88488,     0.88589,     0.88689,     0.88789,\n",
       "           0.88889,     0.88989,     0.89089,     0.89189,     0.89289,     0.89389,     0.89489,      0.8959,      0.8969,      0.8979,      0.8989,      0.8999,      0.9009,      0.9019,      0.9029,      0.9039,      0.9049,     0.90591,     0.90691,     0.90791,     0.90891,     0.90991,     0.91091,     0.91191,\n",
       "           0.91291,     0.91391,     0.91491,     0.91592,     0.91692,     0.91792,     0.91892,     0.91992,     0.92092,     0.92192,     0.92292,     0.92392,     0.92492,     0.92593,     0.92693,     0.92793,     0.92893,     0.92993,     0.93093,     0.93193,     0.93293,     0.93393,     0.93493,     0.93594,\n",
       "           0.93694,     0.93794,     0.93894,     0.93994,     0.94094,     0.94194,     0.94294,     0.94394,     0.94494,     0.94595,     0.94695,     0.94795,     0.94895,     0.94995,     0.95095,     0.95195,     0.95295,     0.95395,     0.95495,     0.95596,     0.95696,     0.95796,     0.95896,     0.95996,\n",
       "           0.96096,     0.96196,     0.96296,     0.96396,     0.96496,     0.96597,     0.96697,     0.96797,     0.96897,     0.96997,     0.97097,     0.97197,     0.97297,     0.97397,     0.97497,     0.97598,     0.97698,     0.97798,     0.97898,     0.97998,     0.98098,     0.98198,     0.98298,     0.98398,\n",
       "           0.98498,     0.98599,     0.98699,     0.98799,     0.98899,     0.98999,     0.99099,     0.99199,     0.99299,     0.99399,     0.99499,       0.996,       0.997,       0.998,       0.999,           1]), array([[    0.59048,     0.59048,     0.65192,     0.68334,     0.71103,     0.72246,     0.72943,     0.74463,     0.75084,     0.76404,     0.76858,     0.77492,     0.77434,     0.77726,     0.78462,     0.78964,     0.79242,     0.79741,     0.80339,     0.80654,     0.80883,     0.81101,     0.81252,\n",
       "            0.81402,     0.81552,     0.81347,     0.81391,     0.81838,     0.81767,     0.81533,     0.81298,     0.81051,     0.80765,     0.80479,     0.80302,     0.80365,     0.80429,     0.80492,     0.80556,     0.80619,     0.80682,     0.80745,     0.80808,     0.80856,     0.80873,      0.8089,\n",
       "            0.80907,     0.80924,     0.80941,     0.80958,     0.80974,     0.80991,     0.81008,     0.81025,     0.81042,     0.81058,     0.81075,     0.81092,     0.81109,     0.81126,     0.81142,     0.81159,     0.81176,     0.81193,     0.81209,     0.81226,     0.81243,      0.8126,     0.81276,\n",
       "            0.81293,      0.8131,     0.81326,     0.81343,      0.8136,     0.81376,     0.81393,      0.8141,     0.81426,     0.81682,     0.81973,     0.82536,     0.82625,     0.82644,     0.82662,     0.82681,       0.827,     0.82718,     0.82737,     0.82755,     0.82774,     0.82793,     0.82811,\n",
       "             0.8283,     0.82848,     0.82867,     0.82885,     0.82904,     0.82922,     0.82941,     0.82959,     0.82978,     0.82996,     0.83015,     0.83033,     0.83052,      0.8307,     0.83089,     0.83107,     0.83126,     0.83144,     0.83162,     0.83181,     0.83199,     0.83828,     0.83843,\n",
       "            0.83857,     0.83871,     0.83886,       0.839,     0.83915,     0.83929,     0.83944,     0.83958,     0.83972,     0.83987,     0.84001,     0.84016,      0.8403,     0.84044,     0.84059,     0.84073,     0.84087,     0.84102,     0.84116,      0.8413,     0.84145,     0.84159,     0.84173,\n",
       "            0.84188,     0.84202,     0.84216,     0.84231,     0.84245,     0.84259,     0.84274,     0.84288,     0.84302,     0.84317,     0.84331,     0.84345,     0.84359,     0.84374,     0.84388,     0.84402,     0.84416,     0.84431,     0.84446,      0.8449,     0.84534,     0.84578,     0.84622,\n",
       "            0.84666,      0.8471,     0.84753,     0.84797,     0.84841,     0.84885,     0.84928,     0.84972,     0.85015,     0.85059,     0.85095,     0.85127,     0.85159,     0.85191,     0.85223,     0.85255,     0.85287,     0.85319,      0.8535,     0.85382,     0.85414,     0.85446,     0.85478,\n",
       "            0.85509,     0.85541,     0.85573,     0.85604,     0.85636,     0.85667,     0.85699,     0.85735,     0.85775,     0.85816,     0.85856,     0.85896,     0.85936,     0.85976,     0.86017,     0.86057,     0.86097,     0.86137,     0.86176,     0.86216,     0.86256,     0.86296,     0.86336,\n",
       "            0.86376,     0.86418,     0.86461,     0.86503,     0.86545,     0.86587,     0.86629,     0.86671,     0.86713,     0.86755,     0.86796,     0.86838,      0.8688,     0.86922,     0.86963,     0.87005,     0.87031,     0.87046,      0.8706,     0.87075,     0.87089,     0.87104,     0.87118,\n",
       "            0.87133,     0.87147,     0.87162,     0.87177,     0.87191,     0.87206,      0.8722,     0.87235,     0.87249,     0.87263,     0.87278,     0.87292,     0.87307,     0.87321,     0.87336,      0.8735,     0.87365,     0.87379,     0.87394,     0.87408,     0.87422,     0.87437,     0.87451,\n",
       "            0.87466,      0.8748,     0.87495,     0.87509,     0.87523,     0.87538,     0.87552,     0.87566,     0.87581,     0.87595,      0.8761,     0.87624,     0.87638,     0.87653,     0.87667,     0.87681,     0.87695,     0.87708,      0.8772,     0.87732,     0.87745,     0.87757,      0.8777,\n",
       "            0.87782,     0.87794,     0.87807,     0.87819,     0.87832,     0.87844,     0.87856,     0.87869,     0.87881,     0.87894,     0.87906,     0.87918,     0.87931,     0.87943,     0.87955,     0.87968,      0.8798,     0.87993,     0.88005,     0.88017,      0.8803,     0.88042,     0.88054,\n",
       "            0.88067,     0.88079,     0.88091,     0.88103,     0.88116,     0.88128,      0.8814,     0.88153,     0.88165,     0.88177,      0.8819,     0.88202,     0.88214,     0.88226,     0.88239,     0.88251,     0.88263,     0.88275,     0.88288,       0.883,     0.88312,     0.88324,     0.88337,\n",
       "            0.88349,     0.88361,     0.88374,     0.88391,     0.88407,     0.88424,     0.88441,     0.88458,     0.88475,     0.88491,     0.88508,     0.88525,     0.88541,     0.88558,     0.88575,     0.88592,     0.88608,     0.88625,     0.88642,     0.88658,     0.88675,     0.88692,     0.88708,\n",
       "            0.88725,     0.88742,     0.88758,     0.88775,     0.88792,     0.88808,     0.88825,     0.88841,     0.88858,     0.88875,     0.88891,     0.88908,     0.88924,     0.88941,     0.88957,     0.88974,     0.88991,     0.89007,     0.89024,      0.8904,     0.89057,     0.89022,     0.88958,\n",
       "            0.88894,     0.88831,     0.88767,     0.88703,     0.88639,     0.88575,     0.88511,     0.88447,     0.88383,     0.88319,     0.88254,      0.8819,     0.88194,     0.88199,     0.88204,     0.88209,     0.88213,     0.88218,     0.88223,     0.88228,     0.88233,     0.88238,     0.88243,\n",
       "            0.88248,     0.88253,     0.88258,     0.88262,     0.88267,     0.88272,     0.88277,     0.88282,     0.88287,     0.88292,     0.88297,     0.88302,     0.88307,     0.88311,     0.88316,     0.88321,     0.88326,     0.88331,     0.88336,     0.88341,     0.88346,     0.88351,     0.88355,\n",
       "             0.8836,     0.88365,      0.8837,     0.88375,      0.8838,     0.88385,      0.8839,     0.88395,     0.88399,     0.88404,     0.88409,     0.88414,     0.88419,     0.88424,     0.88429,     0.88434,     0.88438,     0.88443,     0.88448,     0.88453,     0.88458,     0.88463,     0.88468,\n",
       "            0.88473,     0.88477,     0.88482,     0.88487,     0.88492,     0.88497,     0.88502,     0.88507,     0.88512,     0.88516,     0.88521,     0.88526,     0.88531,     0.88536,     0.88541,     0.88546,      0.8855,     0.88555,      0.8856,     0.88565,      0.8857,     0.88575,      0.8858,\n",
       "            0.88584,     0.88589,     0.88594,     0.88599,     0.88604,     0.88609,     0.88614,     0.88618,     0.88623,     0.88628,     0.88633,     0.88638,     0.88643,     0.88648,     0.88652,     0.88657,     0.88662,     0.88667,     0.88672,     0.88677,     0.88682,     0.88686,     0.88691,\n",
       "            0.88696,     0.88701,     0.88706,     0.88711,     0.88715,      0.8872,     0.88725,      0.8873,     0.88735,      0.8874,     0.88744,     0.88749,     0.88754,     0.88759,     0.88764,     0.88769,     0.88773,     0.88778,     0.88783,     0.88788,     0.88793,     0.88798,     0.88802,\n",
       "            0.88807,     0.88812,     0.88817,     0.88822,     0.88827,     0.88831,     0.88836,     0.88841,     0.88846,     0.88851,     0.88856,      0.8886,     0.88865,      0.8887,     0.88875,      0.8888,     0.88884,     0.88885,     0.88844,     0.88803,     0.88762,     0.88721,     0.88679,\n",
       "            0.88638,     0.88597,     0.88556,     0.88514,     0.88473,     0.88431,      0.8839,     0.88349,     0.88307,     0.88265,     0.88224,     0.88182,     0.88141,     0.88099,     0.88057,     0.88016,      0.8799,     0.87975,     0.87959,     0.87943,     0.87927,     0.87912,     0.87896,\n",
       "             0.8788,     0.87864,     0.87849,     0.87833,     0.87817,     0.87801,     0.87786,      0.8777,     0.87754,     0.87738,     0.87723,     0.87707,     0.87691,     0.87675,     0.87659,     0.87644,     0.87628,     0.87612,     0.87596,      0.8758,     0.87565,     0.87549,     0.87533,\n",
       "            0.87517,     0.87501,     0.87485,      0.8747,     0.87454,     0.87438,     0.87422,     0.87406,      0.8739,     0.87374,     0.87358,     0.87343,     0.87327,     0.87311,     0.87295,     0.87279,     0.87263,     0.87247,     0.87231,     0.87215,       0.872,     0.87184,     0.87168,\n",
       "            0.87152,     0.87136,      0.8712,     0.87104,     0.87092,     0.87083,     0.87075,     0.87066,     0.87057,     0.87049,      0.8704,     0.87031,     0.87023,     0.87014,     0.87005,     0.86997,     0.86988,     0.86979,     0.86971,     0.86962,     0.86954,     0.86945,     0.86936,\n",
       "            0.86927,     0.86919,      0.8691,     0.86901,     0.86893,     0.86884,     0.86875,     0.86867,     0.86858,     0.86849,     0.86841,     0.86832,     0.86823,     0.86815,     0.86806,     0.86797,     0.86789,      0.8678,     0.86771,     0.86763,     0.86754,     0.86745,     0.86736,\n",
       "            0.86728,     0.86719,      0.8671,     0.86702,     0.86693,     0.86684,     0.86676,     0.86667,     0.86658,     0.86649,     0.86641,     0.86632,     0.86623,     0.86615,     0.86606,     0.86597,     0.86588,      0.8658,     0.86571,     0.86562,     0.86554,     0.86545,     0.86536,\n",
       "            0.86527,     0.86519,      0.8651,     0.86501,     0.86492,     0.86484,     0.86475,     0.86466,     0.86457,     0.86449,      0.8644,     0.86431,     0.86423,     0.86414,     0.86405,     0.86396,     0.86388,     0.86379,      0.8637,     0.86361,     0.86353,     0.86344,     0.86335,\n",
       "            0.86326,     0.86318,     0.86309,       0.863,     0.86291,     0.86282,     0.86274,     0.86265,     0.86256,     0.86247,     0.86239,      0.8623,     0.86221,     0.86212,     0.86204,     0.86195,     0.86186,     0.86175,     0.86157,     0.86139,      0.8612,     0.86102,     0.86083,\n",
       "            0.86065,     0.86046,     0.86028,     0.86009,     0.85991,     0.85972,     0.85954,     0.85935,     0.85917,     0.85898,      0.8588,     0.85861,     0.85843,     0.85824,     0.85806,     0.85787,     0.85769,      0.8575,     0.85731,     0.85713,     0.85694,     0.85676,     0.85657,\n",
       "            0.85639,      0.8562,     0.85601,     0.85583,     0.85564,     0.85546,     0.85527,     0.85508,      0.8549,     0.85471,     0.85452,     0.85434,     0.85415,     0.85396,     0.85378,     0.85359,      0.8534,     0.85322,     0.85303,     0.85284,     0.85266,     0.85247,      0.8517,\n",
       "            0.85089,     0.85009,     0.84928,     0.84847,     0.84766,     0.84685,     0.84604,     0.84523,     0.84441,      0.8436,     0.84278,     0.84196,     0.84114,     0.84032,      0.8395,     0.83868,     0.83786,     0.83703,     0.83621,     0.83538,     0.83455,     0.83372,     0.83258,\n",
       "            0.83115,     0.82972,     0.82828,     0.82685,      0.8254,     0.82396,     0.82857,     0.83027,     0.82993,      0.8296,     0.82927,     0.82893,      0.8286,     0.82826,     0.82793,     0.82759,     0.82726,     0.82692,     0.82659,     0.82625,     0.82592,     0.82558,     0.82525,\n",
       "            0.82491,     0.82457,     0.82424,      0.8239,     0.82356,     0.82323,     0.82289,     0.82255,     0.82221,     0.82188,     0.82154,      0.8212,     0.82086,     0.82052,     0.81022,     0.80997,     0.80972,     0.80946,     0.80921,     0.80895,      0.8087,     0.80845,     0.80819,\n",
       "            0.80794,     0.80768,     0.80743,     0.80717,     0.80692,     0.80666,     0.80641,     0.80615,      0.8059,     0.80564,     0.80539,     0.80513,     0.80488,     0.80462,     0.80437,     0.80411,     0.80385,      0.8036,     0.80334,     0.80309,     0.80283,     0.80257,     0.80232,\n",
       "            0.80206,      0.8018,     0.80154,     0.80129,     0.80103,     0.80077,     0.80052,     0.80026,         0.8,     0.79572,      0.7914,     0.78795,     0.78522,     0.78247,     0.77971,     0.77146,     0.76014,     0.74862,     0.74375,      0.7414,     0.73904,     0.73668,      0.7343,\n",
       "             0.7331,     0.73211,     0.73111,     0.73011,     0.72911,     0.72811,     0.72711,     0.72611,      0.7251,      0.7241,     0.72309,     0.72164,     0.71758,      0.7135,      0.7076,     0.69608,     0.68761,     0.67903,     0.67143,     0.66616,     0.66086,     0.65727,     0.65391,\n",
       "            0.65054,     0.64715,     0.63818,     0.63164,     0.62765,     0.62365,     0.60537,     0.59811,     0.58758,     0.57071,     0.55655,     0.53623,     0.50818,     0.47895,     0.44423,     0.40193,     0.39737,     0.39972,     0.38292,       0.375,     0.36834,     0.36162,      0.3482,\n",
       "            0.33616,     0.32566,     0.31303,     0.29582,     0.27303,     0.26399,     0.25253,     0.22921,     0.20525,     0.18426,     0.17427,     0.16416,     0.13561,     0.13123,     0.12684,     0.12242,     0.11798,     0.11352,    0.098608,    0.077759,    0.063733,     0.04694,           0,\n",
       "                  0,           0,           0,           0,           0,           0,           0,           0,           0,           0,           0,           0,           0,           0,           0,           0,           0,           0,           0,           0,           0,           0,           0,\n",
       "                  0,           0,           0,           0,           0,           0,           0,           0,           0,           0,           0,           0,           0,           0,           0,           0,           0,           0,           0,           0,           0,           0,           0,\n",
       "                  0,           0,           0,           0,           0,           0,           0,           0,           0,           0,           0]]), 'Confidence', 'F1'], [array([          0,    0.001001,    0.002002,    0.003003,    0.004004,    0.005005,    0.006006,    0.007007,    0.008008,    0.009009,     0.01001,    0.011011,    0.012012,    0.013013,    0.014014,    0.015015,    0.016016,    0.017017,    0.018018,    0.019019,     0.02002,    0.021021,    0.022022,    0.023023,\n",
       "          0.024024,    0.025025,    0.026026,    0.027027,    0.028028,    0.029029,     0.03003,    0.031031,    0.032032,    0.033033,    0.034034,    0.035035,    0.036036,    0.037037,    0.038038,    0.039039,     0.04004,    0.041041,    0.042042,    0.043043,    0.044044,    0.045045,    0.046046,    0.047047,\n",
       "          0.048048,    0.049049,     0.05005,    0.051051,    0.052052,    0.053053,    0.054054,    0.055055,    0.056056,    0.057057,    0.058058,    0.059059,     0.06006,    0.061061,    0.062062,    0.063063,    0.064064,    0.065065,    0.066066,    0.067067,    0.068068,    0.069069,     0.07007,    0.071071,\n",
       "          0.072072,    0.073073,    0.074074,    0.075075,    0.076076,    0.077077,    0.078078,    0.079079,     0.08008,    0.081081,    0.082082,    0.083083,    0.084084,    0.085085,    0.086086,    0.087087,    0.088088,    0.089089,     0.09009,    0.091091,    0.092092,    0.093093,    0.094094,    0.095095,\n",
       "          0.096096,    0.097097,    0.098098,    0.099099,      0.1001,      0.1011,      0.1021,      0.1031,      0.1041,     0.10511,     0.10611,     0.10711,     0.10811,     0.10911,     0.11011,     0.11111,     0.11211,     0.11311,     0.11411,     0.11512,     0.11612,     0.11712,     0.11812,     0.11912,\n",
       "           0.12012,     0.12112,     0.12212,     0.12312,     0.12412,     0.12513,     0.12613,     0.12713,     0.12813,     0.12913,     0.13013,     0.13113,     0.13213,     0.13313,     0.13413,     0.13514,     0.13614,     0.13714,     0.13814,     0.13914,     0.14014,     0.14114,     0.14214,     0.14314,\n",
       "           0.14414,     0.14515,     0.14615,     0.14715,     0.14815,     0.14915,     0.15015,     0.15115,     0.15215,     0.15315,     0.15415,     0.15516,     0.15616,     0.15716,     0.15816,     0.15916,     0.16016,     0.16116,     0.16216,     0.16316,     0.16416,     0.16517,     0.16617,     0.16717,\n",
       "           0.16817,     0.16917,     0.17017,     0.17117,     0.17217,     0.17317,     0.17417,     0.17518,     0.17618,     0.17718,     0.17818,     0.17918,     0.18018,     0.18118,     0.18218,     0.18318,     0.18418,     0.18519,     0.18619,     0.18719,     0.18819,     0.18919,     0.19019,     0.19119,\n",
       "           0.19219,     0.19319,     0.19419,      0.1952,      0.1962,      0.1972,      0.1982,      0.1992,      0.2002,      0.2012,      0.2022,      0.2032,      0.2042,     0.20521,     0.20621,     0.20721,     0.20821,     0.20921,     0.21021,     0.21121,     0.21221,     0.21321,     0.21421,     0.21522,\n",
       "           0.21622,     0.21722,     0.21822,     0.21922,     0.22022,     0.22122,     0.22222,     0.22322,     0.22422,     0.22523,     0.22623,     0.22723,     0.22823,     0.22923,     0.23023,     0.23123,     0.23223,     0.23323,     0.23423,     0.23524,     0.23624,     0.23724,     0.23824,     0.23924,\n",
       "           0.24024,     0.24124,     0.24224,     0.24324,     0.24424,     0.24525,     0.24625,     0.24725,     0.24825,     0.24925,     0.25025,     0.25125,     0.25225,     0.25325,     0.25425,     0.25526,     0.25626,     0.25726,     0.25826,     0.25926,     0.26026,     0.26126,     0.26226,     0.26326,\n",
       "           0.26426,     0.26527,     0.26627,     0.26727,     0.26827,     0.26927,     0.27027,     0.27127,     0.27227,     0.27327,     0.27427,     0.27528,     0.27628,     0.27728,     0.27828,     0.27928,     0.28028,     0.28128,     0.28228,     0.28328,     0.28428,     0.28529,     0.28629,     0.28729,\n",
       "           0.28829,     0.28929,     0.29029,     0.29129,     0.29229,     0.29329,     0.29429,      0.2953,      0.2963,      0.2973,      0.2983,      0.2993,      0.3003,      0.3013,      0.3023,      0.3033,      0.3043,     0.30531,     0.30631,     0.30731,     0.30831,     0.30931,     0.31031,     0.31131,\n",
       "           0.31231,     0.31331,     0.31431,     0.31532,     0.31632,     0.31732,     0.31832,     0.31932,     0.32032,     0.32132,     0.32232,     0.32332,     0.32432,     0.32533,     0.32633,     0.32733,     0.32833,     0.32933,     0.33033,     0.33133,     0.33233,     0.33333,     0.33433,     0.33534,\n",
       "           0.33634,     0.33734,     0.33834,     0.33934,     0.34034,     0.34134,     0.34234,     0.34334,     0.34434,     0.34535,     0.34635,     0.34735,     0.34835,     0.34935,     0.35035,     0.35135,     0.35235,     0.35335,     0.35435,     0.35536,     0.35636,     0.35736,     0.35836,     0.35936,\n",
       "           0.36036,     0.36136,     0.36236,     0.36336,     0.36436,     0.36537,     0.36637,     0.36737,     0.36837,     0.36937,     0.37037,     0.37137,     0.37237,     0.37337,     0.37437,     0.37538,     0.37638,     0.37738,     0.37838,     0.37938,     0.38038,     0.38138,     0.38238,     0.38338,\n",
       "           0.38438,     0.38539,     0.38639,     0.38739,     0.38839,     0.38939,     0.39039,     0.39139,     0.39239,     0.39339,     0.39439,      0.3954,      0.3964,      0.3974,      0.3984,      0.3994,      0.4004,      0.4014,      0.4024,      0.4034,      0.4044,     0.40541,     0.40641,     0.40741,\n",
       "           0.40841,     0.40941,     0.41041,     0.41141,     0.41241,     0.41341,     0.41441,     0.41542,     0.41642,     0.41742,     0.41842,     0.41942,     0.42042,     0.42142,     0.42242,     0.42342,     0.42442,     0.42543,     0.42643,     0.42743,     0.42843,     0.42943,     0.43043,     0.43143,\n",
       "           0.43243,     0.43343,     0.43443,     0.43544,     0.43644,     0.43744,     0.43844,     0.43944,     0.44044,     0.44144,     0.44244,     0.44344,     0.44444,     0.44545,     0.44645,     0.44745,     0.44845,     0.44945,     0.45045,     0.45145,     0.45245,     0.45345,     0.45445,     0.45546,\n",
       "           0.45646,     0.45746,     0.45846,     0.45946,     0.46046,     0.46146,     0.46246,     0.46346,     0.46446,     0.46547,     0.46647,     0.46747,     0.46847,     0.46947,     0.47047,     0.47147,     0.47247,     0.47347,     0.47447,     0.47548,     0.47648,     0.47748,     0.47848,     0.47948,\n",
       "           0.48048,     0.48148,     0.48248,     0.48348,     0.48448,     0.48549,     0.48649,     0.48749,     0.48849,     0.48949,     0.49049,     0.49149,     0.49249,     0.49349,     0.49449,      0.4955,      0.4965,      0.4975,      0.4985,      0.4995,      0.5005,      0.5015,      0.5025,      0.5035,\n",
       "            0.5045,     0.50551,     0.50651,     0.50751,     0.50851,     0.50951,     0.51051,     0.51151,     0.51251,     0.51351,     0.51451,     0.51552,     0.51652,     0.51752,     0.51852,     0.51952,     0.52052,     0.52152,     0.52252,     0.52352,     0.52452,     0.52553,     0.52653,     0.52753,\n",
       "           0.52853,     0.52953,     0.53053,     0.53153,     0.53253,     0.53353,     0.53453,     0.53554,     0.53654,     0.53754,     0.53854,     0.53954,     0.54054,     0.54154,     0.54254,     0.54354,     0.54454,     0.54555,     0.54655,     0.54755,     0.54855,     0.54955,     0.55055,     0.55155,\n",
       "           0.55255,     0.55355,     0.55455,     0.55556,     0.55656,     0.55756,     0.55856,     0.55956,     0.56056,     0.56156,     0.56256,     0.56356,     0.56456,     0.56557,     0.56657,     0.56757,     0.56857,     0.56957,     0.57057,     0.57157,     0.57257,     0.57357,     0.57457,     0.57558,\n",
       "           0.57658,     0.57758,     0.57858,     0.57958,     0.58058,     0.58158,     0.58258,     0.58358,     0.58458,     0.58559,     0.58659,     0.58759,     0.58859,     0.58959,     0.59059,     0.59159,     0.59259,     0.59359,     0.59459,      0.5956,      0.5966,      0.5976,      0.5986,      0.5996,\n",
       "            0.6006,      0.6016,      0.6026,      0.6036,      0.6046,     0.60561,     0.60661,     0.60761,     0.60861,     0.60961,     0.61061,     0.61161,     0.61261,     0.61361,     0.61461,     0.61562,     0.61662,     0.61762,     0.61862,     0.61962,     0.62062,     0.62162,     0.62262,     0.62362,\n",
       "           0.62462,     0.62563,     0.62663,     0.62763,     0.62863,     0.62963,     0.63063,     0.63163,     0.63263,     0.63363,     0.63463,     0.63564,     0.63664,     0.63764,     0.63864,     0.63964,     0.64064,     0.64164,     0.64264,     0.64364,     0.64464,     0.64565,     0.64665,     0.64765,\n",
       "           0.64865,     0.64965,     0.65065,     0.65165,     0.65265,     0.65365,     0.65465,     0.65566,     0.65666,     0.65766,     0.65866,     0.65966,     0.66066,     0.66166,     0.66266,     0.66366,     0.66466,     0.66567,     0.66667,     0.66767,     0.66867,     0.66967,     0.67067,     0.67167,\n",
       "           0.67267,     0.67367,     0.67467,     0.67568,     0.67668,     0.67768,     0.67868,     0.67968,     0.68068,     0.68168,     0.68268,     0.68368,     0.68468,     0.68569,     0.68669,     0.68769,     0.68869,     0.68969,     0.69069,     0.69169,     0.69269,     0.69369,     0.69469,      0.6957,\n",
       "            0.6967,      0.6977,      0.6987,      0.6997,      0.7007,      0.7017,      0.7027,      0.7037,      0.7047,     0.70571,     0.70671,     0.70771,     0.70871,     0.70971,     0.71071,     0.71171,     0.71271,     0.71371,     0.71471,     0.71572,     0.71672,     0.71772,     0.71872,     0.71972,\n",
       "           0.72072,     0.72172,     0.72272,     0.72372,     0.72472,     0.72573,     0.72673,     0.72773,     0.72873,     0.72973,     0.73073,     0.73173,     0.73273,     0.73373,     0.73473,     0.73574,     0.73674,     0.73774,     0.73874,     0.73974,     0.74074,     0.74174,     0.74274,     0.74374,\n",
       "           0.74474,     0.74575,     0.74675,     0.74775,     0.74875,     0.74975,     0.75075,     0.75175,     0.75275,     0.75375,     0.75475,     0.75576,     0.75676,     0.75776,     0.75876,     0.75976,     0.76076,     0.76176,     0.76276,     0.76376,     0.76476,     0.76577,     0.76677,     0.76777,\n",
       "           0.76877,     0.76977,     0.77077,     0.77177,     0.77277,     0.77377,     0.77477,     0.77578,     0.77678,     0.77778,     0.77878,     0.77978,     0.78078,     0.78178,     0.78278,     0.78378,     0.78478,     0.78579,     0.78679,     0.78779,     0.78879,     0.78979,     0.79079,     0.79179,\n",
       "           0.79279,     0.79379,     0.79479,      0.7958,      0.7968,      0.7978,      0.7988,      0.7998,      0.8008,      0.8018,      0.8028,      0.8038,      0.8048,     0.80581,     0.80681,     0.80781,     0.80881,     0.80981,     0.81081,     0.81181,     0.81281,     0.81381,     0.81481,     0.81582,\n",
       "           0.81682,     0.81782,     0.81882,     0.81982,     0.82082,     0.82182,     0.82282,     0.82382,     0.82482,     0.82583,     0.82683,     0.82783,     0.82883,     0.82983,     0.83083,     0.83183,     0.83283,     0.83383,     0.83483,     0.83584,     0.83684,     0.83784,     0.83884,     0.83984,\n",
       "           0.84084,     0.84184,     0.84284,     0.84384,     0.84484,     0.84585,     0.84685,     0.84785,     0.84885,     0.84985,     0.85085,     0.85185,     0.85285,     0.85385,     0.85485,     0.85586,     0.85686,     0.85786,     0.85886,     0.85986,     0.86086,     0.86186,     0.86286,     0.86386,\n",
       "           0.86486,     0.86587,     0.86687,     0.86787,     0.86887,     0.86987,     0.87087,     0.87187,     0.87287,     0.87387,     0.87487,     0.87588,     0.87688,     0.87788,     0.87888,     0.87988,     0.88088,     0.88188,     0.88288,     0.88388,     0.88488,     0.88589,     0.88689,     0.88789,\n",
       "           0.88889,     0.88989,     0.89089,     0.89189,     0.89289,     0.89389,     0.89489,      0.8959,      0.8969,      0.8979,      0.8989,      0.8999,      0.9009,      0.9019,      0.9029,      0.9039,      0.9049,     0.90591,     0.90691,     0.90791,     0.90891,     0.90991,     0.91091,     0.91191,\n",
       "           0.91291,     0.91391,     0.91491,     0.91592,     0.91692,     0.91792,     0.91892,     0.91992,     0.92092,     0.92192,     0.92292,     0.92392,     0.92492,     0.92593,     0.92693,     0.92793,     0.92893,     0.92993,     0.93093,     0.93193,     0.93293,     0.93393,     0.93493,     0.93594,\n",
       "           0.93694,     0.93794,     0.93894,     0.93994,     0.94094,     0.94194,     0.94294,     0.94394,     0.94494,     0.94595,     0.94695,     0.94795,     0.94895,     0.94995,     0.95095,     0.95195,     0.95295,     0.95395,     0.95495,     0.95596,     0.95696,     0.95796,     0.95896,     0.95996,\n",
       "           0.96096,     0.96196,     0.96296,     0.96396,     0.96496,     0.96597,     0.96697,     0.96797,     0.96897,     0.96997,     0.97097,     0.97197,     0.97297,     0.97397,     0.97497,     0.97598,     0.97698,     0.97798,     0.97898,     0.97998,     0.98098,     0.98198,     0.98298,     0.98398,\n",
       "           0.98498,     0.98599,     0.98699,     0.98799,     0.98899,     0.98999,     0.99099,     0.99199,     0.99299,     0.99399,     0.99499,       0.996,       0.997,       0.998,       0.999,           1]), array([[    0.43662,     0.43662,     0.50734,     0.54644,     0.58273,     0.59825,     0.61459,     0.63648,      0.6456,     0.66538,     0.67229,     0.68206,     0.68988,     0.69454,     0.70639,     0.71456,     0.71912,     0.72739,      0.7374,     0.74272,     0.74662,     0.75034,     0.75292,\n",
       "            0.75551,     0.75809,      0.7584,     0.76643,      0.7744,     0.77567,     0.77483,     0.77398,     0.77308,     0.77204,     0.77099,     0.77064,     0.77181,     0.77298,     0.77416,     0.77533,      0.7765,     0.77768,     0.77885,     0.78002,     0.78092,     0.78124,     0.78155,\n",
       "            0.78187,     0.78218,      0.7825,     0.78281,     0.78313,     0.78344,     0.78376,     0.78407,     0.78438,      0.7847,     0.78501,     0.78533,     0.78564,     0.78596,     0.78627,     0.78659,      0.7869,     0.78722,     0.78753,     0.78785,     0.78816,     0.78848,     0.78879,\n",
       "            0.78911,     0.78942,     0.78974,     0.79005,     0.79037,     0.79068,       0.791,     0.79131,     0.79163,     0.79648,     0.80202,     0.81288,      0.8146,     0.81497,     0.81533,     0.81569,     0.81605,     0.81642,     0.81678,     0.81714,      0.8175,     0.81787,     0.81823,\n",
       "            0.81859,     0.81895,     0.81932,     0.81968,     0.82004,      0.8204,     0.82077,     0.82113,     0.82149,     0.82185,     0.82222,     0.82258,     0.82294,      0.8233,     0.82367,     0.82403,     0.82439,     0.82475,     0.82512,     0.82548,     0.82584,     0.83833,     0.83862,\n",
       "            0.83891,     0.83919,     0.83948,     0.83977,     0.84006,     0.84035,     0.84064,     0.84093,     0.84122,     0.84151,      0.8418,     0.84208,     0.84237,     0.84266,     0.84295,     0.84324,     0.84353,     0.84382,     0.84411,      0.8444,     0.84469,     0.84497,     0.84526,\n",
       "            0.84555,     0.84584,     0.84613,     0.84642,     0.84671,       0.847,     0.84729,     0.84758,     0.84786,     0.84815,     0.84844,     0.84873,     0.84902,     0.84931,      0.8496,     0.84989,     0.85018,     0.85047,     0.85077,     0.85167,     0.85256,     0.85346,     0.85435,\n",
       "            0.85525,     0.85615,     0.85704,     0.85794,     0.85883,     0.85973,     0.86063,     0.86152,     0.86242,     0.86331,     0.86406,     0.86472,     0.86538,     0.86604,      0.8667,     0.86736,     0.86802,     0.86868,     0.86934,        0.87,     0.87066,     0.87132,     0.87198,\n",
       "            0.87264,      0.8733,     0.87396,     0.87462,     0.87528,     0.87594,      0.8766,     0.87736,      0.8782,     0.87905,     0.87989,     0.88074,     0.88158,     0.88243,     0.88327,     0.88412,     0.88496,     0.88581,     0.88665,      0.8875,     0.88834,     0.88919,     0.89003,\n",
       "            0.89089,     0.89179,     0.89269,     0.89359,     0.89449,     0.89539,     0.89628,     0.89718,     0.89808,     0.89898,     0.89988,     0.90078,     0.90168,     0.90257,     0.90347,     0.90437,     0.90494,     0.90526,     0.90557,     0.90588,      0.9062,     0.90651,     0.90683,\n",
       "            0.90714,     0.90746,     0.90777,     0.90809,      0.9084,     0.90872,     0.90903,     0.90935,     0.90966,     0.90998,     0.91029,     0.91061,     0.91092,     0.91124,     0.91155,     0.91187,     0.91218,      0.9125,     0.91281,     0.91313,     0.91344,     0.91376,     0.91407,\n",
       "            0.91439,      0.9147,     0.91502,     0.91533,     0.91565,     0.91596,     0.91628,     0.91659,     0.91691,     0.91722,     0.91754,     0.91785,     0.91817,     0.91848,      0.9188,     0.91911,     0.91942,     0.91969,     0.91996,     0.92024,     0.92051,     0.92078,     0.92106,\n",
       "            0.92133,      0.9216,     0.92188,     0.92215,     0.92242,      0.9227,     0.92297,     0.92324,     0.92352,     0.92379,     0.92406,     0.92434,     0.92461,     0.92489,     0.92516,     0.92543,     0.92571,     0.92598,     0.92625,     0.92653,      0.9268,     0.92707,     0.92735,\n",
       "            0.92762,     0.92789,     0.92817,     0.92844,     0.92871,     0.92899,     0.92926,     0.92953,     0.92981,     0.93008,     0.93035,     0.93063,      0.9309,     0.93117,     0.93145,     0.93172,     0.93199,     0.93227,     0.93254,     0.93281,     0.93309,     0.93336,     0.93363,\n",
       "            0.93391,     0.93418,     0.93447,     0.93484,     0.93522,     0.93559,     0.93597,     0.93634,     0.93672,      0.9371,     0.93747,     0.93785,     0.93822,      0.9386,     0.93897,     0.93935,     0.93972,      0.9401,     0.94048,     0.94085,     0.94123,      0.9416,     0.94198,\n",
       "            0.94235,     0.94273,      0.9431,     0.94348,     0.94386,     0.94423,     0.94461,     0.94498,     0.94536,     0.94573,     0.94611,     0.94649,     0.94686,     0.94724,     0.94761,     0.94799,     0.94836,     0.94874,     0.94911,     0.94949,     0.94987,     0.94996,      0.9499,\n",
       "            0.94984,     0.94977,     0.94971,     0.94965,     0.94959,     0.94953,     0.94946,      0.9494,     0.94934,     0.94928,     0.94922,     0.94915,     0.94926,     0.94938,     0.94949,     0.94961,     0.94972,     0.94983,     0.94995,     0.95006,     0.95017,     0.95029,      0.9504,\n",
       "            0.95052,     0.95063,     0.95074,     0.95086,     0.95097,     0.95108,      0.9512,     0.95131,     0.95143,     0.95154,     0.95165,     0.95177,     0.95188,     0.95199,     0.95211,     0.95222,     0.95234,     0.95245,     0.95256,     0.95268,     0.95279,      0.9529,     0.95302,\n",
       "            0.95313,     0.95324,     0.95336,     0.95347,     0.95359,      0.9537,     0.95381,     0.95393,     0.95404,     0.95415,     0.95427,     0.95438,      0.9545,     0.95461,     0.95472,     0.95484,     0.95495,     0.95506,     0.95518,     0.95529,     0.95541,     0.95552,     0.95563,\n",
       "            0.95575,     0.95586,     0.95597,     0.95609,      0.9562,     0.95632,     0.95643,     0.95654,     0.95666,     0.95677,     0.95688,       0.957,     0.95711,     0.95723,     0.95734,     0.95745,     0.95757,     0.95768,     0.95779,     0.95791,     0.95802,     0.95813,     0.95825,\n",
       "            0.95836,     0.95848,     0.95859,      0.9587,     0.95882,     0.95893,     0.95904,     0.95916,     0.95927,     0.95939,      0.9595,     0.95961,     0.95973,     0.95984,     0.95995,     0.96007,     0.96018,      0.9603,     0.96041,     0.96052,     0.96064,     0.96075,     0.96086,\n",
       "            0.96098,     0.96109,     0.96121,     0.96132,     0.96143,     0.96155,     0.96166,     0.96177,     0.96189,       0.962,     0.96212,     0.96223,     0.96234,     0.96246,     0.96257,     0.96268,      0.9628,     0.96291,     0.96303,     0.96314,     0.96325,     0.96337,     0.96348,\n",
       "            0.96359,     0.96371,     0.96382,     0.96393,     0.96405,     0.96416,     0.96428,     0.96439,      0.9645,     0.96462,     0.96473,     0.96484,     0.96496,     0.96507,     0.96519,      0.9653,     0.96541,     0.96551,     0.96549,     0.96546,     0.96543,      0.9654,     0.96537,\n",
       "            0.96535,     0.96532,     0.96529,     0.96526,     0.96523,      0.9652,     0.96518,     0.96515,     0.96512,     0.96509,     0.96506,     0.96504,     0.96501,     0.96498,     0.96495,     0.96492,     0.96491,     0.96489,     0.96488,     0.96487,     0.96486,     0.96485,     0.96484,\n",
       "            0.96483,     0.96482,     0.96481,      0.9648,     0.96478,     0.96477,     0.96476,     0.96475,     0.96474,     0.96473,     0.96472,     0.96471,      0.9647,     0.96469,     0.96467,     0.96466,     0.96465,     0.96464,     0.96463,     0.96462,     0.96461,      0.9646,     0.96459,\n",
       "            0.96458,     0.96457,     0.96455,     0.96454,     0.96453,     0.96452,     0.96451,      0.9645,     0.96449,     0.96448,     0.96447,     0.96446,     0.96444,     0.96443,     0.96442,     0.96441,      0.9644,     0.96439,     0.96438,     0.96437,     0.96436,     0.96435,     0.96433,\n",
       "            0.96432,     0.96431,      0.9643,     0.96429,     0.96428,     0.96428,     0.96427,     0.96426,     0.96426,     0.96425,     0.96425,     0.96424,     0.96423,     0.96423,     0.96422,     0.96421,     0.96421,      0.9642,      0.9642,     0.96419,     0.96418,     0.96418,     0.96417,\n",
       "            0.96417,     0.96416,     0.96415,     0.96415,     0.96414,     0.96413,     0.96413,     0.96412,     0.96412,     0.96411,      0.9641,      0.9641,     0.96409,     0.96409,     0.96408,     0.96407,     0.96407,     0.96406,     0.96405,     0.96405,     0.96404,     0.96404,     0.96403,\n",
       "            0.96402,     0.96402,     0.96401,       0.964,       0.964,     0.96399,     0.96399,     0.96398,     0.96397,     0.96397,     0.96396,     0.96396,     0.96395,     0.96394,     0.96394,     0.96393,     0.96392,     0.96392,     0.96391,     0.96391,      0.9639,     0.96389,     0.96389,\n",
       "            0.96388,     0.96388,     0.96387,     0.96386,     0.96386,     0.96385,     0.96384,     0.96384,     0.96383,     0.96383,     0.96382,     0.96381,     0.96381,      0.9638,      0.9638,     0.96379,     0.96378,     0.96378,     0.96377,     0.96376,     0.96376,     0.96375,     0.96375,\n",
       "            0.96374,     0.96373,     0.96373,     0.96372,     0.96372,     0.96371,      0.9637,      0.9637,     0.96369,     0.96368,     0.96368,     0.96367,     0.96367,     0.96366,     0.96365,     0.96365,     0.96364,     0.96363,     0.96362,     0.96361,     0.96359,     0.96358,     0.96357,\n",
       "            0.96355,     0.96354,     0.96353,     0.96351,      0.9635,     0.96349,     0.96347,     0.96346,     0.96345,     0.96343,     0.96342,     0.96341,     0.96339,     0.96338,     0.96337,     0.96335,     0.96334,     0.96333,     0.96331,      0.9633,     0.96329,     0.96327,     0.96326,\n",
       "            0.96325,     0.96323,     0.96322,      0.9632,     0.96319,     0.96318,     0.96316,     0.96315,     0.96314,     0.96312,     0.96311,      0.9631,     0.96308,     0.96307,     0.96306,     0.96304,     0.96303,     0.96302,       0.963,     0.96299,     0.96298,     0.96296,     0.96291,\n",
       "            0.96285,     0.96279,     0.96273,     0.96267,     0.96261,     0.96255,     0.96249,     0.96243,     0.96237,     0.96231,     0.96225,     0.96219,     0.96213,     0.96206,       0.962,     0.96194,     0.96188,     0.96182,     0.96175,     0.96169,     0.96163,     0.96157,     0.96148,\n",
       "            0.96137,     0.96126,     0.96115,     0.96104,     0.96093,     0.96082,     0.97461,     0.97999,     0.97998,     0.97996,     0.97995,     0.97994,     0.97992,     0.97991,     0.97989,     0.97988,     0.97987,     0.97985,     0.97984,     0.97983,     0.97981,      0.9798,     0.97978,\n",
       "            0.97977,     0.97976,     0.97974,     0.97973,     0.97972,      0.9797,     0.97969,     0.97967,     0.97966,     0.97965,     0.97963,     0.97962,     0.97961,     0.97959,     0.97916,     0.97915,     0.97914,     0.97913,     0.97912,     0.97911,      0.9791,     0.97908,     0.97907,\n",
       "            0.97906,     0.97905,     0.97904,     0.97903,     0.97902,     0.97901,       0.979,     0.97899,     0.97898,     0.97896,     0.97895,     0.97894,     0.97893,     0.97892,     0.97891,      0.9789,     0.97889,     0.97888,     0.97887,     0.97885,     0.97884,     0.97883,     0.97882,\n",
       "            0.97881,      0.9788,     0.97879,     0.97878,     0.97877,     0.97876,     0.97875,     0.97873,     0.97872,     0.97853,     0.97834,     0.97819,     0.97807,     0.97794,     0.97782,     0.97744,      0.9769,     0.97634,      0.9761,     0.97598,     0.97587,     0.97575,     0.97563,\n",
       "            0.97557,     0.97551,     0.97546,     0.97541,     0.97536,     0.97531,     0.97525,      0.9752,     0.97515,      0.9751,     0.97504,     0.97497,     0.97475,     0.97453,     0.97421,     0.97357,     0.97308,     0.97257,     0.97212,     0.97179,     0.97147,     0.97124,     0.97102,\n",
       "            0.97081,     0.97059,        0.97,     0.96956,     0.96928,       0.969,     0.96769,     0.96714,     0.96633,     0.96496,     0.96376,     0.96193,     0.95917,     0.95598,     0.95167,     0.94548,       0.968,     0.99647,           1,           1,           1,           1,           1,\n",
       "                  1,           1,           1,           1,           1,           1,           1,           1,           1,           1,           1,           1,           1,           1,           1,           1,           1,           1,           1,           1,           1,           1,           1,\n",
       "                  1,           1,           1,           1,           1,           1,           1,           1,           1,           1,           1,           1,           1,           1,           1,           1,           1,           1,           1,           1,           1,           1,           1,\n",
       "                  1,           1,           1,           1,           1,           1,           1,           1,           1,           1,           1,           1,           1,           1,           1,           1,           1,           1,           1,           1,           1,           1,           1,\n",
       "                  1,           1,           1,           1,           1,           1,           1,           1,           1,           1,           1]]), 'Confidence', 'Precision'], [array([          0,    0.001001,    0.002002,    0.003003,    0.004004,    0.005005,    0.006006,    0.007007,    0.008008,    0.009009,     0.01001,    0.011011,    0.012012,    0.013013,    0.014014,    0.015015,    0.016016,    0.017017,    0.018018,    0.019019,     0.02002,    0.021021,    0.022022,    0.023023,\n",
       "          0.024024,    0.025025,    0.026026,    0.027027,    0.028028,    0.029029,     0.03003,    0.031031,    0.032032,    0.033033,    0.034034,    0.035035,    0.036036,    0.037037,    0.038038,    0.039039,     0.04004,    0.041041,    0.042042,    0.043043,    0.044044,    0.045045,    0.046046,    0.047047,\n",
       "          0.048048,    0.049049,     0.05005,    0.051051,    0.052052,    0.053053,    0.054054,    0.055055,    0.056056,    0.057057,    0.058058,    0.059059,     0.06006,    0.061061,    0.062062,    0.063063,    0.064064,    0.065065,    0.066066,    0.067067,    0.068068,    0.069069,     0.07007,    0.071071,\n",
       "          0.072072,    0.073073,    0.074074,    0.075075,    0.076076,    0.077077,    0.078078,    0.079079,     0.08008,    0.081081,    0.082082,    0.083083,    0.084084,    0.085085,    0.086086,    0.087087,    0.088088,    0.089089,     0.09009,    0.091091,    0.092092,    0.093093,    0.094094,    0.095095,\n",
       "          0.096096,    0.097097,    0.098098,    0.099099,      0.1001,      0.1011,      0.1021,      0.1031,      0.1041,     0.10511,     0.10611,     0.10711,     0.10811,     0.10911,     0.11011,     0.11111,     0.11211,     0.11311,     0.11411,     0.11512,     0.11612,     0.11712,     0.11812,     0.11912,\n",
       "           0.12012,     0.12112,     0.12212,     0.12312,     0.12412,     0.12513,     0.12613,     0.12713,     0.12813,     0.12913,     0.13013,     0.13113,     0.13213,     0.13313,     0.13413,     0.13514,     0.13614,     0.13714,     0.13814,     0.13914,     0.14014,     0.14114,     0.14214,     0.14314,\n",
       "           0.14414,     0.14515,     0.14615,     0.14715,     0.14815,     0.14915,     0.15015,     0.15115,     0.15215,     0.15315,     0.15415,     0.15516,     0.15616,     0.15716,     0.15816,     0.15916,     0.16016,     0.16116,     0.16216,     0.16316,     0.16416,     0.16517,     0.16617,     0.16717,\n",
       "           0.16817,     0.16917,     0.17017,     0.17117,     0.17217,     0.17317,     0.17417,     0.17518,     0.17618,     0.17718,     0.17818,     0.17918,     0.18018,     0.18118,     0.18218,     0.18318,     0.18418,     0.18519,     0.18619,     0.18719,     0.18819,     0.18919,     0.19019,     0.19119,\n",
       "           0.19219,     0.19319,     0.19419,      0.1952,      0.1962,      0.1972,      0.1982,      0.1992,      0.2002,      0.2012,      0.2022,      0.2032,      0.2042,     0.20521,     0.20621,     0.20721,     0.20821,     0.20921,     0.21021,     0.21121,     0.21221,     0.21321,     0.21421,     0.21522,\n",
       "           0.21622,     0.21722,     0.21822,     0.21922,     0.22022,     0.22122,     0.22222,     0.22322,     0.22422,     0.22523,     0.22623,     0.22723,     0.22823,     0.22923,     0.23023,     0.23123,     0.23223,     0.23323,     0.23423,     0.23524,     0.23624,     0.23724,     0.23824,     0.23924,\n",
       "           0.24024,     0.24124,     0.24224,     0.24324,     0.24424,     0.24525,     0.24625,     0.24725,     0.24825,     0.24925,     0.25025,     0.25125,     0.25225,     0.25325,     0.25425,     0.25526,     0.25626,     0.25726,     0.25826,     0.25926,     0.26026,     0.26126,     0.26226,     0.26326,\n",
       "           0.26426,     0.26527,     0.26627,     0.26727,     0.26827,     0.26927,     0.27027,     0.27127,     0.27227,     0.27327,     0.27427,     0.27528,     0.27628,     0.27728,     0.27828,     0.27928,     0.28028,     0.28128,     0.28228,     0.28328,     0.28428,     0.28529,     0.28629,     0.28729,\n",
       "           0.28829,     0.28929,     0.29029,     0.29129,     0.29229,     0.29329,     0.29429,      0.2953,      0.2963,      0.2973,      0.2983,      0.2993,      0.3003,      0.3013,      0.3023,      0.3033,      0.3043,     0.30531,     0.30631,     0.30731,     0.30831,     0.30931,     0.31031,     0.31131,\n",
       "           0.31231,     0.31331,     0.31431,     0.31532,     0.31632,     0.31732,     0.31832,     0.31932,     0.32032,     0.32132,     0.32232,     0.32332,     0.32432,     0.32533,     0.32633,     0.32733,     0.32833,     0.32933,     0.33033,     0.33133,     0.33233,     0.33333,     0.33433,     0.33534,\n",
       "           0.33634,     0.33734,     0.33834,     0.33934,     0.34034,     0.34134,     0.34234,     0.34334,     0.34434,     0.34535,     0.34635,     0.34735,     0.34835,     0.34935,     0.35035,     0.35135,     0.35235,     0.35335,     0.35435,     0.35536,     0.35636,     0.35736,     0.35836,     0.35936,\n",
       "           0.36036,     0.36136,     0.36236,     0.36336,     0.36436,     0.36537,     0.36637,     0.36737,     0.36837,     0.36937,     0.37037,     0.37137,     0.37237,     0.37337,     0.37437,     0.37538,     0.37638,     0.37738,     0.37838,     0.37938,     0.38038,     0.38138,     0.38238,     0.38338,\n",
       "           0.38438,     0.38539,     0.38639,     0.38739,     0.38839,     0.38939,     0.39039,     0.39139,     0.39239,     0.39339,     0.39439,      0.3954,      0.3964,      0.3974,      0.3984,      0.3994,      0.4004,      0.4014,      0.4024,      0.4034,      0.4044,     0.40541,     0.40641,     0.40741,\n",
       "           0.40841,     0.40941,     0.41041,     0.41141,     0.41241,     0.41341,     0.41441,     0.41542,     0.41642,     0.41742,     0.41842,     0.41942,     0.42042,     0.42142,     0.42242,     0.42342,     0.42442,     0.42543,     0.42643,     0.42743,     0.42843,     0.42943,     0.43043,     0.43143,\n",
       "           0.43243,     0.43343,     0.43443,     0.43544,     0.43644,     0.43744,     0.43844,     0.43944,     0.44044,     0.44144,     0.44244,     0.44344,     0.44444,     0.44545,     0.44645,     0.44745,     0.44845,     0.44945,     0.45045,     0.45145,     0.45245,     0.45345,     0.45445,     0.45546,\n",
       "           0.45646,     0.45746,     0.45846,     0.45946,     0.46046,     0.46146,     0.46246,     0.46346,     0.46446,     0.46547,     0.46647,     0.46747,     0.46847,     0.46947,     0.47047,     0.47147,     0.47247,     0.47347,     0.47447,     0.47548,     0.47648,     0.47748,     0.47848,     0.47948,\n",
       "           0.48048,     0.48148,     0.48248,     0.48348,     0.48448,     0.48549,     0.48649,     0.48749,     0.48849,     0.48949,     0.49049,     0.49149,     0.49249,     0.49349,     0.49449,      0.4955,      0.4965,      0.4975,      0.4985,      0.4995,      0.5005,      0.5015,      0.5025,      0.5035,\n",
       "            0.5045,     0.50551,     0.50651,     0.50751,     0.50851,     0.50951,     0.51051,     0.51151,     0.51251,     0.51351,     0.51451,     0.51552,     0.51652,     0.51752,     0.51852,     0.51952,     0.52052,     0.52152,     0.52252,     0.52352,     0.52452,     0.52553,     0.52653,     0.52753,\n",
       "           0.52853,     0.52953,     0.53053,     0.53153,     0.53253,     0.53353,     0.53453,     0.53554,     0.53654,     0.53754,     0.53854,     0.53954,     0.54054,     0.54154,     0.54254,     0.54354,     0.54454,     0.54555,     0.54655,     0.54755,     0.54855,     0.54955,     0.55055,     0.55155,\n",
       "           0.55255,     0.55355,     0.55455,     0.55556,     0.55656,     0.55756,     0.55856,     0.55956,     0.56056,     0.56156,     0.56256,     0.56356,     0.56456,     0.56557,     0.56657,     0.56757,     0.56857,     0.56957,     0.57057,     0.57157,     0.57257,     0.57357,     0.57457,     0.57558,\n",
       "           0.57658,     0.57758,     0.57858,     0.57958,     0.58058,     0.58158,     0.58258,     0.58358,     0.58458,     0.58559,     0.58659,     0.58759,     0.58859,     0.58959,     0.59059,     0.59159,     0.59259,     0.59359,     0.59459,      0.5956,      0.5966,      0.5976,      0.5986,      0.5996,\n",
       "            0.6006,      0.6016,      0.6026,      0.6036,      0.6046,     0.60561,     0.60661,     0.60761,     0.60861,     0.60961,     0.61061,     0.61161,     0.61261,     0.61361,     0.61461,     0.61562,     0.61662,     0.61762,     0.61862,     0.61962,     0.62062,     0.62162,     0.62262,     0.62362,\n",
       "           0.62462,     0.62563,     0.62663,     0.62763,     0.62863,     0.62963,     0.63063,     0.63163,     0.63263,     0.63363,     0.63463,     0.63564,     0.63664,     0.63764,     0.63864,     0.63964,     0.64064,     0.64164,     0.64264,     0.64364,     0.64464,     0.64565,     0.64665,     0.64765,\n",
       "           0.64865,     0.64965,     0.65065,     0.65165,     0.65265,     0.65365,     0.65465,     0.65566,     0.65666,     0.65766,     0.65866,     0.65966,     0.66066,     0.66166,     0.66266,     0.66366,     0.66466,     0.66567,     0.66667,     0.66767,     0.66867,     0.66967,     0.67067,     0.67167,\n",
       "           0.67267,     0.67367,     0.67467,     0.67568,     0.67668,     0.67768,     0.67868,     0.67968,     0.68068,     0.68168,     0.68268,     0.68368,     0.68468,     0.68569,     0.68669,     0.68769,     0.68869,     0.68969,     0.69069,     0.69169,     0.69269,     0.69369,     0.69469,      0.6957,\n",
       "            0.6967,      0.6977,      0.6987,      0.6997,      0.7007,      0.7017,      0.7027,      0.7037,      0.7047,     0.70571,     0.70671,     0.70771,     0.70871,     0.70971,     0.71071,     0.71171,     0.71271,     0.71371,     0.71471,     0.71572,     0.71672,     0.71772,     0.71872,     0.71972,\n",
       "           0.72072,     0.72172,     0.72272,     0.72372,     0.72472,     0.72573,     0.72673,     0.72773,     0.72873,     0.72973,     0.73073,     0.73173,     0.73273,     0.73373,     0.73473,     0.73574,     0.73674,     0.73774,     0.73874,     0.73974,     0.74074,     0.74174,     0.74274,     0.74374,\n",
       "           0.74474,     0.74575,     0.74675,     0.74775,     0.74875,     0.74975,     0.75075,     0.75175,     0.75275,     0.75375,     0.75475,     0.75576,     0.75676,     0.75776,     0.75876,     0.75976,     0.76076,     0.76176,     0.76276,     0.76376,     0.76476,     0.76577,     0.76677,     0.76777,\n",
       "           0.76877,     0.76977,     0.77077,     0.77177,     0.77277,     0.77377,     0.77477,     0.77578,     0.77678,     0.77778,     0.77878,     0.77978,     0.78078,     0.78178,     0.78278,     0.78378,     0.78478,     0.78579,     0.78679,     0.78779,     0.78879,     0.78979,     0.79079,     0.79179,\n",
       "           0.79279,     0.79379,     0.79479,      0.7958,      0.7968,      0.7978,      0.7988,      0.7998,      0.8008,      0.8018,      0.8028,      0.8038,      0.8048,     0.80581,     0.80681,     0.80781,     0.80881,     0.80981,     0.81081,     0.81181,     0.81281,     0.81381,     0.81481,     0.81582,\n",
       "           0.81682,     0.81782,     0.81882,     0.81982,     0.82082,     0.82182,     0.82282,     0.82382,     0.82482,     0.82583,     0.82683,     0.82783,     0.82883,     0.82983,     0.83083,     0.83183,     0.83283,     0.83383,     0.83483,     0.83584,     0.83684,     0.83784,     0.83884,     0.83984,\n",
       "           0.84084,     0.84184,     0.84284,     0.84384,     0.84484,     0.84585,     0.84685,     0.84785,     0.84885,     0.84985,     0.85085,     0.85185,     0.85285,     0.85385,     0.85485,     0.85586,     0.85686,     0.85786,     0.85886,     0.85986,     0.86086,     0.86186,     0.86286,     0.86386,\n",
       "           0.86486,     0.86587,     0.86687,     0.86787,     0.86887,     0.86987,     0.87087,     0.87187,     0.87287,     0.87387,     0.87487,     0.87588,     0.87688,     0.87788,     0.87888,     0.87988,     0.88088,     0.88188,     0.88288,     0.88388,     0.88488,     0.88589,     0.88689,     0.88789,\n",
       "           0.88889,     0.88989,     0.89089,     0.89189,     0.89289,     0.89389,     0.89489,      0.8959,      0.8969,      0.8979,      0.8989,      0.8999,      0.9009,      0.9019,      0.9029,      0.9039,      0.9049,     0.90591,     0.90691,     0.90791,     0.90891,     0.90991,     0.91091,     0.91191,\n",
       "           0.91291,     0.91391,     0.91491,     0.91592,     0.91692,     0.91792,     0.91892,     0.91992,     0.92092,     0.92192,     0.92292,     0.92392,     0.92492,     0.92593,     0.92693,     0.92793,     0.92893,     0.92993,     0.93093,     0.93193,     0.93293,     0.93393,     0.93493,     0.93594,\n",
       "           0.93694,     0.93794,     0.93894,     0.93994,     0.94094,     0.94194,     0.94294,     0.94394,     0.94494,     0.94595,     0.94695,     0.94795,     0.94895,     0.94995,     0.95095,     0.95195,     0.95295,     0.95395,     0.95495,     0.95596,     0.95696,     0.95796,     0.95896,     0.95996,\n",
       "           0.96096,     0.96196,     0.96296,     0.96396,     0.96496,     0.96597,     0.96697,     0.96797,     0.96897,     0.96997,     0.97097,     0.97197,     0.97297,     0.97397,     0.97497,     0.97598,     0.97698,     0.97798,     0.97898,     0.97998,     0.98098,     0.98198,     0.98298,     0.98398,\n",
       "           0.98498,     0.98599,     0.98699,     0.98799,     0.98899,     0.98999,     0.99099,     0.99199,     0.99299,     0.99399,     0.99499,       0.996,       0.997,       0.998,       0.999,           1]), array([[    0.91176,     0.91176,     0.91176,     0.91176,     0.91176,     0.91176,     0.89706,     0.89706,     0.89706,     0.89706,     0.89706,     0.89706,     0.88235,     0.88235,     0.88235,     0.88235,     0.88235,     0.88235,     0.88235,     0.88235,     0.88235,     0.88235,     0.88235,\n",
       "            0.88235,     0.88235,     0.87716,     0.86765,     0.86765,     0.86447,      0.8603,     0.85612,     0.85174,     0.84672,     0.84169,     0.83824,     0.83824,     0.83824,     0.83824,     0.83824,     0.83824,     0.83824,     0.83824,     0.83824,     0.83824,     0.83824,     0.83824,\n",
       "            0.83824,     0.83824,     0.83824,     0.83824,     0.83824,     0.83824,     0.83824,     0.83824,     0.83824,     0.83824,     0.83824,     0.83824,     0.83824,     0.83824,     0.83824,     0.83824,     0.83824,     0.83824,     0.83824,     0.83824,     0.83824,     0.83824,     0.83824,\n",
       "            0.83824,     0.83824,     0.83824,     0.83824,     0.83824,     0.83824,     0.83824,     0.83824,     0.83824,     0.83824,     0.83824,     0.83824,     0.83824,     0.83824,     0.83824,     0.83824,     0.83824,     0.83824,     0.83824,     0.83824,     0.83824,     0.83824,     0.83824,\n",
       "            0.83824,     0.83824,     0.83824,     0.83824,     0.83824,     0.83824,     0.83824,     0.83824,     0.83824,     0.83824,     0.83824,     0.83824,     0.83824,     0.83824,     0.83824,     0.83824,     0.83824,     0.83824,     0.83824,     0.83824,     0.83824,     0.83824,     0.83824,\n",
       "            0.83824,     0.83824,     0.83824,     0.83824,     0.83824,     0.83824,     0.83824,     0.83824,     0.83824,     0.83824,     0.83824,     0.83824,     0.83824,     0.83824,     0.83824,     0.83824,     0.83824,     0.83824,     0.83824,     0.83824,     0.83824,     0.83824,     0.83824,\n",
       "            0.83824,     0.83824,     0.83824,     0.83824,     0.83824,     0.83824,     0.83824,     0.83824,     0.83824,     0.83824,     0.83824,     0.83824,     0.83824,     0.83824,     0.83824,     0.83824,     0.83824,     0.83824,     0.83824,     0.83824,     0.83824,     0.83824,     0.83824,\n",
       "            0.83824,     0.83824,     0.83824,     0.83824,     0.83824,     0.83824,     0.83824,     0.83824,     0.83824,     0.83824,     0.83824,     0.83824,     0.83824,     0.83824,     0.83824,     0.83824,     0.83824,     0.83824,     0.83824,     0.83824,     0.83824,     0.83824,     0.83824,\n",
       "            0.83824,     0.83824,     0.83824,     0.83824,     0.83824,     0.83824,     0.83824,     0.83824,     0.83824,     0.83824,     0.83824,     0.83824,     0.83824,     0.83824,     0.83824,     0.83824,     0.83824,     0.83824,     0.83824,     0.83824,     0.83824,     0.83824,     0.83824,\n",
       "            0.83824,     0.83824,     0.83824,     0.83824,     0.83824,     0.83824,     0.83824,     0.83824,     0.83824,     0.83824,     0.83824,     0.83824,     0.83824,     0.83824,     0.83824,     0.83824,     0.83824,     0.83824,     0.83824,     0.83824,     0.83824,     0.83824,     0.83824,\n",
       "            0.83824,     0.83824,     0.83824,     0.83824,     0.83824,     0.83824,     0.83824,     0.83824,     0.83824,     0.83824,     0.83824,     0.83824,     0.83824,     0.83824,     0.83824,     0.83824,     0.83824,     0.83824,     0.83824,     0.83824,     0.83824,     0.83824,     0.83824,\n",
       "            0.83824,     0.83824,     0.83824,     0.83824,     0.83824,     0.83824,     0.83824,     0.83824,     0.83824,     0.83824,     0.83824,     0.83824,     0.83824,     0.83824,     0.83824,     0.83824,     0.83824,     0.83824,     0.83824,     0.83824,     0.83824,     0.83824,     0.83824,\n",
       "            0.83824,     0.83824,     0.83824,     0.83824,     0.83824,     0.83824,     0.83824,     0.83824,     0.83824,     0.83824,     0.83824,     0.83824,     0.83824,     0.83824,     0.83824,     0.83824,     0.83824,     0.83824,     0.83824,     0.83824,     0.83824,     0.83824,     0.83824,\n",
       "            0.83824,     0.83824,     0.83824,     0.83824,     0.83824,     0.83824,     0.83824,     0.83824,     0.83824,     0.83824,     0.83824,     0.83824,     0.83824,     0.83824,     0.83824,     0.83824,     0.83824,     0.83824,     0.83824,     0.83824,     0.83824,     0.83824,     0.83824,\n",
       "            0.83824,     0.83824,     0.83824,     0.83824,     0.83824,     0.83824,     0.83824,     0.83824,     0.83824,     0.83824,     0.83824,     0.83824,     0.83824,     0.83824,     0.83824,     0.83824,     0.83824,     0.83824,     0.83824,     0.83824,     0.83824,     0.83824,     0.83824,\n",
       "            0.83824,     0.83824,     0.83824,     0.83824,     0.83824,     0.83824,     0.83824,     0.83824,     0.83824,     0.83824,     0.83824,     0.83824,     0.83824,     0.83824,     0.83824,     0.83824,     0.83824,     0.83824,     0.83824,     0.83824,     0.83824,     0.83754,     0.83647,\n",
       "            0.83539,     0.83431,     0.83324,     0.83216,     0.83108,     0.83001,     0.82893,     0.82785,     0.82678,      0.8257,     0.82462,     0.82355,     0.82353,     0.82353,     0.82353,     0.82353,     0.82353,     0.82353,     0.82353,     0.82353,     0.82353,     0.82353,     0.82353,\n",
       "            0.82353,     0.82353,     0.82353,     0.82353,     0.82353,     0.82353,     0.82353,     0.82353,     0.82353,     0.82353,     0.82353,     0.82353,     0.82353,     0.82353,     0.82353,     0.82353,     0.82353,     0.82353,     0.82353,     0.82353,     0.82353,     0.82353,     0.82353,\n",
       "            0.82353,     0.82353,     0.82353,     0.82353,     0.82353,     0.82353,     0.82353,     0.82353,     0.82353,     0.82353,     0.82353,     0.82353,     0.82353,     0.82353,     0.82353,     0.82353,     0.82353,     0.82353,     0.82353,     0.82353,     0.82353,     0.82353,     0.82353,\n",
       "            0.82353,     0.82353,     0.82353,     0.82353,     0.82353,     0.82353,     0.82353,     0.82353,     0.82353,     0.82353,     0.82353,     0.82353,     0.82353,     0.82353,     0.82353,     0.82353,     0.82353,     0.82353,     0.82353,     0.82353,     0.82353,     0.82353,     0.82353,\n",
       "            0.82353,     0.82353,     0.82353,     0.82353,     0.82353,     0.82353,     0.82353,     0.82353,     0.82353,     0.82353,     0.82353,     0.82353,     0.82353,     0.82353,     0.82353,     0.82353,     0.82353,     0.82353,     0.82353,     0.82353,     0.82353,     0.82353,     0.82353,\n",
       "            0.82353,     0.82353,     0.82353,     0.82353,     0.82353,     0.82353,     0.82353,     0.82353,     0.82353,     0.82353,     0.82353,     0.82353,     0.82353,     0.82353,     0.82353,     0.82353,     0.82353,     0.82353,     0.82353,     0.82353,     0.82353,     0.82353,     0.82353,\n",
       "            0.82353,     0.82353,     0.82353,     0.82353,     0.82353,     0.82353,     0.82353,     0.82353,     0.82353,     0.82353,     0.82353,     0.82353,     0.82353,     0.82353,     0.82353,     0.82353,     0.82353,     0.82347,     0.82279,      0.8221,     0.82141,     0.82073,     0.82004,\n",
       "            0.81936,     0.81867,     0.81799,      0.8173,     0.81662,     0.81593,     0.81525,     0.81456,     0.81388,     0.81319,     0.81251,     0.81182,     0.81114,     0.81045,     0.80977,     0.80908,     0.80866,     0.80841,     0.80815,     0.80789,     0.80763,     0.80737,     0.80712,\n",
       "            0.80686,      0.8066,     0.80634,     0.80609,     0.80583,     0.80557,     0.80531,     0.80506,      0.8048,     0.80454,     0.80428,     0.80402,     0.80377,     0.80351,     0.80325,     0.80299,     0.80274,     0.80248,     0.80222,     0.80196,     0.80171,     0.80145,     0.80119,\n",
       "            0.80093,     0.80068,     0.80042,     0.80016,      0.7999,     0.79964,     0.79939,     0.79913,     0.79887,     0.79861,     0.79836,      0.7981,     0.79784,     0.79758,     0.79733,     0.79707,     0.79681,     0.79655,     0.79629,     0.79604,     0.79578,     0.79552,     0.79526,\n",
       "            0.79501,     0.79475,     0.79449,     0.79423,     0.79404,      0.7939,     0.79376,     0.79362,     0.79348,     0.79334,      0.7932,     0.79306,     0.79292,     0.79278,     0.79264,     0.79251,     0.79237,     0.79223,     0.79209,     0.79195,     0.79181,     0.79167,     0.79153,\n",
       "            0.79139,     0.79125,     0.79111,     0.79097,     0.79083,     0.79069,     0.79055,     0.79041,     0.79027,     0.79013,     0.78999,     0.78985,     0.78971,     0.78957,     0.78943,      0.7893,     0.78916,     0.78902,     0.78888,     0.78874,      0.7886,     0.78846,     0.78832,\n",
       "            0.78818,     0.78804,      0.7879,     0.78776,     0.78762,     0.78748,     0.78734,      0.7872,     0.78706,     0.78692,     0.78678,     0.78664,      0.7865,     0.78636,     0.78622,     0.78609,     0.78595,     0.78581,     0.78567,     0.78553,     0.78539,     0.78525,     0.78511,\n",
       "            0.78497,     0.78483,     0.78469,     0.78455,     0.78441,     0.78427,     0.78413,     0.78399,     0.78385,     0.78371,     0.78357,     0.78343,     0.78329,     0.78315,     0.78301,     0.78287,     0.78274,      0.7826,     0.78246,     0.78232,     0.78218,     0.78204,      0.7819,\n",
       "            0.78176,     0.78162,     0.78148,     0.78134,      0.7812,     0.78106,     0.78092,     0.78078,     0.78064,      0.7805,     0.78036,     0.78022,     0.78008,     0.77994,      0.7798,     0.77966,     0.77953,     0.77936,     0.77906,     0.77877,     0.77848,     0.77819,     0.77789,\n",
       "             0.7776,     0.77731,     0.77702,     0.77672,     0.77643,     0.77614,     0.77584,     0.77555,     0.77526,     0.77497,     0.77467,     0.77438,     0.77409,      0.7738,      0.7735,     0.77321,     0.77292,     0.77262,     0.77233,     0.77204,     0.77175,     0.77145,     0.77116,\n",
       "            0.77087,     0.77058,     0.77028,     0.76999,      0.7697,     0.76941,     0.76911,     0.76882,     0.76853,     0.76823,     0.76794,     0.76765,     0.76736,     0.76706,     0.76677,     0.76648,     0.76619,     0.76589,      0.7656,     0.76531,     0.76501,     0.76472,     0.76352,\n",
       "            0.76226,     0.76101,     0.75975,     0.75849,     0.75724,     0.75598,     0.75473,     0.75347,     0.75221,     0.75096,      0.7497,     0.74844,     0.74719,     0.74593,     0.74468,     0.74342,     0.74216,     0.74091,     0.73965,      0.7384,     0.73714,     0.73588,     0.73415,\n",
       "              0.732,     0.72984,     0.72769,     0.72554,     0.72338,     0.72123,     0.72059,     0.72023,     0.71973,     0.71924,     0.71875,     0.71825,     0.71776,     0.71726,     0.71677,     0.71628,     0.71578,     0.71529,     0.71479,      0.7143,      0.7138,     0.71331,     0.71282,\n",
       "            0.71232,     0.71183,     0.71133,     0.71084,     0.71034,     0.70985,     0.70936,     0.70886,     0.70837,     0.70787,     0.70738,     0.70689,     0.70639,      0.7059,       0.691,     0.69064,     0.69027,     0.68991,     0.68955,     0.68918,     0.68882,     0.68846,      0.6881,\n",
       "            0.68773,     0.68737,     0.68701,     0.68664,     0.68628,     0.68592,     0.68555,     0.68519,     0.68483,     0.68446,      0.6841,     0.68374,     0.68337,     0.68301,     0.68265,     0.68228,     0.68192,     0.68156,     0.68119,     0.68083,     0.68047,      0.6801,     0.67974,\n",
       "            0.67938,     0.67901,     0.67865,     0.67829,     0.67792,     0.67756,      0.6772,     0.67684,     0.67647,     0.67046,     0.66443,     0.65966,     0.65589,     0.65213,     0.64836,     0.63718,     0.62211,     0.60703,     0.60074,     0.59773,     0.59472,      0.5917,     0.58869,\n",
       "            0.58717,     0.58591,     0.58465,      0.5834,     0.58214,     0.58089,     0.57963,     0.57837,     0.57712,     0.57586,     0.57461,     0.57281,     0.56778,     0.56276,     0.55556,     0.54169,     0.53164,      0.5216,     0.51281,     0.50678,     0.50075,      0.4967,     0.49293,\n",
       "            0.48916,      0.4854,     0.47551,     0.46839,     0.46409,     0.45978,     0.44046,     0.43292,     0.42213,     0.40517,     0.39124,     0.37172,     0.34565,     0.31952,     0.28974,     0.25521,        0.25,        0.25,      0.2368,     0.23077,     0.22575,     0.22072,      0.2108,\n",
       "            0.20204,      0.1945,     0.18556,     0.17359,      0.1581,     0.15207,     0.14451,     0.12944,     0.11436,     0.10148,    0.095451,    0.089422,    0.072737,    0.070225,    0.067712,      0.0652,    0.062688,    0.060175,    0.051861,    0.040452,    0.032915,    0.024034,           0,\n",
       "                  0,           0,           0,           0,           0,           0,           0,           0,           0,           0,           0,           0,           0,           0,           0,           0,           0,           0,           0,           0,           0,           0,           0,\n",
       "                  0,           0,           0,           0,           0,           0,           0,           0,           0,           0,           0,           0,           0,           0,           0,           0,           0,           0,           0,           0,           0,           0,           0,\n",
       "                  0,           0,           0,           0,           0,           0,           0,           0,           0,           0,           0]]), 'Confidence', 'Recall']]\n",
       "fitness: 0.5878921660307165\n",
       "keys: ['metrics/precision(B)', 'metrics/recall(B)', 'metrics/mAP50(B)', 'metrics/mAP50-95(B)']\n",
       "maps: array([    0.55359])\n",
       "names: {0: 'licence'}\n",
       "plot: True\n",
       "results_dict: {'metrics/precision(B)': 0.9609780718518794, 'metrics/recall(B)': 0.8235294117647058, 'metrics/mAP50(B)': 0.8966379232826314, 'metrics/mAP50-95(B)': 0.5535870818916149, 'fitness': 0.5878921660307165}\n",
       "save_dir: PosixPath('runs/detect/train')\n",
       "speed: {'preprocess': 0.15857815742492676, 'inference': 30.45976161956787, 'loss': 0.0008419156074523926, 'postprocess': 1.6069337725639343}\n",
       "task: 'detect'"
      ]
     },
     "execution_count": 8,
     "metadata": {},
     "output_type": "execute_result"
    }
   ],
   "source": [
    "model.train(data=\"/kaggle/working/Car_License_Plates-2/data.yaml\", epochs=80, imgsz=640)"
   ]
  },
  {
   "cell_type": "markdown",
   "id": "77e1785a",
   "metadata": {
    "papermill": {
     "duration": 0.323035,
     "end_time": "2024-12-15T05:18:21.300316",
     "exception": false,
     "start_time": "2024-12-15T05:18:20.977281",
     "status": "completed"
    },
    "tags": []
   },
   "source": [
    "### Test Model in Data Batch"
   ]
  },
  {
   "cell_type": "code",
   "execution_count": 9,
   "id": "83a9f515",
   "metadata": {
    "execution": {
     "iopub.execute_input": "2024-12-15T05:18:21.978439Z",
     "iopub.status.busy": "2024-12-15T05:18:21.978057Z",
     "iopub.status.idle": "2024-12-15T05:18:21.983331Z",
     "shell.execute_reply": "2024-12-15T05:18:21.982663Z"
    },
    "id": "F3ZnGqezX6N8",
    "outputId": "6c173e6d-b309-4bf1-bc1a-adb77315cab3",
    "papermill": {
     "duration": 0.326573,
     "end_time": "2024-12-15T05:18:21.984792",
     "exception": false,
     "start_time": "2024-12-15T05:18:21.658219",
     "status": "completed"
    },
    "tags": []
   },
   "outputs": [],
   "source": [
    "for image_path in glob.glob(r'/kaggle/working/runs/detect/train3/*.jpg'):\n",
    "    display(Image(filename=image_path, width=600))\n",
    "\n",
    "    print(\"-\" * 100, \"\\n\")"
   ]
  },
  {
   "cell_type": "markdown",
   "id": "b72ee18b",
   "metadata": {
    "papermill": {
     "duration": 0.383871,
     "end_time": "2024-12-15T05:18:22.694122",
     "exception": false,
     "start_time": "2024-12-15T05:18:22.310251",
     "status": "completed"
    },
    "tags": []
   },
   "source": [
    "### Evaluation Metrics"
   ]
  },
  {
   "cell_type": "code",
   "execution_count": 10,
   "id": "a91f8fdc",
   "metadata": {
    "execution": {
     "iopub.execute_input": "2024-12-15T05:18:23.339633Z",
     "iopub.status.busy": "2024-12-15T05:18:23.339264Z",
     "iopub.status.idle": "2024-12-15T05:18:23.343990Z",
     "shell.execute_reply": "2024-12-15T05:18:23.343294Z"
    },
    "id": "AdG99UEIX6Pk",
    "outputId": "d66f5465-b085-4945-882c-4d24ddcafab5",
    "papermill": {
     "duration": 0.332032,
     "end_time": "2024-12-15T05:18:23.345534",
     "exception": false,
     "start_time": "2024-12-15T05:18:23.013502",
     "status": "completed"
    },
    "tags": []
   },
   "outputs": [],
   "source": [
    "for image_path in glob.glob(r'/kaggle/working/runs/detect/train3/*.png'):\n",
    "    display(Image(filename=image_path, width=600))\n",
    "\n",
    "    print(\"-\" * 100, \"\\n\")"
   ]
  },
  {
   "cell_type": "markdown",
   "id": "9d2e1848",
   "metadata": {
    "papermill": {
     "duration": 0.355789,
     "end_time": "2024-12-15T05:18:24.047522",
     "exception": false,
     "start_time": "2024-12-15T05:18:23.691733",
     "status": "completed"
    },
    "tags": []
   },
   "source": [
    "### Model Metrics"
   ]
  },
  {
   "cell_type": "code",
   "execution_count": 11,
   "id": "15ee4a8f",
   "metadata": {
    "execution": {
     "iopub.execute_input": "2024-12-15T05:18:24.684910Z",
     "iopub.status.busy": "2024-12-15T05:18:24.684574Z",
     "iopub.status.idle": "2024-12-15T05:18:31.590068Z",
     "shell.execute_reply": "2024-12-15T05:18:31.589073Z"
    },
    "id": "0BkBHbqPX6RV",
    "outputId": "0c0391ad-f5ad-4f8c-b496-69c4a188297a",
    "papermill": {
     "duration": 7.227239,
     "end_time": "2024-12-15T05:18:31.594411",
     "exception": false,
     "start_time": "2024-12-15T05:18:24.367172",
     "status": "completed"
    },
    "tags": []
   },
   "outputs": [
    {
     "name": "stdout",
     "output_type": "stream",
     "text": [
      "Ultralytics 8.3.49 🚀 Python-3.10.14 torch-2.4.0 CUDA:0 (Tesla P100-PCIE-16GB, 16269MiB)\n",
      "YOLO11x summary (fused): 464 layers, 56,828,179 parameters, 0 gradients, 194.4 GFLOPs\n"
     ]
    },
    {
     "name": "stderr",
     "output_type": "stream",
     "text": [
      "\u001B[34m\u001B[1mval: \u001B[0mScanning /kaggle/working/Car_License_Plates-2/valid/labels.cache... 64 images, 0 backgrounds, 0 corrupt: 100%|██████████| 64/64 [00:00<?, ?it/s]\n",
      "os.fork() was called. os.fork() is incompatible with multithreaded code, and JAX is multithreaded, so this will likely lead to a deadlock.\n",
      "                 Class     Images  Instances      Box(P          R      mAP50  mAP50-95): 100%|██████████| 4/4 [00:02<00:00,  1.42it/s]\n"
     ]
    },
    {
     "name": "stdout",
     "output_type": "stream",
     "text": [
      "                   all         64         68      0.966      0.834      0.899      0.548\n",
      "Speed: 0.4ms preprocess, 33.9ms inference, 0.0ms loss, 0.9ms postprocess per image\n",
      "Results saved to \u001B[1mruns/detect/train2\u001B[0m\n"
     ]
    },
    {
     "data": {
      "text/plain": [
       "ultralytics.utils.metrics.DetMetrics object with attributes:\n",
       "\n",
       "ap_class_index: array([0])\n",
       "box: ultralytics.utils.metrics.Metric object\n",
       "confusion_matrix: <ultralytics.utils.metrics.ConfusionMatrix object at 0x7cd6903942e0>\n",
       "curves: ['Precision-Recall(B)', 'F1-Confidence(B)', 'Precision-Confidence(B)', 'Recall-Confidence(B)']\n",
       "curves_results: [[array([          0,    0.001001,    0.002002,    0.003003,    0.004004,    0.005005,    0.006006,    0.007007,    0.008008,    0.009009,     0.01001,    0.011011,    0.012012,    0.013013,    0.014014,    0.015015,    0.016016,    0.017017,    0.018018,    0.019019,     0.02002,    0.021021,    0.022022,    0.023023,\n",
       "          0.024024,    0.025025,    0.026026,    0.027027,    0.028028,    0.029029,     0.03003,    0.031031,    0.032032,    0.033033,    0.034034,    0.035035,    0.036036,    0.037037,    0.038038,    0.039039,     0.04004,    0.041041,    0.042042,    0.043043,    0.044044,    0.045045,    0.046046,    0.047047,\n",
       "          0.048048,    0.049049,     0.05005,    0.051051,    0.052052,    0.053053,    0.054054,    0.055055,    0.056056,    0.057057,    0.058058,    0.059059,     0.06006,    0.061061,    0.062062,    0.063063,    0.064064,    0.065065,    0.066066,    0.067067,    0.068068,    0.069069,     0.07007,    0.071071,\n",
       "          0.072072,    0.073073,    0.074074,    0.075075,    0.076076,    0.077077,    0.078078,    0.079079,     0.08008,    0.081081,    0.082082,    0.083083,    0.084084,    0.085085,    0.086086,    0.087087,    0.088088,    0.089089,     0.09009,    0.091091,    0.092092,    0.093093,    0.094094,    0.095095,\n",
       "          0.096096,    0.097097,    0.098098,    0.099099,      0.1001,      0.1011,      0.1021,      0.1031,      0.1041,     0.10511,     0.10611,     0.10711,     0.10811,     0.10911,     0.11011,     0.11111,     0.11211,     0.11311,     0.11411,     0.11512,     0.11612,     0.11712,     0.11812,     0.11912,\n",
       "           0.12012,     0.12112,     0.12212,     0.12312,     0.12412,     0.12513,     0.12613,     0.12713,     0.12813,     0.12913,     0.13013,     0.13113,     0.13213,     0.13313,     0.13413,     0.13514,     0.13614,     0.13714,     0.13814,     0.13914,     0.14014,     0.14114,     0.14214,     0.14314,\n",
       "           0.14414,     0.14515,     0.14615,     0.14715,     0.14815,     0.14915,     0.15015,     0.15115,     0.15215,     0.15315,     0.15415,     0.15516,     0.15616,     0.15716,     0.15816,     0.15916,     0.16016,     0.16116,     0.16216,     0.16316,     0.16416,     0.16517,     0.16617,     0.16717,\n",
       "           0.16817,     0.16917,     0.17017,     0.17117,     0.17217,     0.17317,     0.17417,     0.17518,     0.17618,     0.17718,     0.17818,     0.17918,     0.18018,     0.18118,     0.18218,     0.18318,     0.18418,     0.18519,     0.18619,     0.18719,     0.18819,     0.18919,     0.19019,     0.19119,\n",
       "           0.19219,     0.19319,     0.19419,      0.1952,      0.1962,      0.1972,      0.1982,      0.1992,      0.2002,      0.2012,      0.2022,      0.2032,      0.2042,     0.20521,     0.20621,     0.20721,     0.20821,     0.20921,     0.21021,     0.21121,     0.21221,     0.21321,     0.21421,     0.21522,\n",
       "           0.21622,     0.21722,     0.21822,     0.21922,     0.22022,     0.22122,     0.22222,     0.22322,     0.22422,     0.22523,     0.22623,     0.22723,     0.22823,     0.22923,     0.23023,     0.23123,     0.23223,     0.23323,     0.23423,     0.23524,     0.23624,     0.23724,     0.23824,     0.23924,\n",
       "           0.24024,     0.24124,     0.24224,     0.24324,     0.24424,     0.24525,     0.24625,     0.24725,     0.24825,     0.24925,     0.25025,     0.25125,     0.25225,     0.25325,     0.25425,     0.25526,     0.25626,     0.25726,     0.25826,     0.25926,     0.26026,     0.26126,     0.26226,     0.26326,\n",
       "           0.26426,     0.26527,     0.26627,     0.26727,     0.26827,     0.26927,     0.27027,     0.27127,     0.27227,     0.27327,     0.27427,     0.27528,     0.27628,     0.27728,     0.27828,     0.27928,     0.28028,     0.28128,     0.28228,     0.28328,     0.28428,     0.28529,     0.28629,     0.28729,\n",
       "           0.28829,     0.28929,     0.29029,     0.29129,     0.29229,     0.29329,     0.29429,      0.2953,      0.2963,      0.2973,      0.2983,      0.2993,      0.3003,      0.3013,      0.3023,      0.3033,      0.3043,     0.30531,     0.30631,     0.30731,     0.30831,     0.30931,     0.31031,     0.31131,\n",
       "           0.31231,     0.31331,     0.31431,     0.31532,     0.31632,     0.31732,     0.31832,     0.31932,     0.32032,     0.32132,     0.32232,     0.32332,     0.32432,     0.32533,     0.32633,     0.32733,     0.32833,     0.32933,     0.33033,     0.33133,     0.33233,     0.33333,     0.33433,     0.33534,\n",
       "           0.33634,     0.33734,     0.33834,     0.33934,     0.34034,     0.34134,     0.34234,     0.34334,     0.34434,     0.34535,     0.34635,     0.34735,     0.34835,     0.34935,     0.35035,     0.35135,     0.35235,     0.35335,     0.35435,     0.35536,     0.35636,     0.35736,     0.35836,     0.35936,\n",
       "           0.36036,     0.36136,     0.36236,     0.36336,     0.36436,     0.36537,     0.36637,     0.36737,     0.36837,     0.36937,     0.37037,     0.37137,     0.37237,     0.37337,     0.37437,     0.37538,     0.37638,     0.37738,     0.37838,     0.37938,     0.38038,     0.38138,     0.38238,     0.38338,\n",
       "           0.38438,     0.38539,     0.38639,     0.38739,     0.38839,     0.38939,     0.39039,     0.39139,     0.39239,     0.39339,     0.39439,      0.3954,      0.3964,      0.3974,      0.3984,      0.3994,      0.4004,      0.4014,      0.4024,      0.4034,      0.4044,     0.40541,     0.40641,     0.40741,\n",
       "           0.40841,     0.40941,     0.41041,     0.41141,     0.41241,     0.41341,     0.41441,     0.41542,     0.41642,     0.41742,     0.41842,     0.41942,     0.42042,     0.42142,     0.42242,     0.42342,     0.42442,     0.42543,     0.42643,     0.42743,     0.42843,     0.42943,     0.43043,     0.43143,\n",
       "           0.43243,     0.43343,     0.43443,     0.43544,     0.43644,     0.43744,     0.43844,     0.43944,     0.44044,     0.44144,     0.44244,     0.44344,     0.44444,     0.44545,     0.44645,     0.44745,     0.44845,     0.44945,     0.45045,     0.45145,     0.45245,     0.45345,     0.45445,     0.45546,\n",
       "           0.45646,     0.45746,     0.45846,     0.45946,     0.46046,     0.46146,     0.46246,     0.46346,     0.46446,     0.46547,     0.46647,     0.46747,     0.46847,     0.46947,     0.47047,     0.47147,     0.47247,     0.47347,     0.47447,     0.47548,     0.47648,     0.47748,     0.47848,     0.47948,\n",
       "           0.48048,     0.48148,     0.48248,     0.48348,     0.48448,     0.48549,     0.48649,     0.48749,     0.48849,     0.48949,     0.49049,     0.49149,     0.49249,     0.49349,     0.49449,      0.4955,      0.4965,      0.4975,      0.4985,      0.4995,      0.5005,      0.5015,      0.5025,      0.5035,\n",
       "            0.5045,     0.50551,     0.50651,     0.50751,     0.50851,     0.50951,     0.51051,     0.51151,     0.51251,     0.51351,     0.51451,     0.51552,     0.51652,     0.51752,     0.51852,     0.51952,     0.52052,     0.52152,     0.52252,     0.52352,     0.52452,     0.52553,     0.52653,     0.52753,\n",
       "           0.52853,     0.52953,     0.53053,     0.53153,     0.53253,     0.53353,     0.53453,     0.53554,     0.53654,     0.53754,     0.53854,     0.53954,     0.54054,     0.54154,     0.54254,     0.54354,     0.54454,     0.54555,     0.54655,     0.54755,     0.54855,     0.54955,     0.55055,     0.55155,\n",
       "           0.55255,     0.55355,     0.55455,     0.55556,     0.55656,     0.55756,     0.55856,     0.55956,     0.56056,     0.56156,     0.56256,     0.56356,     0.56456,     0.56557,     0.56657,     0.56757,     0.56857,     0.56957,     0.57057,     0.57157,     0.57257,     0.57357,     0.57457,     0.57558,\n",
       "           0.57658,     0.57758,     0.57858,     0.57958,     0.58058,     0.58158,     0.58258,     0.58358,     0.58458,     0.58559,     0.58659,     0.58759,     0.58859,     0.58959,     0.59059,     0.59159,     0.59259,     0.59359,     0.59459,      0.5956,      0.5966,      0.5976,      0.5986,      0.5996,\n",
       "            0.6006,      0.6016,      0.6026,      0.6036,      0.6046,     0.60561,     0.60661,     0.60761,     0.60861,     0.60961,     0.61061,     0.61161,     0.61261,     0.61361,     0.61461,     0.61562,     0.61662,     0.61762,     0.61862,     0.61962,     0.62062,     0.62162,     0.62262,     0.62362,\n",
       "           0.62462,     0.62563,     0.62663,     0.62763,     0.62863,     0.62963,     0.63063,     0.63163,     0.63263,     0.63363,     0.63463,     0.63564,     0.63664,     0.63764,     0.63864,     0.63964,     0.64064,     0.64164,     0.64264,     0.64364,     0.64464,     0.64565,     0.64665,     0.64765,\n",
       "           0.64865,     0.64965,     0.65065,     0.65165,     0.65265,     0.65365,     0.65465,     0.65566,     0.65666,     0.65766,     0.65866,     0.65966,     0.66066,     0.66166,     0.66266,     0.66366,     0.66466,     0.66567,     0.66667,     0.66767,     0.66867,     0.66967,     0.67067,     0.67167,\n",
       "           0.67267,     0.67367,     0.67467,     0.67568,     0.67668,     0.67768,     0.67868,     0.67968,     0.68068,     0.68168,     0.68268,     0.68368,     0.68468,     0.68569,     0.68669,     0.68769,     0.68869,     0.68969,     0.69069,     0.69169,     0.69269,     0.69369,     0.69469,      0.6957,\n",
       "            0.6967,      0.6977,      0.6987,      0.6997,      0.7007,      0.7017,      0.7027,      0.7037,      0.7047,     0.70571,     0.70671,     0.70771,     0.70871,     0.70971,     0.71071,     0.71171,     0.71271,     0.71371,     0.71471,     0.71572,     0.71672,     0.71772,     0.71872,     0.71972,\n",
       "           0.72072,     0.72172,     0.72272,     0.72372,     0.72472,     0.72573,     0.72673,     0.72773,     0.72873,     0.72973,     0.73073,     0.73173,     0.73273,     0.73373,     0.73473,     0.73574,     0.73674,     0.73774,     0.73874,     0.73974,     0.74074,     0.74174,     0.74274,     0.74374,\n",
       "           0.74474,     0.74575,     0.74675,     0.74775,     0.74875,     0.74975,     0.75075,     0.75175,     0.75275,     0.75375,     0.75475,     0.75576,     0.75676,     0.75776,     0.75876,     0.75976,     0.76076,     0.76176,     0.76276,     0.76376,     0.76476,     0.76577,     0.76677,     0.76777,\n",
       "           0.76877,     0.76977,     0.77077,     0.77177,     0.77277,     0.77377,     0.77477,     0.77578,     0.77678,     0.77778,     0.77878,     0.77978,     0.78078,     0.78178,     0.78278,     0.78378,     0.78478,     0.78579,     0.78679,     0.78779,     0.78879,     0.78979,     0.79079,     0.79179,\n",
       "           0.79279,     0.79379,     0.79479,      0.7958,      0.7968,      0.7978,      0.7988,      0.7998,      0.8008,      0.8018,      0.8028,      0.8038,      0.8048,     0.80581,     0.80681,     0.80781,     0.80881,     0.80981,     0.81081,     0.81181,     0.81281,     0.81381,     0.81481,     0.81582,\n",
       "           0.81682,     0.81782,     0.81882,     0.81982,     0.82082,     0.82182,     0.82282,     0.82382,     0.82482,     0.82583,     0.82683,     0.82783,     0.82883,     0.82983,     0.83083,     0.83183,     0.83283,     0.83383,     0.83483,     0.83584,     0.83684,     0.83784,     0.83884,     0.83984,\n",
       "           0.84084,     0.84184,     0.84284,     0.84384,     0.84484,     0.84585,     0.84685,     0.84785,     0.84885,     0.84985,     0.85085,     0.85185,     0.85285,     0.85385,     0.85485,     0.85586,     0.85686,     0.85786,     0.85886,     0.85986,     0.86086,     0.86186,     0.86286,     0.86386,\n",
       "           0.86486,     0.86587,     0.86687,     0.86787,     0.86887,     0.86987,     0.87087,     0.87187,     0.87287,     0.87387,     0.87487,     0.87588,     0.87688,     0.87788,     0.87888,     0.87988,     0.88088,     0.88188,     0.88288,     0.88388,     0.88488,     0.88589,     0.88689,     0.88789,\n",
       "           0.88889,     0.88989,     0.89089,     0.89189,     0.89289,     0.89389,     0.89489,      0.8959,      0.8969,      0.8979,      0.8989,      0.8999,      0.9009,      0.9019,      0.9029,      0.9039,      0.9049,     0.90591,     0.90691,     0.90791,     0.90891,     0.90991,     0.91091,     0.91191,\n",
       "           0.91291,     0.91391,     0.91491,     0.91592,     0.91692,     0.91792,     0.91892,     0.91992,     0.92092,     0.92192,     0.92292,     0.92392,     0.92492,     0.92593,     0.92693,     0.92793,     0.92893,     0.92993,     0.93093,     0.93193,     0.93293,     0.93393,     0.93493,     0.93594,\n",
       "           0.93694,     0.93794,     0.93894,     0.93994,     0.94094,     0.94194,     0.94294,     0.94394,     0.94494,     0.94595,     0.94695,     0.94795,     0.94895,     0.94995,     0.95095,     0.95195,     0.95295,     0.95395,     0.95495,     0.95596,     0.95696,     0.95796,     0.95896,     0.95996,\n",
       "           0.96096,     0.96196,     0.96296,     0.96396,     0.96496,     0.96597,     0.96697,     0.96797,     0.96897,     0.96997,     0.97097,     0.97197,     0.97297,     0.97397,     0.97497,     0.97598,     0.97698,     0.97798,     0.97898,     0.97998,     0.98098,     0.98198,     0.98298,     0.98398,\n",
       "           0.98498,     0.98599,     0.98699,     0.98799,     0.98899,     0.98999,     0.99099,     0.99199,     0.99299,     0.99399,     0.99499,       0.996,       0.997,       0.998,       0.999,           1]), array([[          1,           1,           1,           1,           1,           1,           1,           1,           1,           1,           1,           1,           1,           1,           1,           1,           1,           1,           1,           1,           1,           1,           1,\n",
       "                  1,           1,           1,           1,           1,           1,           1,           1,           1,           1,           1,           1,           1,           1,           1,           1,           1,           1,           1,           1,           1,           1,           1,\n",
       "                  1,           1,           1,           1,           1,           1,           1,           1,           1,           1,           1,           1,           1,           1,           1,           1,           1,           1,           1,           1,           1,           1,           1,\n",
       "                  1,           1,           1,           1,           1,           1,           1,           1,           1,           1,           1,           1,           1,           1,           1,           1,           1,           1,           1,           1,           1,           1,           1,\n",
       "                  1,           1,           1,           1,           1,           1,           1,           1,           1,           1,           1,           1,           1,           1,           1,           1,           1,           1,           1,           1,           1,           1,           1,\n",
       "                  1,           1,           1,           1,           1,           1,           1,           1,           1,           1,           1,           1,           1,           1,           1,           1,           1,           1,           1,           1,           1,           1,           1,\n",
       "                  1,           1,           1,           1,           1,           1,           1,           1,           1,           1,           1,           1,           1,           1,           1,           1,           1,           1,           1,           1,           1,           1,           1,\n",
       "                  1,           1,           1,           1,           1,           1,           1,           1,           1,           1,           1,           1,           1,           1,           1,           1,           1,           1,           1,           1,           1,           1,           1,\n",
       "                  1,           1,           1,           1,           1,           1,           1,           1,           1,           1,           1,           1,           1,           1,           1,           1,           1,           1,           1,           1,           1,           1,           1,\n",
       "                  1,           1,           1,           1,           1,           1,           1,           1,           1,           1,           1,           1,           1,           1,           1,           1,           1,           1,           1,           1,           1,           1,           1,\n",
       "                  1,           1,           1,           1,           1,           1,           1,           1,           1,           1,           1,           1,           1,           1,           1,           1,           1,           1,           1,           1,           1,           1,           1,\n",
       "                  1,           1,           1,           1,           1,           1,           1,           1,           1,           1,           1,           1,        0.98,        0.98,        0.98,        0.98,        0.98,        0.98,        0.98,        0.98,        0.98,        0.98,        0.98,\n",
       "               0.98,        0.98,        0.98,        0.98,        0.98,        0.98,        0.98,        0.98,        0.98,        0.98,        0.98,        0.98,        0.98,        0.98,        0.98,        0.98,        0.98,        0.98,        0.98,        0.98,        0.98,        0.98,        0.98,\n",
       "               0.98,        0.98,        0.98,        0.98,        0.98,        0.98,        0.98,        0.98,        0.98,        0.98,        0.98,        0.98,        0.98,        0.98,        0.98,        0.98,        0.98,        0.98,        0.98,        0.98,        0.98,        0.98,        0.98,\n",
       "               0.98,        0.98,        0.98,        0.98,        0.98,        0.98,        0.98,        0.98,        0.98,        0.98,        0.98,        0.98,        0.98,        0.98,        0.98,        0.98,        0.98,        0.98,        0.98,        0.98,        0.98,        0.98,        0.98,\n",
       "               0.98,        0.98,        0.98,        0.98,        0.98,        0.98,        0.98,        0.98,        0.98,        0.98,        0.98,        0.98,        0.98,        0.98,        0.98,        0.98,        0.98,        0.98,        0.98,        0.98,        0.98,        0.98,        0.98,\n",
       "               0.98,        0.98,        0.98,        0.98,        0.98,        0.98,        0.98,        0.98,        0.98,        0.98,        0.98,        0.98,        0.98,        0.98,        0.98,        0.98,        0.98,        0.98,        0.98,        0.98,        0.98,        0.98,        0.98,\n",
       "               0.98,        0.98,        0.98,        0.98,        0.98,        0.98,        0.98,        0.98,        0.98,        0.98,        0.98,        0.98,        0.98,        0.98,        0.98,        0.98,        0.98,        0.98,        0.98,        0.98,        0.98,        0.98,        0.98,\n",
       "               0.98,        0.98,        0.98,        0.98,        0.98,        0.98,        0.98,        0.98,        0.98,        0.98,        0.98,        0.98,        0.98,        0.98,        0.98,        0.98,        0.98,        0.98,        0.98,        0.98,        0.98,        0.98,        0.98,\n",
       "               0.98,        0.98,        0.98,        0.98,        0.98,        0.98,        0.98,        0.98,        0.98,        0.98,        0.98,        0.98,        0.98,        0.98,        0.98,        0.98,        0.98,        0.98,        0.98,        0.98,        0.98,        0.98,        0.98,\n",
       "               0.98,        0.98,        0.98,        0.98,        0.98,        0.98,        0.98,        0.98,        0.98,        0.98,        0.98,        0.98,        0.98,        0.98,        0.98,        0.98,        0.98,        0.98,        0.98,        0.98,        0.98,        0.98,        0.98,\n",
       "               0.98,        0.98,        0.98,        0.98,        0.98,        0.98,        0.98,        0.98,        0.98,        0.98,        0.98,        0.98,        0.98,        0.98,        0.98,        0.98,        0.98,        0.98,        0.98,        0.98,        0.98,        0.98,        0.98,\n",
       "               0.98,        0.98,        0.98,        0.98,        0.98,        0.98,        0.98,        0.98,        0.98,        0.98,        0.98,        0.98,        0.98,        0.98,        0.98,        0.98,        0.98,        0.98,        0.98,        0.98,        0.98,        0.98,        0.98,\n",
       "               0.98,        0.98,        0.98,        0.98,        0.98,        0.98,        0.98,        0.98,        0.98,        0.98,        0.98,        0.98,        0.98,        0.98,        0.98,        0.98,        0.98,        0.98,        0.98,        0.98,        0.98,        0.98,        0.98,\n",
       "               0.98,        0.98,        0.98,        0.98,        0.98,        0.98,        0.98,        0.98,        0.98,        0.98,        0.98,        0.98,        0.98,        0.98,        0.98,        0.98,        0.98,        0.98,        0.98,        0.98,        0.98,        0.98,        0.98,\n",
       "               0.98,        0.98,        0.98,        0.98,        0.98,        0.98,        0.98,        0.98,        0.98,        0.98,        0.98,        0.98,        0.98,        0.98,        0.98,        0.98,        0.98,        0.98,        0.98,        0.98,        0.98,        0.98,        0.98,\n",
       "               0.98,        0.98,        0.98,        0.98,        0.98,        0.98,        0.98,        0.98,        0.98,        0.98,        0.98,        0.98,        0.98,        0.98,        0.98,        0.98,        0.98,        0.98,        0.98,        0.98,        0.98,        0.98,        0.98,\n",
       "               0.98,        0.98,        0.98,        0.98,        0.98,        0.98,        0.98,        0.98,        0.98,        0.98,        0.98,        0.98,        0.98,        0.98,        0.98,        0.98,        0.98,        0.98,        0.98,        0.98,        0.98,        0.98,        0.98,\n",
       "               0.98,        0.98,        0.98,        0.98,        0.98,        0.98,        0.98,        0.98,        0.98,        0.98,        0.98,        0.98,        0.98,        0.98,        0.98,        0.98,        0.98,        0.98,        0.98,        0.98,        0.98,        0.98,        0.98,\n",
       "               0.98,        0.98,        0.98,        0.98,        0.98,        0.98,        0.98,        0.98,        0.98,        0.98,        0.98,        0.98,        0.98,        0.98,        0.98,        0.98,        0.98,        0.98,        0.98,        0.98,        0.98,        0.98,        0.98,\n",
       "               0.98,        0.98,        0.98,        0.98,        0.98,        0.98,        0.98,        0.98,        0.98,        0.98,        0.98,        0.98,        0.98,        0.98,        0.98,        0.98,        0.98,        0.98,        0.98,        0.98,        0.98,        0.98,        0.98,\n",
       "               0.98,        0.98,        0.98,        0.98,        0.98,        0.98,        0.98,      0.9661,      0.9661,      0.9661,      0.9661,      0.9661,      0.9661,      0.9661,      0.9661,      0.9661,      0.9661,      0.9661,      0.9661,      0.9661,      0.9661,      0.9661,      0.9661,\n",
       "             0.9661,      0.9661,      0.9661,      0.9661,      0.9661,      0.9661,      0.9661,      0.9661,      0.9661,      0.9661,      0.9661,      0.9661,      0.9661,      0.9661,      0.9661,      0.9661,      0.9661,      0.9661,      0.9661,      0.9661,      0.9661,      0.9661,      0.9661,\n",
       "             0.9661,      0.9661,      0.9661,      0.9661,      0.9661,      0.9661,      0.9661,      0.9661,      0.9661,      0.9661,      0.9661,      0.9661,      0.9661,      0.9661,      0.9661,      0.9661,      0.9661,      0.9661,      0.9661,      0.9661,      0.9661,      0.9661,      0.9661,\n",
       "             0.9661,      0.9661,      0.9661,      0.9661,      0.9661,      0.9661,      0.9661,      0.9661,      0.9661,      0.9661,      0.9661,      0.9661,      0.9661,      0.9661,      0.9661,      0.9661,      0.9661,      0.9661,      0.9661,      0.9661,      0.9661,      0.9661,      0.9661,\n",
       "             0.9661,      0.9661,      0.9661,      0.9661,      0.9661,      0.9661,      0.9661,      0.9661,      0.9661,      0.9661,      0.9661,      0.9661,      0.9661,      0.9661,      0.9661,      0.9661,      0.9661,      0.9661,      0.9661,      0.9661,      0.9661,      0.9661,      0.9661,\n",
       "             0.9661,      0.9661,      0.9661,      0.9661,      0.9661,      0.9661,      0.9661,      0.9661,      0.9661,      0.9661,         0.8,         0.8,         0.8,         0.8,         0.8,         0.8,         0.8,         0.8,         0.8,         0.8,         0.8,         0.8,         0.8,\n",
       "                0.8,         0.8,         0.8,         0.8,         0.8,         0.8,         0.8,         0.8,         0.8,         0.8,         0.8,         0.8,         0.8,         0.8,         0.8,         0.8,         0.8,         0.8,         0.8,         0.8,         0.8,         0.8,         0.8,\n",
       "                0.8,         0.8,         0.8,         0.8,         0.8,         0.8,         0.8,         0.8,     0.68539,     0.68539,     0.68539,     0.68539,     0.68539,     0.68539,     0.68539,     0.68539,     0.68539,     0.68539,     0.68539,     0.68539,     0.68539,     0.68539,     0.68539,\n",
       "            0.60784,     0.60784,     0.60784,     0.60784,     0.60784,     0.60784,     0.60784,     0.60784,     0.60784,     0.60784,     0.60784,     0.60784,     0.60784,     0.60784,     0.43284,     0.42792,     0.42301,     0.41809,     0.41317,     0.40825,     0.40333,     0.39841,     0.39349,\n",
       "            0.38858,     0.38366,     0.37874,     0.37382,      0.3689,     0.36398,     0.35906,     0.35414,     0.34923,     0.34431,     0.33939,     0.33447,     0.32955,     0.32463,     0.31971,     0.31479,     0.30988,     0.30496,     0.30004,     0.29512,      0.2902,     0.28528,     0.28036,\n",
       "            0.27545,     0.27053,     0.26561,     0.26069,     0.25577,     0.25085,     0.24593,     0.24101,      0.2361,     0.23118,     0.22626,     0.22134,     0.21642,      0.2115,     0.20658,     0.20167,     0.19675,     0.19183,     0.18691,     0.18199,     0.17707,     0.17215,     0.16723,\n",
       "            0.16232,      0.1574,     0.15248,     0.14756,     0.14264,     0.13772,      0.1328,     0.12789,     0.12297,     0.11805,     0.11313,     0.10821,     0.10329,    0.098373,    0.093455,    0.088536,    0.083617,    0.078699,     0.07378,    0.068861,    0.063943,    0.059024,    0.054105,\n",
       "           0.049187,    0.044268,    0.039349,    0.034431,    0.029512,    0.024593,    0.019675,    0.014756,   0.0098373,   0.0049187,           0]]), 'Recall', 'Precision'], [array([          0,    0.001001,    0.002002,    0.003003,    0.004004,    0.005005,    0.006006,    0.007007,    0.008008,    0.009009,     0.01001,    0.011011,    0.012012,    0.013013,    0.014014,    0.015015,    0.016016,    0.017017,    0.018018,    0.019019,     0.02002,    0.021021,    0.022022,    0.023023,\n",
       "          0.024024,    0.025025,    0.026026,    0.027027,    0.028028,    0.029029,     0.03003,    0.031031,    0.032032,    0.033033,    0.034034,    0.035035,    0.036036,    0.037037,    0.038038,    0.039039,     0.04004,    0.041041,    0.042042,    0.043043,    0.044044,    0.045045,    0.046046,    0.047047,\n",
       "          0.048048,    0.049049,     0.05005,    0.051051,    0.052052,    0.053053,    0.054054,    0.055055,    0.056056,    0.057057,    0.058058,    0.059059,     0.06006,    0.061061,    0.062062,    0.063063,    0.064064,    0.065065,    0.066066,    0.067067,    0.068068,    0.069069,     0.07007,    0.071071,\n",
       "          0.072072,    0.073073,    0.074074,    0.075075,    0.076076,    0.077077,    0.078078,    0.079079,     0.08008,    0.081081,    0.082082,    0.083083,    0.084084,    0.085085,    0.086086,    0.087087,    0.088088,    0.089089,     0.09009,    0.091091,    0.092092,    0.093093,    0.094094,    0.095095,\n",
       "          0.096096,    0.097097,    0.098098,    0.099099,      0.1001,      0.1011,      0.1021,      0.1031,      0.1041,     0.10511,     0.10611,     0.10711,     0.10811,     0.10911,     0.11011,     0.11111,     0.11211,     0.11311,     0.11411,     0.11512,     0.11612,     0.11712,     0.11812,     0.11912,\n",
       "           0.12012,     0.12112,     0.12212,     0.12312,     0.12412,     0.12513,     0.12613,     0.12713,     0.12813,     0.12913,     0.13013,     0.13113,     0.13213,     0.13313,     0.13413,     0.13514,     0.13614,     0.13714,     0.13814,     0.13914,     0.14014,     0.14114,     0.14214,     0.14314,\n",
       "           0.14414,     0.14515,     0.14615,     0.14715,     0.14815,     0.14915,     0.15015,     0.15115,     0.15215,     0.15315,     0.15415,     0.15516,     0.15616,     0.15716,     0.15816,     0.15916,     0.16016,     0.16116,     0.16216,     0.16316,     0.16416,     0.16517,     0.16617,     0.16717,\n",
       "           0.16817,     0.16917,     0.17017,     0.17117,     0.17217,     0.17317,     0.17417,     0.17518,     0.17618,     0.17718,     0.17818,     0.17918,     0.18018,     0.18118,     0.18218,     0.18318,     0.18418,     0.18519,     0.18619,     0.18719,     0.18819,     0.18919,     0.19019,     0.19119,\n",
       "           0.19219,     0.19319,     0.19419,      0.1952,      0.1962,      0.1972,      0.1982,      0.1992,      0.2002,      0.2012,      0.2022,      0.2032,      0.2042,     0.20521,     0.20621,     0.20721,     0.20821,     0.20921,     0.21021,     0.21121,     0.21221,     0.21321,     0.21421,     0.21522,\n",
       "           0.21622,     0.21722,     0.21822,     0.21922,     0.22022,     0.22122,     0.22222,     0.22322,     0.22422,     0.22523,     0.22623,     0.22723,     0.22823,     0.22923,     0.23023,     0.23123,     0.23223,     0.23323,     0.23423,     0.23524,     0.23624,     0.23724,     0.23824,     0.23924,\n",
       "           0.24024,     0.24124,     0.24224,     0.24324,     0.24424,     0.24525,     0.24625,     0.24725,     0.24825,     0.24925,     0.25025,     0.25125,     0.25225,     0.25325,     0.25425,     0.25526,     0.25626,     0.25726,     0.25826,     0.25926,     0.26026,     0.26126,     0.26226,     0.26326,\n",
       "           0.26426,     0.26527,     0.26627,     0.26727,     0.26827,     0.26927,     0.27027,     0.27127,     0.27227,     0.27327,     0.27427,     0.27528,     0.27628,     0.27728,     0.27828,     0.27928,     0.28028,     0.28128,     0.28228,     0.28328,     0.28428,     0.28529,     0.28629,     0.28729,\n",
       "           0.28829,     0.28929,     0.29029,     0.29129,     0.29229,     0.29329,     0.29429,      0.2953,      0.2963,      0.2973,      0.2983,      0.2993,      0.3003,      0.3013,      0.3023,      0.3033,      0.3043,     0.30531,     0.30631,     0.30731,     0.30831,     0.30931,     0.31031,     0.31131,\n",
       "           0.31231,     0.31331,     0.31431,     0.31532,     0.31632,     0.31732,     0.31832,     0.31932,     0.32032,     0.32132,     0.32232,     0.32332,     0.32432,     0.32533,     0.32633,     0.32733,     0.32833,     0.32933,     0.33033,     0.33133,     0.33233,     0.33333,     0.33433,     0.33534,\n",
       "           0.33634,     0.33734,     0.33834,     0.33934,     0.34034,     0.34134,     0.34234,     0.34334,     0.34434,     0.34535,     0.34635,     0.34735,     0.34835,     0.34935,     0.35035,     0.35135,     0.35235,     0.35335,     0.35435,     0.35536,     0.35636,     0.35736,     0.35836,     0.35936,\n",
       "           0.36036,     0.36136,     0.36236,     0.36336,     0.36436,     0.36537,     0.36637,     0.36737,     0.36837,     0.36937,     0.37037,     0.37137,     0.37237,     0.37337,     0.37437,     0.37538,     0.37638,     0.37738,     0.37838,     0.37938,     0.38038,     0.38138,     0.38238,     0.38338,\n",
       "           0.38438,     0.38539,     0.38639,     0.38739,     0.38839,     0.38939,     0.39039,     0.39139,     0.39239,     0.39339,     0.39439,      0.3954,      0.3964,      0.3974,      0.3984,      0.3994,      0.4004,      0.4014,      0.4024,      0.4034,      0.4044,     0.40541,     0.40641,     0.40741,\n",
       "           0.40841,     0.40941,     0.41041,     0.41141,     0.41241,     0.41341,     0.41441,     0.41542,     0.41642,     0.41742,     0.41842,     0.41942,     0.42042,     0.42142,     0.42242,     0.42342,     0.42442,     0.42543,     0.42643,     0.42743,     0.42843,     0.42943,     0.43043,     0.43143,\n",
       "           0.43243,     0.43343,     0.43443,     0.43544,     0.43644,     0.43744,     0.43844,     0.43944,     0.44044,     0.44144,     0.44244,     0.44344,     0.44444,     0.44545,     0.44645,     0.44745,     0.44845,     0.44945,     0.45045,     0.45145,     0.45245,     0.45345,     0.45445,     0.45546,\n",
       "           0.45646,     0.45746,     0.45846,     0.45946,     0.46046,     0.46146,     0.46246,     0.46346,     0.46446,     0.46547,     0.46647,     0.46747,     0.46847,     0.46947,     0.47047,     0.47147,     0.47247,     0.47347,     0.47447,     0.47548,     0.47648,     0.47748,     0.47848,     0.47948,\n",
       "           0.48048,     0.48148,     0.48248,     0.48348,     0.48448,     0.48549,     0.48649,     0.48749,     0.48849,     0.48949,     0.49049,     0.49149,     0.49249,     0.49349,     0.49449,      0.4955,      0.4965,      0.4975,      0.4985,      0.4995,      0.5005,      0.5015,      0.5025,      0.5035,\n",
       "            0.5045,     0.50551,     0.50651,     0.50751,     0.50851,     0.50951,     0.51051,     0.51151,     0.51251,     0.51351,     0.51451,     0.51552,     0.51652,     0.51752,     0.51852,     0.51952,     0.52052,     0.52152,     0.52252,     0.52352,     0.52452,     0.52553,     0.52653,     0.52753,\n",
       "           0.52853,     0.52953,     0.53053,     0.53153,     0.53253,     0.53353,     0.53453,     0.53554,     0.53654,     0.53754,     0.53854,     0.53954,     0.54054,     0.54154,     0.54254,     0.54354,     0.54454,     0.54555,     0.54655,     0.54755,     0.54855,     0.54955,     0.55055,     0.55155,\n",
       "           0.55255,     0.55355,     0.55455,     0.55556,     0.55656,     0.55756,     0.55856,     0.55956,     0.56056,     0.56156,     0.56256,     0.56356,     0.56456,     0.56557,     0.56657,     0.56757,     0.56857,     0.56957,     0.57057,     0.57157,     0.57257,     0.57357,     0.57457,     0.57558,\n",
       "           0.57658,     0.57758,     0.57858,     0.57958,     0.58058,     0.58158,     0.58258,     0.58358,     0.58458,     0.58559,     0.58659,     0.58759,     0.58859,     0.58959,     0.59059,     0.59159,     0.59259,     0.59359,     0.59459,      0.5956,      0.5966,      0.5976,      0.5986,      0.5996,\n",
       "            0.6006,      0.6016,      0.6026,      0.6036,      0.6046,     0.60561,     0.60661,     0.60761,     0.60861,     0.60961,     0.61061,     0.61161,     0.61261,     0.61361,     0.61461,     0.61562,     0.61662,     0.61762,     0.61862,     0.61962,     0.62062,     0.62162,     0.62262,     0.62362,\n",
       "           0.62462,     0.62563,     0.62663,     0.62763,     0.62863,     0.62963,     0.63063,     0.63163,     0.63263,     0.63363,     0.63463,     0.63564,     0.63664,     0.63764,     0.63864,     0.63964,     0.64064,     0.64164,     0.64264,     0.64364,     0.64464,     0.64565,     0.64665,     0.64765,\n",
       "           0.64865,     0.64965,     0.65065,     0.65165,     0.65265,     0.65365,     0.65465,     0.65566,     0.65666,     0.65766,     0.65866,     0.65966,     0.66066,     0.66166,     0.66266,     0.66366,     0.66466,     0.66567,     0.66667,     0.66767,     0.66867,     0.66967,     0.67067,     0.67167,\n",
       "           0.67267,     0.67367,     0.67467,     0.67568,     0.67668,     0.67768,     0.67868,     0.67968,     0.68068,     0.68168,     0.68268,     0.68368,     0.68468,     0.68569,     0.68669,     0.68769,     0.68869,     0.68969,     0.69069,     0.69169,     0.69269,     0.69369,     0.69469,      0.6957,\n",
       "            0.6967,      0.6977,      0.6987,      0.6997,      0.7007,      0.7017,      0.7027,      0.7037,      0.7047,     0.70571,     0.70671,     0.70771,     0.70871,     0.70971,     0.71071,     0.71171,     0.71271,     0.71371,     0.71471,     0.71572,     0.71672,     0.71772,     0.71872,     0.71972,\n",
       "           0.72072,     0.72172,     0.72272,     0.72372,     0.72472,     0.72573,     0.72673,     0.72773,     0.72873,     0.72973,     0.73073,     0.73173,     0.73273,     0.73373,     0.73473,     0.73574,     0.73674,     0.73774,     0.73874,     0.73974,     0.74074,     0.74174,     0.74274,     0.74374,\n",
       "           0.74474,     0.74575,     0.74675,     0.74775,     0.74875,     0.74975,     0.75075,     0.75175,     0.75275,     0.75375,     0.75475,     0.75576,     0.75676,     0.75776,     0.75876,     0.75976,     0.76076,     0.76176,     0.76276,     0.76376,     0.76476,     0.76577,     0.76677,     0.76777,\n",
       "           0.76877,     0.76977,     0.77077,     0.77177,     0.77277,     0.77377,     0.77477,     0.77578,     0.77678,     0.77778,     0.77878,     0.77978,     0.78078,     0.78178,     0.78278,     0.78378,     0.78478,     0.78579,     0.78679,     0.78779,     0.78879,     0.78979,     0.79079,     0.79179,\n",
       "           0.79279,     0.79379,     0.79479,      0.7958,      0.7968,      0.7978,      0.7988,      0.7998,      0.8008,      0.8018,      0.8028,      0.8038,      0.8048,     0.80581,     0.80681,     0.80781,     0.80881,     0.80981,     0.81081,     0.81181,     0.81281,     0.81381,     0.81481,     0.81582,\n",
       "           0.81682,     0.81782,     0.81882,     0.81982,     0.82082,     0.82182,     0.82282,     0.82382,     0.82482,     0.82583,     0.82683,     0.82783,     0.82883,     0.82983,     0.83083,     0.83183,     0.83283,     0.83383,     0.83483,     0.83584,     0.83684,     0.83784,     0.83884,     0.83984,\n",
       "           0.84084,     0.84184,     0.84284,     0.84384,     0.84484,     0.84585,     0.84685,     0.84785,     0.84885,     0.84985,     0.85085,     0.85185,     0.85285,     0.85385,     0.85485,     0.85586,     0.85686,     0.85786,     0.85886,     0.85986,     0.86086,     0.86186,     0.86286,     0.86386,\n",
       "           0.86486,     0.86587,     0.86687,     0.86787,     0.86887,     0.86987,     0.87087,     0.87187,     0.87287,     0.87387,     0.87487,     0.87588,     0.87688,     0.87788,     0.87888,     0.87988,     0.88088,     0.88188,     0.88288,     0.88388,     0.88488,     0.88589,     0.88689,     0.88789,\n",
       "           0.88889,     0.88989,     0.89089,     0.89189,     0.89289,     0.89389,     0.89489,      0.8959,      0.8969,      0.8979,      0.8989,      0.8999,      0.9009,      0.9019,      0.9029,      0.9039,      0.9049,     0.90591,     0.90691,     0.90791,     0.90891,     0.90991,     0.91091,     0.91191,\n",
       "           0.91291,     0.91391,     0.91491,     0.91592,     0.91692,     0.91792,     0.91892,     0.91992,     0.92092,     0.92192,     0.92292,     0.92392,     0.92492,     0.92593,     0.92693,     0.92793,     0.92893,     0.92993,     0.93093,     0.93193,     0.93293,     0.93393,     0.93493,     0.93594,\n",
       "           0.93694,     0.93794,     0.93894,     0.93994,     0.94094,     0.94194,     0.94294,     0.94394,     0.94494,     0.94595,     0.94695,     0.94795,     0.94895,     0.94995,     0.95095,     0.95195,     0.95295,     0.95395,     0.95495,     0.95596,     0.95696,     0.95796,     0.95896,     0.95996,\n",
       "           0.96096,     0.96196,     0.96296,     0.96396,     0.96496,     0.96597,     0.96697,     0.96797,     0.96897,     0.96997,     0.97097,     0.97197,     0.97297,     0.97397,     0.97497,     0.97598,     0.97698,     0.97798,     0.97898,     0.97998,     0.98098,     0.98198,     0.98298,     0.98398,\n",
       "           0.98498,     0.98599,     0.98699,     0.98799,     0.98899,     0.98999,     0.99099,     0.99199,     0.99299,     0.99399,     0.99499,       0.996,       0.997,       0.998,       0.999,           1]), array([[    0.58768,     0.58768,     0.65942,     0.69232,     0.71573,     0.72554,     0.73573,     0.75126,     0.76348,     0.76898,     0.77245,     0.77594,     0.78086,     0.78299,      0.7881,     0.79605,      0.7992,     0.81151,     0.81333,     0.81515,      0.8172,     0.81966,      0.8221,\n",
       "             0.8244,     0.82668,     0.83467,     0.83765,     0.83489,     0.83213,     0.82981,      0.8278,     0.82579,     0.82378,     0.81947,      0.8145,     0.81535,     0.81619,     0.81703,     0.81787,      0.8187,     0.81954,     0.82019,     0.82036,     0.82053,      0.8207,     0.82087,\n",
       "            0.82104,     0.82121,     0.82138,     0.82155,     0.82172,     0.82189,     0.82206,     0.82223,      0.8224,     0.82257,     0.82274,     0.82291,     0.82308,     0.82325,     0.82341,     0.82358,     0.82375,     0.82392,     0.82409,     0.82426,     0.82443,      0.8246,     0.82476,\n",
       "            0.82493,      0.8251,     0.82527,     0.82544,     0.82561,     0.82577,     0.82594,     0.82622,     0.82715,     0.82808,     0.82901,     0.82994,     0.83087,     0.83179,      0.8323,     0.83258,     0.83286,     0.83314,     0.83342,     0.83371,     0.83399,     0.83427,     0.83455,\n",
       "            0.83483,     0.83511,     0.83539,     0.83567,     0.83595,     0.83623,     0.83651,     0.83679,     0.83706,     0.83734,     0.83762,      0.8379,     0.83818,     0.83893,      0.8398,     0.84066,     0.84153,     0.84239,     0.84325,     0.84411,     0.84454,     0.84469,     0.84484,\n",
       "            0.84498,     0.84513,     0.84528,     0.84543,     0.84558,     0.84573,     0.84588,     0.84603,     0.84618,     0.84633,     0.84648,     0.84663,     0.84677,     0.84692,     0.84707,     0.84722,     0.84737,     0.84752,     0.84767,     0.84781,     0.84796,     0.84811,     0.84826,\n",
       "            0.84841,     0.84856,      0.8487,     0.84885,       0.849,     0.84915,      0.8493,     0.84944,     0.84959,     0.84974,     0.84989,     0.85003,     0.85018,     0.85033,     0.85048,     0.85062,     0.85081,     0.85117,     0.85152,     0.85188,     0.85224,      0.8526,     0.85296,\n",
       "            0.85331,     0.85367,     0.85403,     0.85438,     0.85474,     0.85509,     0.85545,      0.8558,     0.85616,     0.85651,     0.85687,     0.85784,     0.86099,     0.86368,     0.86399,     0.86429,     0.86459,     0.86489,     0.86519,     0.86549,     0.86579,     0.86609,     0.86639,\n",
       "            0.86669,     0.86699,     0.86729,     0.86759,     0.86789,     0.86819,     0.86848,     0.86878,     0.86908,     0.86938,     0.86968,     0.86997,     0.87024,     0.87035,     0.87046,     0.87056,     0.87067,     0.87078,     0.87088,     0.87099,     0.87109,      0.8712,     0.87131,\n",
       "            0.87141,     0.87152,     0.87163,     0.87173,     0.87184,     0.87194,     0.87205,     0.87216,     0.87226,     0.87237,     0.87247,     0.87258,     0.87269,     0.87279,      0.8729,       0.873,     0.87311,     0.87321,     0.87332,     0.87343,     0.87353,     0.87364,     0.87374,\n",
       "            0.87385,     0.87395,     0.87406,     0.87416,     0.87427,     0.87437,     0.87448,     0.87459,     0.87469,      0.8748,      0.8749,     0.87501,     0.87511,     0.87522,     0.87532,     0.87543,     0.87553,     0.87564,     0.87574,     0.87585,     0.87595,     0.87606,     0.87616,\n",
       "            0.87627,     0.87637,     0.87648,     0.87658,     0.87669,     0.87679,      0.8769,     0.87698,     0.87706,     0.87714,     0.87722,     0.87731,     0.87739,     0.87747,     0.87755,     0.87763,     0.87771,     0.87779,     0.87787,     0.87795,     0.87803,     0.87811,     0.87819,\n",
       "            0.87827,     0.87835,     0.87843,     0.87851,     0.87859,     0.87867,     0.87875,     0.87883,     0.87891,     0.87899,     0.87907,     0.87916,     0.87924,     0.87932,      0.8794,     0.87948,     0.87956,     0.87964,     0.87972,      0.8798,     0.87988,     0.87996,     0.88004,\n",
       "            0.88012,      0.8802,     0.88028,     0.88036,     0.88044,     0.88052,      0.8806,     0.88068,     0.88076,     0.88084,     0.88092,       0.881,     0.88108,     0.88116,     0.88124,     0.88132,      0.8814,     0.88148,     0.88155,     0.88163,     0.88171,     0.88179,     0.88187,\n",
       "            0.88195,     0.88203,     0.88211,     0.88219,     0.88227,     0.88235,     0.88243,     0.88251,     0.88259,     0.88267,     0.88275,     0.88283,     0.88291,     0.88299,     0.88307,     0.88315,     0.88323,     0.88331,     0.88338,     0.88346,     0.88354,     0.88362,      0.8837,\n",
       "            0.88416,     0.88474,     0.88532,      0.8859,     0.88647,     0.88705,     0.88762,     0.88819,     0.88876,     0.88934,     0.88991,     0.89048,     0.89104,     0.89161,     0.89218,     0.89275,     0.89331,     0.89388,     0.89444,     0.89501,     0.89557,     0.89613,     0.89669,\n",
       "            0.89725,     0.89762,     0.89756,      0.8975,     0.89745,     0.89739,     0.89733,     0.89727,     0.89722,     0.89716,      0.8971,     0.89704,     0.89699,     0.89693,     0.89687,     0.89681,     0.89676,      0.8967,     0.89664,     0.89658,     0.89653,     0.89647,     0.89641,\n",
       "            0.89635,      0.8963,     0.89624,     0.89618,     0.89612,     0.89607,     0.89601,     0.89595,     0.89589,     0.89584,     0.89578,     0.89572,     0.89566,      0.8956,     0.89555,     0.89549,     0.89543,     0.89537,     0.89532,     0.89526,      0.8952,     0.89514,     0.89509,\n",
       "            0.89503,     0.89497,     0.89491,     0.89485,      0.8948,     0.89474,     0.89468,     0.89462,     0.89457,     0.89451,     0.89445,     0.89439,     0.89433,     0.89428,     0.89422,     0.89416,      0.8941,     0.89405,     0.89399,     0.89393,     0.89387,     0.89381,     0.89376,\n",
       "             0.8937,     0.89364,     0.89358,     0.89353,     0.89347,     0.89341,     0.89335,     0.89329,     0.89324,     0.89318,     0.89312,     0.89306,       0.893,     0.89295,     0.89289,     0.89283,     0.89277,     0.89271,     0.89266,      0.8926,     0.89254,     0.89248,     0.89242,\n",
       "            0.89237,     0.89231,     0.89225,     0.89219,     0.89213,     0.89208,     0.89202,     0.89196,      0.8919,     0.89184,     0.89179,     0.89173,     0.89167,     0.89161,     0.89155,      0.8915,     0.89144,     0.89138,     0.89132,     0.89126,     0.89121,     0.89115,     0.89109,\n",
       "            0.89103,     0.89097,     0.89092,     0.89086,      0.8908,     0.89074,     0.89068,     0.89062,     0.89057,     0.89051,     0.89045,     0.89039,     0.89033,     0.89028,     0.89022,     0.89016,      0.8901,     0.89004,     0.88998,     0.88993,     0.88987,     0.88981,     0.88975,\n",
       "            0.88969,     0.88964,     0.88958,     0.88952,     0.88946,      0.8894,     0.88934,     0.88929,     0.88923,     0.88917,     0.88911,     0.88905,     0.88899,     0.88894,     0.88882,     0.88845,     0.88808,     0.88771,     0.88734,     0.88698,     0.88661,     0.88624,     0.88587,\n",
       "             0.8855,     0.88513,     0.88476,     0.88439,     0.88402,     0.88365,     0.88328,     0.88291,     0.88253,     0.88216,     0.88179,     0.88142,     0.88105,     0.88067,      0.8803,     0.87997,     0.87979,     0.87961,     0.87943,     0.87925,     0.87908,      0.8789,     0.87872,\n",
       "            0.87854,     0.87836,     0.87819,     0.87801,     0.87783,     0.87765,     0.87747,     0.87729,     0.87711,     0.87694,     0.87676,     0.87658,      0.8764,     0.87622,     0.87604,     0.87586,     0.87568,      0.8755,     0.87532,     0.87515,     0.87497,     0.87479,     0.87461,\n",
       "            0.87443,     0.87425,     0.87407,     0.87389,     0.87371,     0.87353,     0.87335,     0.87317,     0.87299,     0.87281,     0.87263,     0.87245,     0.87227,     0.87209,     0.87191,     0.87173,     0.87155,     0.87137,     0.87119,     0.87101,     0.87091,     0.87082,     0.87074,\n",
       "            0.87066,     0.87058,      0.8705,     0.87042,     0.87034,     0.87026,     0.87018,      0.8701,     0.87002,     0.86994,     0.86986,     0.86978,     0.86969,     0.86961,     0.86953,     0.86945,     0.86937,     0.86929,     0.86921,     0.86913,     0.86905,     0.86897,     0.86889,\n",
       "            0.86881,     0.86872,     0.86864,     0.86856,     0.86848,      0.8684,     0.86832,     0.86824,     0.86816,     0.86808,       0.868,     0.86791,     0.86783,     0.86775,     0.86767,     0.86759,     0.86751,     0.86743,     0.86735,     0.86727,     0.86718,      0.8671,     0.86702,\n",
       "            0.86694,     0.86686,     0.86678,      0.8667,     0.86662,     0.86654,     0.86645,     0.86637,     0.86629,     0.86621,     0.86613,     0.86605,     0.86597,     0.86589,      0.8658,     0.86572,     0.86564,     0.86556,     0.86548,      0.8654,     0.86532,     0.86523,     0.86515,\n",
       "            0.86507,     0.86499,     0.86491,     0.86483,     0.86475,     0.86466,     0.86458,      0.8645,     0.86442,     0.86434,     0.86426,     0.86418,     0.86409,     0.86401,     0.86393,     0.86385,     0.86377,     0.86369,      0.8636,     0.86352,     0.86344,     0.86336,     0.86328,\n",
       "             0.8632,     0.86311,     0.86303,     0.86295,     0.86287,     0.86279,     0.86271,     0.86262,     0.86254,     0.86246,     0.86238,      0.8623,     0.86221,     0.86213,     0.86205,     0.86197,     0.86189,     0.86181,     0.86166,     0.86151,     0.86135,     0.86119,     0.86104,\n",
       "            0.86088,     0.86072,     0.86057,     0.86041,     0.86025,      0.8601,     0.85994,     0.85978,     0.85962,     0.85947,     0.85931,     0.85915,       0.859,     0.85884,     0.85868,     0.85852,     0.85837,     0.85821,     0.85805,     0.85789,     0.85774,     0.85758,     0.85742,\n",
       "            0.85726,      0.8571,     0.85695,     0.85679,     0.85663,     0.85647,     0.85632,     0.85616,       0.856,     0.85584,     0.85568,     0.85552,     0.85537,     0.85521,     0.85505,     0.85489,     0.85473,     0.85457,     0.85442,     0.85426,      0.8541,     0.85394,     0.85378,\n",
       "            0.85362,     0.85346,     0.85331,     0.85315,     0.85299,     0.85283,     0.85267,     0.85251,     0.85152,     0.85012,     0.84873,     0.84733,     0.84592,     0.84452,     0.84311,     0.84215,     0.84125,     0.84034,     0.83943,     0.83852,     0.83761,      0.8367,     0.83579,\n",
       "            0.83487,     0.83396,      0.8306,     0.82784,     0.83022,      0.8299,     0.82957,     0.82925,     0.82893,      0.8286,     0.82828,     0.82795,     0.82763,      0.8273,     0.82698,     0.82665,     0.82633,       0.826,     0.82568,     0.82535,     0.82502,      0.8247,     0.82437,\n",
       "            0.82404,     0.82372,     0.82339,     0.82306,     0.82274,     0.82241,     0.82208,     0.82175,     0.82142,      0.8211,     0.82077,      0.8203,     0.81935,     0.81841,     0.81746,     0.81651,     0.81556,      0.8146,     0.81365,     0.81269,     0.81173,     0.81077,     0.81016,\n",
       "            0.80983,     0.80949,     0.80916,     0.80882,     0.80848,     0.80815,     0.80781,     0.80748,     0.80714,     0.80681,     0.80647,     0.80613,      0.8058,     0.80546,     0.80512,     0.80478,     0.80445,     0.80411,     0.80377,     0.80343,     0.80309,     0.80276,     0.80242,\n",
       "            0.80208,     0.80174,      0.8014,     0.80106,     0.80072,     0.80038,     0.80004,     0.79773,     0.79514,     0.79253,     0.78991,     0.78561,     0.78093,     0.77678,     0.77309,     0.76938,     0.75414,     0.74521,     0.74279,     0.74036,     0.73792,     0.73547,      0.7336,\n",
       "             0.7327,     0.73179,     0.73088,     0.72997,     0.72905,     0.72814,     0.72723,     0.72631,     0.72539,     0.72448,     0.72356,     0.72263,     0.71994,     0.71579,     0.71161,      0.6928,     0.68325,     0.67634,     0.67128,     0.66788,     0.66447,     0.66104,     0.65695,\n",
       "            0.65262,     0.64827,     0.63333,     0.62943,     0.62551,     0.62156,     0.60382,     0.59901,     0.59417,     0.56952,     0.54091,     0.52799,     0.49927,     0.47304,     0.43581,     0.41929,     0.41249,     0.40161,     0.37934,     0.37331,     0.36724,     0.36074,     0.34686,\n",
       "            0.33394,     0.32157,     0.30944,     0.29026,      0.2715,     0.26179,     0.24971,     0.23469,       0.206,     0.18397,      0.1755,     0.16695,     0.13572,     0.13101,     0.12627,     0.12151,     0.11672,     0.11191,    0.097476,    0.081473,    0.067378,    0.049569,           0,\n",
       "                  0,           0,           0,           0,           0,           0,           0,           0,           0,           0,           0,           0,           0,           0,           0,           0,           0,           0,           0,           0,           0,           0,           0,\n",
       "                  0,           0,           0,           0,           0,           0,           0,           0,           0,           0,           0,           0,           0,           0,           0,           0,           0,           0,           0,           0,           0,           0,           0,\n",
       "                  0,           0,           0,           0,           0,           0,           0,           0,           0,           0,           0]]), 'Confidence', 'F1'], [array([          0,    0.001001,    0.002002,    0.003003,    0.004004,    0.005005,    0.006006,    0.007007,    0.008008,    0.009009,     0.01001,    0.011011,    0.012012,    0.013013,    0.014014,    0.015015,    0.016016,    0.017017,    0.018018,    0.019019,     0.02002,    0.021021,    0.022022,    0.023023,\n",
       "          0.024024,    0.025025,    0.026026,    0.027027,    0.028028,    0.029029,     0.03003,    0.031031,    0.032032,    0.033033,    0.034034,    0.035035,    0.036036,    0.037037,    0.038038,    0.039039,     0.04004,    0.041041,    0.042042,    0.043043,    0.044044,    0.045045,    0.046046,    0.047047,\n",
       "          0.048048,    0.049049,     0.05005,    0.051051,    0.052052,    0.053053,    0.054054,    0.055055,    0.056056,    0.057057,    0.058058,    0.059059,     0.06006,    0.061061,    0.062062,    0.063063,    0.064064,    0.065065,    0.066066,    0.067067,    0.068068,    0.069069,     0.07007,    0.071071,\n",
       "          0.072072,    0.073073,    0.074074,    0.075075,    0.076076,    0.077077,    0.078078,    0.079079,     0.08008,    0.081081,    0.082082,    0.083083,    0.084084,    0.085085,    0.086086,    0.087087,    0.088088,    0.089089,     0.09009,    0.091091,    0.092092,    0.093093,    0.094094,    0.095095,\n",
       "          0.096096,    0.097097,    0.098098,    0.099099,      0.1001,      0.1011,      0.1021,      0.1031,      0.1041,     0.10511,     0.10611,     0.10711,     0.10811,     0.10911,     0.11011,     0.11111,     0.11211,     0.11311,     0.11411,     0.11512,     0.11612,     0.11712,     0.11812,     0.11912,\n",
       "           0.12012,     0.12112,     0.12212,     0.12312,     0.12412,     0.12513,     0.12613,     0.12713,     0.12813,     0.12913,     0.13013,     0.13113,     0.13213,     0.13313,     0.13413,     0.13514,     0.13614,     0.13714,     0.13814,     0.13914,     0.14014,     0.14114,     0.14214,     0.14314,\n",
       "           0.14414,     0.14515,     0.14615,     0.14715,     0.14815,     0.14915,     0.15015,     0.15115,     0.15215,     0.15315,     0.15415,     0.15516,     0.15616,     0.15716,     0.15816,     0.15916,     0.16016,     0.16116,     0.16216,     0.16316,     0.16416,     0.16517,     0.16617,     0.16717,\n",
       "           0.16817,     0.16917,     0.17017,     0.17117,     0.17217,     0.17317,     0.17417,     0.17518,     0.17618,     0.17718,     0.17818,     0.17918,     0.18018,     0.18118,     0.18218,     0.18318,     0.18418,     0.18519,     0.18619,     0.18719,     0.18819,     0.18919,     0.19019,     0.19119,\n",
       "           0.19219,     0.19319,     0.19419,      0.1952,      0.1962,      0.1972,      0.1982,      0.1992,      0.2002,      0.2012,      0.2022,      0.2032,      0.2042,     0.20521,     0.20621,     0.20721,     0.20821,     0.20921,     0.21021,     0.21121,     0.21221,     0.21321,     0.21421,     0.21522,\n",
       "           0.21622,     0.21722,     0.21822,     0.21922,     0.22022,     0.22122,     0.22222,     0.22322,     0.22422,     0.22523,     0.22623,     0.22723,     0.22823,     0.22923,     0.23023,     0.23123,     0.23223,     0.23323,     0.23423,     0.23524,     0.23624,     0.23724,     0.23824,     0.23924,\n",
       "           0.24024,     0.24124,     0.24224,     0.24324,     0.24424,     0.24525,     0.24625,     0.24725,     0.24825,     0.24925,     0.25025,     0.25125,     0.25225,     0.25325,     0.25425,     0.25526,     0.25626,     0.25726,     0.25826,     0.25926,     0.26026,     0.26126,     0.26226,     0.26326,\n",
       "           0.26426,     0.26527,     0.26627,     0.26727,     0.26827,     0.26927,     0.27027,     0.27127,     0.27227,     0.27327,     0.27427,     0.27528,     0.27628,     0.27728,     0.27828,     0.27928,     0.28028,     0.28128,     0.28228,     0.28328,     0.28428,     0.28529,     0.28629,     0.28729,\n",
       "           0.28829,     0.28929,     0.29029,     0.29129,     0.29229,     0.29329,     0.29429,      0.2953,      0.2963,      0.2973,      0.2983,      0.2993,      0.3003,      0.3013,      0.3023,      0.3033,      0.3043,     0.30531,     0.30631,     0.30731,     0.30831,     0.30931,     0.31031,     0.31131,\n",
       "           0.31231,     0.31331,     0.31431,     0.31532,     0.31632,     0.31732,     0.31832,     0.31932,     0.32032,     0.32132,     0.32232,     0.32332,     0.32432,     0.32533,     0.32633,     0.32733,     0.32833,     0.32933,     0.33033,     0.33133,     0.33233,     0.33333,     0.33433,     0.33534,\n",
       "           0.33634,     0.33734,     0.33834,     0.33934,     0.34034,     0.34134,     0.34234,     0.34334,     0.34434,     0.34535,     0.34635,     0.34735,     0.34835,     0.34935,     0.35035,     0.35135,     0.35235,     0.35335,     0.35435,     0.35536,     0.35636,     0.35736,     0.35836,     0.35936,\n",
       "           0.36036,     0.36136,     0.36236,     0.36336,     0.36436,     0.36537,     0.36637,     0.36737,     0.36837,     0.36937,     0.37037,     0.37137,     0.37237,     0.37337,     0.37437,     0.37538,     0.37638,     0.37738,     0.37838,     0.37938,     0.38038,     0.38138,     0.38238,     0.38338,\n",
       "           0.38438,     0.38539,     0.38639,     0.38739,     0.38839,     0.38939,     0.39039,     0.39139,     0.39239,     0.39339,     0.39439,      0.3954,      0.3964,      0.3974,      0.3984,      0.3994,      0.4004,      0.4014,      0.4024,      0.4034,      0.4044,     0.40541,     0.40641,     0.40741,\n",
       "           0.40841,     0.40941,     0.41041,     0.41141,     0.41241,     0.41341,     0.41441,     0.41542,     0.41642,     0.41742,     0.41842,     0.41942,     0.42042,     0.42142,     0.42242,     0.42342,     0.42442,     0.42543,     0.42643,     0.42743,     0.42843,     0.42943,     0.43043,     0.43143,\n",
       "           0.43243,     0.43343,     0.43443,     0.43544,     0.43644,     0.43744,     0.43844,     0.43944,     0.44044,     0.44144,     0.44244,     0.44344,     0.44444,     0.44545,     0.44645,     0.44745,     0.44845,     0.44945,     0.45045,     0.45145,     0.45245,     0.45345,     0.45445,     0.45546,\n",
       "           0.45646,     0.45746,     0.45846,     0.45946,     0.46046,     0.46146,     0.46246,     0.46346,     0.46446,     0.46547,     0.46647,     0.46747,     0.46847,     0.46947,     0.47047,     0.47147,     0.47247,     0.47347,     0.47447,     0.47548,     0.47648,     0.47748,     0.47848,     0.47948,\n",
       "           0.48048,     0.48148,     0.48248,     0.48348,     0.48448,     0.48549,     0.48649,     0.48749,     0.48849,     0.48949,     0.49049,     0.49149,     0.49249,     0.49349,     0.49449,      0.4955,      0.4965,      0.4975,      0.4985,      0.4995,      0.5005,      0.5015,      0.5025,      0.5035,\n",
       "            0.5045,     0.50551,     0.50651,     0.50751,     0.50851,     0.50951,     0.51051,     0.51151,     0.51251,     0.51351,     0.51451,     0.51552,     0.51652,     0.51752,     0.51852,     0.51952,     0.52052,     0.52152,     0.52252,     0.52352,     0.52452,     0.52553,     0.52653,     0.52753,\n",
       "           0.52853,     0.52953,     0.53053,     0.53153,     0.53253,     0.53353,     0.53453,     0.53554,     0.53654,     0.53754,     0.53854,     0.53954,     0.54054,     0.54154,     0.54254,     0.54354,     0.54454,     0.54555,     0.54655,     0.54755,     0.54855,     0.54955,     0.55055,     0.55155,\n",
       "           0.55255,     0.55355,     0.55455,     0.55556,     0.55656,     0.55756,     0.55856,     0.55956,     0.56056,     0.56156,     0.56256,     0.56356,     0.56456,     0.56557,     0.56657,     0.56757,     0.56857,     0.56957,     0.57057,     0.57157,     0.57257,     0.57357,     0.57457,     0.57558,\n",
       "           0.57658,     0.57758,     0.57858,     0.57958,     0.58058,     0.58158,     0.58258,     0.58358,     0.58458,     0.58559,     0.58659,     0.58759,     0.58859,     0.58959,     0.59059,     0.59159,     0.59259,     0.59359,     0.59459,      0.5956,      0.5966,      0.5976,      0.5986,      0.5996,\n",
       "            0.6006,      0.6016,      0.6026,      0.6036,      0.6046,     0.60561,     0.60661,     0.60761,     0.60861,     0.60961,     0.61061,     0.61161,     0.61261,     0.61361,     0.61461,     0.61562,     0.61662,     0.61762,     0.61862,     0.61962,     0.62062,     0.62162,     0.62262,     0.62362,\n",
       "           0.62462,     0.62563,     0.62663,     0.62763,     0.62863,     0.62963,     0.63063,     0.63163,     0.63263,     0.63363,     0.63463,     0.63564,     0.63664,     0.63764,     0.63864,     0.63964,     0.64064,     0.64164,     0.64264,     0.64364,     0.64464,     0.64565,     0.64665,     0.64765,\n",
       "           0.64865,     0.64965,     0.65065,     0.65165,     0.65265,     0.65365,     0.65465,     0.65566,     0.65666,     0.65766,     0.65866,     0.65966,     0.66066,     0.66166,     0.66266,     0.66366,     0.66466,     0.66567,     0.66667,     0.66767,     0.66867,     0.66967,     0.67067,     0.67167,\n",
       "           0.67267,     0.67367,     0.67467,     0.67568,     0.67668,     0.67768,     0.67868,     0.67968,     0.68068,     0.68168,     0.68268,     0.68368,     0.68468,     0.68569,     0.68669,     0.68769,     0.68869,     0.68969,     0.69069,     0.69169,     0.69269,     0.69369,     0.69469,      0.6957,\n",
       "            0.6967,      0.6977,      0.6987,      0.6997,      0.7007,      0.7017,      0.7027,      0.7037,      0.7047,     0.70571,     0.70671,     0.70771,     0.70871,     0.70971,     0.71071,     0.71171,     0.71271,     0.71371,     0.71471,     0.71572,     0.71672,     0.71772,     0.71872,     0.71972,\n",
       "           0.72072,     0.72172,     0.72272,     0.72372,     0.72472,     0.72573,     0.72673,     0.72773,     0.72873,     0.72973,     0.73073,     0.73173,     0.73273,     0.73373,     0.73473,     0.73574,     0.73674,     0.73774,     0.73874,     0.73974,     0.74074,     0.74174,     0.74274,     0.74374,\n",
       "           0.74474,     0.74575,     0.74675,     0.74775,     0.74875,     0.74975,     0.75075,     0.75175,     0.75275,     0.75375,     0.75475,     0.75576,     0.75676,     0.75776,     0.75876,     0.75976,     0.76076,     0.76176,     0.76276,     0.76376,     0.76476,     0.76577,     0.76677,     0.76777,\n",
       "           0.76877,     0.76977,     0.77077,     0.77177,     0.77277,     0.77377,     0.77477,     0.77578,     0.77678,     0.77778,     0.77878,     0.77978,     0.78078,     0.78178,     0.78278,     0.78378,     0.78478,     0.78579,     0.78679,     0.78779,     0.78879,     0.78979,     0.79079,     0.79179,\n",
       "           0.79279,     0.79379,     0.79479,      0.7958,      0.7968,      0.7978,      0.7988,      0.7998,      0.8008,      0.8018,      0.8028,      0.8038,      0.8048,     0.80581,     0.80681,     0.80781,     0.80881,     0.80981,     0.81081,     0.81181,     0.81281,     0.81381,     0.81481,     0.81582,\n",
       "           0.81682,     0.81782,     0.81882,     0.81982,     0.82082,     0.82182,     0.82282,     0.82382,     0.82482,     0.82583,     0.82683,     0.82783,     0.82883,     0.82983,     0.83083,     0.83183,     0.83283,     0.83383,     0.83483,     0.83584,     0.83684,     0.83784,     0.83884,     0.83984,\n",
       "           0.84084,     0.84184,     0.84284,     0.84384,     0.84484,     0.84585,     0.84685,     0.84785,     0.84885,     0.84985,     0.85085,     0.85185,     0.85285,     0.85385,     0.85485,     0.85586,     0.85686,     0.85786,     0.85886,     0.85986,     0.86086,     0.86186,     0.86286,     0.86386,\n",
       "           0.86486,     0.86587,     0.86687,     0.86787,     0.86887,     0.86987,     0.87087,     0.87187,     0.87287,     0.87387,     0.87487,     0.87588,     0.87688,     0.87788,     0.87888,     0.87988,     0.88088,     0.88188,     0.88288,     0.88388,     0.88488,     0.88589,     0.88689,     0.88789,\n",
       "           0.88889,     0.88989,     0.89089,     0.89189,     0.89289,     0.89389,     0.89489,      0.8959,      0.8969,      0.8979,      0.8989,      0.8999,      0.9009,      0.9019,      0.9029,      0.9039,      0.9049,     0.90591,     0.90691,     0.90791,     0.90891,     0.90991,     0.91091,     0.91191,\n",
       "           0.91291,     0.91391,     0.91491,     0.91592,     0.91692,     0.91792,     0.91892,     0.91992,     0.92092,     0.92192,     0.92292,     0.92392,     0.92492,     0.92593,     0.92693,     0.92793,     0.92893,     0.92993,     0.93093,     0.93193,     0.93293,     0.93393,     0.93493,     0.93594,\n",
       "           0.93694,     0.93794,     0.93894,     0.93994,     0.94094,     0.94194,     0.94294,     0.94394,     0.94494,     0.94595,     0.94695,     0.94795,     0.94895,     0.94995,     0.95095,     0.95195,     0.95295,     0.95395,     0.95495,     0.95596,     0.95696,     0.95796,     0.95896,     0.95996,\n",
       "           0.96096,     0.96196,     0.96296,     0.96396,     0.96496,     0.96597,     0.96697,     0.96797,     0.96897,     0.96997,     0.97097,     0.97197,     0.97297,     0.97397,     0.97497,     0.97598,     0.97698,     0.97798,     0.97898,     0.97998,     0.98098,     0.98198,     0.98298,     0.98398,\n",
       "           0.98498,     0.98599,     0.98699,     0.98799,     0.98899,     0.98999,     0.99099,     0.99199,     0.99299,     0.99399,     0.99499,       0.996,       0.997,       0.998,       0.999,           1]), array([[    0.43357,     0.43357,     0.51647,     0.55801,     0.58907,     0.60584,     0.62359,     0.64623,     0.66452,     0.67291,     0.67824,     0.69243,      0.7003,     0.70374,     0.71204,     0.72513,     0.73037,     0.75119,     0.75433,     0.75746,     0.76101,     0.76529,     0.76955,\n",
       "            0.77359,     0.77762,     0.79188,      0.7995,     0.79859,     0.79767,      0.7969,     0.79623,     0.79555,     0.79488,     0.79342,     0.79208,     0.79367,     0.79527,     0.79687,     0.79846,     0.80006,     0.80165,     0.80291,     0.80323,     0.80356,     0.80388,     0.80421,\n",
       "            0.80454,     0.80486,     0.80519,     0.80552,     0.80584,     0.80617,      0.8065,     0.80682,     0.80715,     0.80748,      0.8078,     0.80813,     0.80846,     0.80878,     0.80911,     0.80943,     0.80976,     0.81009,     0.81041,     0.81074,     0.81107,     0.81139,     0.81172,\n",
       "            0.81205,     0.81237,      0.8127,     0.81303,     0.81335,     0.81368,     0.81401,     0.81454,     0.81636,     0.81817,     0.81999,     0.82181,     0.82362,     0.82544,     0.82644,       0.827,     0.82756,     0.82811,     0.82867,     0.82922,     0.82978,     0.83034,     0.83089,\n",
       "            0.83145,       0.832,     0.83256,     0.83312,     0.83367,     0.83423,     0.83478,     0.83534,      0.8359,     0.83645,     0.83701,     0.83757,     0.83812,     0.83962,     0.84136,     0.84311,     0.84485,     0.84659,     0.84833,     0.85008,     0.85093,     0.85124,     0.85154,\n",
       "            0.85184,     0.85215,     0.85245,     0.85276,     0.85306,     0.85336,     0.85367,     0.85397,     0.85427,     0.85458,     0.85488,     0.85518,     0.85549,     0.85579,      0.8561,      0.8564,      0.8567,     0.85701,     0.85731,     0.85761,     0.85792,     0.85822,     0.85853,\n",
       "            0.85883,     0.85913,     0.85944,     0.85974,     0.86004,     0.86035,     0.86065,     0.86095,     0.86126,     0.86156,     0.86187,     0.86217,     0.86247,     0.86278,     0.86308,     0.86338,     0.86376,      0.8645,     0.86524,     0.86598,     0.86672,     0.86746,      0.8682,\n",
       "            0.86894,     0.86968,     0.87042,     0.87116,      0.8719,     0.87264,     0.87339,     0.87413,     0.87487,     0.87561,     0.87635,     0.87839,     0.88502,     0.89073,     0.89137,     0.89201,     0.89265,     0.89329,     0.89394,     0.89458,     0.89522,     0.89586,      0.8965,\n",
       "            0.89715,     0.89779,     0.89843,     0.89907,     0.89972,     0.90036,       0.901,     0.90164,     0.90228,     0.90293,     0.90357,     0.90421,     0.90479,     0.90502,     0.90525,     0.90548,     0.90571,     0.90595,     0.90618,     0.90641,     0.90664,     0.90687,      0.9071,\n",
       "            0.90733,     0.90756,     0.90779,     0.90802,     0.90825,     0.90848,     0.90871,     0.90894,     0.90917,      0.9094,     0.90963,     0.90986,     0.91009,     0.91032,     0.91055,     0.91078,     0.91101,     0.91124,     0.91147,      0.9117,     0.91193,     0.91216,     0.91239,\n",
       "            0.91262,     0.91285,     0.91308,     0.91331,     0.91354,     0.91377,       0.914,     0.91423,     0.91446,     0.91469,     0.91492,     0.91515,     0.91538,     0.91561,     0.91584,     0.91607,      0.9163,     0.91653,     0.91676,     0.91699,     0.91722,     0.91745,     0.91768,\n",
       "            0.91791,     0.91814,     0.91837,      0.9186,     0.91884,     0.91907,      0.9193,     0.91949,     0.91966,     0.91984,     0.92002,      0.9202,     0.92037,     0.92055,     0.92073,     0.92091,     0.92108,     0.92126,     0.92144,     0.92161,     0.92179,     0.92197,     0.92215,\n",
       "            0.92232,      0.9225,     0.92268,     0.92286,     0.92303,     0.92321,     0.92339,     0.92357,     0.92374,     0.92392,      0.9241,     0.92428,     0.92445,     0.92463,     0.92481,     0.92498,     0.92516,     0.92534,     0.92552,     0.92569,     0.92587,     0.92605,     0.92623,\n",
       "             0.9264,     0.92658,     0.92676,     0.92694,     0.92711,     0.92729,     0.92747,     0.92764,     0.92782,       0.928,     0.92818,     0.92835,     0.92853,     0.92871,     0.92889,     0.92906,     0.92924,     0.92942,      0.9296,     0.92977,     0.92995,     0.93013,     0.93031,\n",
       "            0.93048,     0.93066,     0.93084,     0.93101,     0.93119,     0.93137,     0.93155,     0.93172,      0.9319,     0.93208,     0.93226,     0.93243,     0.93261,     0.93279,     0.93297,     0.93314,     0.93332,      0.9335,     0.93368,     0.93385,     0.93403,     0.93421,     0.93438,\n",
       "            0.93542,     0.93671,     0.93801,      0.9393,      0.9406,     0.94189,     0.94319,     0.94448,     0.94578,     0.94707,     0.94837,     0.94966,     0.95096,     0.95225,     0.95355,     0.95484,     0.95614,     0.95744,     0.95873,     0.96003,     0.96132,     0.96262,     0.96392,\n",
       "            0.96521,      0.9661,      0.9661,     0.96609,     0.96609,     0.96609,     0.96608,     0.96608,     0.96607,     0.96607,     0.96607,     0.96606,     0.96606,     0.96605,     0.96605,     0.96605,     0.96604,     0.96604,     0.96603,     0.96603,     0.96603,     0.96602,     0.96602,\n",
       "            0.96602,     0.96601,     0.96601,       0.966,       0.966,       0.966,     0.96599,     0.96599,     0.96598,     0.96598,     0.96598,     0.96597,     0.96597,     0.96597,     0.96596,     0.96596,     0.96595,     0.96595,     0.96595,     0.96594,     0.96594,     0.96593,     0.96593,\n",
       "            0.96593,     0.96592,     0.96592,     0.96591,     0.96591,     0.96591,      0.9659,      0.9659,      0.9659,     0.96589,     0.96589,     0.96588,     0.96588,     0.96588,     0.96587,     0.96587,     0.96586,     0.96586,     0.96586,     0.96585,     0.96585,     0.96585,     0.96584,\n",
       "            0.96584,     0.96583,     0.96583,     0.96583,     0.96582,     0.96582,     0.96581,     0.96581,     0.96581,      0.9658,      0.9658,     0.96579,     0.96579,     0.96579,     0.96578,     0.96578,     0.96578,     0.96577,     0.96577,     0.96576,     0.96576,     0.96576,     0.96575,\n",
       "            0.96575,     0.96574,     0.96574,     0.96574,     0.96573,     0.96573,     0.96573,     0.96572,     0.96572,     0.96571,     0.96571,     0.96571,      0.9657,      0.9657,     0.96569,     0.96569,     0.96569,     0.96568,     0.96568,     0.96568,     0.96567,     0.96567,     0.96566,\n",
       "            0.96566,     0.96566,     0.96565,     0.96565,     0.96564,     0.96564,     0.96564,     0.96563,     0.96563,     0.96562,     0.96562,     0.96562,     0.96561,     0.96561,     0.96561,      0.9656,      0.9656,     0.96559,     0.96559,     0.96559,     0.96558,     0.96558,     0.96557,\n",
       "            0.96557,     0.96557,     0.96556,     0.96556,     0.96556,     0.96555,     0.96555,     0.96554,     0.96554,     0.96554,     0.96553,     0.96553,     0.96552,     0.96552,     0.96551,     0.96549,     0.96546,     0.96544,     0.96541,     0.96539,     0.96536,     0.96534,     0.96531,\n",
       "            0.96529,     0.96526,     0.96524,     0.96521,     0.96518,     0.96516,     0.96513,     0.96511,     0.96508,     0.96506,     0.96503,     0.96501,     0.96498,     0.96496,     0.96493,     0.96491,      0.9649,     0.96489,     0.96487,     0.96486,     0.96485,     0.96484,     0.96482,\n",
       "            0.96481,      0.9648,     0.96479,     0.96477,     0.96476,     0.96475,     0.96474,     0.96472,     0.96471,      0.9647,     0.96469,     0.96467,     0.96466,     0.96465,     0.96464,     0.96462,     0.96461,      0.9646,     0.96459,     0.96457,     0.96456,     0.96455,     0.96454,\n",
       "            0.96452,     0.96451,      0.9645,     0.96449,     0.96447,     0.96446,     0.96445,     0.96444,     0.96443,     0.96441,      0.9644,     0.96439,     0.96438,     0.96436,     0.96435,     0.96434,     0.96433,     0.96431,      0.9643,     0.96429,     0.96428,     0.96428,     0.96427,\n",
       "            0.96426,     0.96426,     0.96425,     0.96425,     0.96424,     0.96424,     0.96423,     0.96422,     0.96422,     0.96421,     0.96421,      0.9642,      0.9642,     0.96419,     0.96418,     0.96418,     0.96417,     0.96417,     0.96416,     0.96415,     0.96415,     0.96414,     0.96414,\n",
       "            0.96413,     0.96413,     0.96412,     0.96411,     0.96411,      0.9641,      0.9641,     0.96409,     0.96409,     0.96408,     0.96407,     0.96407,     0.96406,     0.96406,     0.96405,     0.96405,     0.96404,     0.96403,     0.96403,     0.96402,     0.96402,     0.96401,     0.96401,\n",
       "              0.964,     0.96399,     0.96399,     0.96398,     0.96398,     0.96397,     0.96397,     0.96396,     0.96395,     0.96395,     0.96394,     0.96394,     0.96393,     0.96392,     0.96392,     0.96391,     0.96391,      0.9639,      0.9639,     0.96389,     0.96388,     0.96388,     0.96387,\n",
       "            0.96387,     0.96386,     0.96386,     0.96385,     0.96384,     0.96384,     0.96383,     0.96383,     0.96382,     0.96382,     0.96381,      0.9638,      0.9638,     0.96379,     0.96379,     0.96378,     0.96378,     0.96377,     0.96376,     0.96376,     0.96375,     0.96375,     0.96374,\n",
       "            0.96374,     0.96373,     0.96372,     0.96372,     0.96371,     0.96371,      0.9637,      0.9637,     0.96369,     0.96368,     0.96368,     0.96367,     0.96367,     0.96366,     0.96365,     0.96365,     0.96364,     0.96364,     0.96363,     0.96362,      0.9636,     0.96359,     0.96358,\n",
       "            0.96357,     0.96356,     0.96355,     0.96354,     0.96352,     0.96351,      0.9635,     0.96349,     0.96348,     0.96347,     0.96346,     0.96345,     0.96343,     0.96342,     0.96341,      0.9634,     0.96339,     0.96338,     0.96337,     0.96335,     0.96334,     0.96333,     0.96332,\n",
       "            0.96331,      0.9633,     0.96329,     0.96327,     0.96326,     0.96325,     0.96324,     0.96323,     0.96322,     0.96321,     0.96319,     0.96318,     0.96317,     0.96316,     0.96315,     0.96314,     0.96313,     0.96311,      0.9631,     0.96309,     0.96308,     0.96307,     0.96306,\n",
       "            0.96305,     0.96303,     0.96302,     0.96301,       0.963,     0.96299,     0.96298,     0.96297,     0.96289,     0.96279,     0.96269,     0.96258,     0.96248,     0.96238,     0.96227,      0.9622,     0.96213,     0.96206,       0.962,     0.96193,     0.96186,     0.96179,     0.96172,\n",
       "            0.96165,     0.96158,     0.96133,     0.97259,     0.97999,     0.97997,     0.97996,     0.97995,     0.97993,     0.97992,     0.97991,     0.97989,     0.97988,     0.97987,     0.97986,     0.97984,     0.97983,     0.97982,      0.9798,     0.97979,     0.97978,     0.97976,     0.97975,\n",
       "            0.97974,     0.97972,     0.97971,      0.9797,     0.97968,     0.97967,     0.97966,     0.97964,     0.97963,     0.97962,      0.9796,     0.97958,     0.97954,      0.9795,     0.97946,     0.97942,     0.97938,     0.97934,      0.9793,     0.97926,     0.97922,     0.97918,     0.97916,\n",
       "            0.97914,     0.97913,     0.97912,      0.9791,     0.97909,     0.97907,     0.97906,     0.97904,     0.97903,     0.97901,       0.979,     0.97899,     0.97897,     0.97896,     0.97894,     0.97893,     0.97891,      0.9789,     0.97888,     0.97887,     0.97886,     0.97884,     0.97883,\n",
       "            0.97881,      0.9788,     0.97878,     0.97877,     0.97875,     0.97874,     0.97873,     0.97862,     0.97851,     0.97839,     0.97828,     0.97809,     0.97787,     0.97769,     0.97751,     0.97734,     0.97662,     0.97618,     0.97606,     0.97593,     0.97581,     0.97569,     0.97559,\n",
       "            0.97554,      0.9755,     0.97545,      0.9754,     0.97535,     0.97531,     0.97526,     0.97521,     0.97516,     0.97512,     0.97507,     0.97502,     0.97488,     0.97465,     0.97443,     0.97338,     0.97283,     0.97241,     0.97211,      0.9719,     0.97169,     0.97148,     0.97122,\n",
       "            0.97094,     0.97066,     0.96967,      0.9694,     0.96913,     0.96886,     0.96757,     0.96721,     0.96684,     0.96487,     0.96236,     0.96115,     0.95825,     0.95529,     0.95053,     0.94817,           1,           1,           1,           1,           1,           1,           1,\n",
       "                  1,           1,           1,           1,           1,           1,           1,           1,           1,           1,           1,           1,           1,           1,           1,           1,           1,           1,           1,           1,           1,           1,           1,\n",
       "                  1,           1,           1,           1,           1,           1,           1,           1,           1,           1,           1,           1,           1,           1,           1,           1,           1,           1,           1,           1,           1,           1,           1,\n",
       "                  1,           1,           1,           1,           1,           1,           1,           1,           1,           1,           1,           1,           1,           1,           1,           1,           1,           1,           1,           1,           1,           1,           1,\n",
       "                  1,           1,           1,           1,           1,           1,           1,           1,           1,           1,           1]]), 'Confidence', 'Precision'], [array([          0,    0.001001,    0.002002,    0.003003,    0.004004,    0.005005,    0.006006,    0.007007,    0.008008,    0.009009,     0.01001,    0.011011,    0.012012,    0.013013,    0.014014,    0.015015,    0.016016,    0.017017,    0.018018,    0.019019,     0.02002,    0.021021,    0.022022,    0.023023,\n",
       "          0.024024,    0.025025,    0.026026,    0.027027,    0.028028,    0.029029,     0.03003,    0.031031,    0.032032,    0.033033,    0.034034,    0.035035,    0.036036,    0.037037,    0.038038,    0.039039,     0.04004,    0.041041,    0.042042,    0.043043,    0.044044,    0.045045,    0.046046,    0.047047,\n",
       "          0.048048,    0.049049,     0.05005,    0.051051,    0.052052,    0.053053,    0.054054,    0.055055,    0.056056,    0.057057,    0.058058,    0.059059,     0.06006,    0.061061,    0.062062,    0.063063,    0.064064,    0.065065,    0.066066,    0.067067,    0.068068,    0.069069,     0.07007,    0.071071,\n",
       "          0.072072,    0.073073,    0.074074,    0.075075,    0.076076,    0.077077,    0.078078,    0.079079,     0.08008,    0.081081,    0.082082,    0.083083,    0.084084,    0.085085,    0.086086,    0.087087,    0.088088,    0.089089,     0.09009,    0.091091,    0.092092,    0.093093,    0.094094,    0.095095,\n",
       "          0.096096,    0.097097,    0.098098,    0.099099,      0.1001,      0.1011,      0.1021,      0.1031,      0.1041,     0.10511,     0.10611,     0.10711,     0.10811,     0.10911,     0.11011,     0.11111,     0.11211,     0.11311,     0.11411,     0.11512,     0.11612,     0.11712,     0.11812,     0.11912,\n",
       "           0.12012,     0.12112,     0.12212,     0.12312,     0.12412,     0.12513,     0.12613,     0.12713,     0.12813,     0.12913,     0.13013,     0.13113,     0.13213,     0.13313,     0.13413,     0.13514,     0.13614,     0.13714,     0.13814,     0.13914,     0.14014,     0.14114,     0.14214,     0.14314,\n",
       "           0.14414,     0.14515,     0.14615,     0.14715,     0.14815,     0.14915,     0.15015,     0.15115,     0.15215,     0.15315,     0.15415,     0.15516,     0.15616,     0.15716,     0.15816,     0.15916,     0.16016,     0.16116,     0.16216,     0.16316,     0.16416,     0.16517,     0.16617,     0.16717,\n",
       "           0.16817,     0.16917,     0.17017,     0.17117,     0.17217,     0.17317,     0.17417,     0.17518,     0.17618,     0.17718,     0.17818,     0.17918,     0.18018,     0.18118,     0.18218,     0.18318,     0.18418,     0.18519,     0.18619,     0.18719,     0.18819,     0.18919,     0.19019,     0.19119,\n",
       "           0.19219,     0.19319,     0.19419,      0.1952,      0.1962,      0.1972,      0.1982,      0.1992,      0.2002,      0.2012,      0.2022,      0.2032,      0.2042,     0.20521,     0.20621,     0.20721,     0.20821,     0.20921,     0.21021,     0.21121,     0.21221,     0.21321,     0.21421,     0.21522,\n",
       "           0.21622,     0.21722,     0.21822,     0.21922,     0.22022,     0.22122,     0.22222,     0.22322,     0.22422,     0.22523,     0.22623,     0.22723,     0.22823,     0.22923,     0.23023,     0.23123,     0.23223,     0.23323,     0.23423,     0.23524,     0.23624,     0.23724,     0.23824,     0.23924,\n",
       "           0.24024,     0.24124,     0.24224,     0.24324,     0.24424,     0.24525,     0.24625,     0.24725,     0.24825,     0.24925,     0.25025,     0.25125,     0.25225,     0.25325,     0.25425,     0.25526,     0.25626,     0.25726,     0.25826,     0.25926,     0.26026,     0.26126,     0.26226,     0.26326,\n",
       "           0.26426,     0.26527,     0.26627,     0.26727,     0.26827,     0.26927,     0.27027,     0.27127,     0.27227,     0.27327,     0.27427,     0.27528,     0.27628,     0.27728,     0.27828,     0.27928,     0.28028,     0.28128,     0.28228,     0.28328,     0.28428,     0.28529,     0.28629,     0.28729,\n",
       "           0.28829,     0.28929,     0.29029,     0.29129,     0.29229,     0.29329,     0.29429,      0.2953,      0.2963,      0.2973,      0.2983,      0.2993,      0.3003,      0.3013,      0.3023,      0.3033,      0.3043,     0.30531,     0.30631,     0.30731,     0.30831,     0.30931,     0.31031,     0.31131,\n",
       "           0.31231,     0.31331,     0.31431,     0.31532,     0.31632,     0.31732,     0.31832,     0.31932,     0.32032,     0.32132,     0.32232,     0.32332,     0.32432,     0.32533,     0.32633,     0.32733,     0.32833,     0.32933,     0.33033,     0.33133,     0.33233,     0.33333,     0.33433,     0.33534,\n",
       "           0.33634,     0.33734,     0.33834,     0.33934,     0.34034,     0.34134,     0.34234,     0.34334,     0.34434,     0.34535,     0.34635,     0.34735,     0.34835,     0.34935,     0.35035,     0.35135,     0.35235,     0.35335,     0.35435,     0.35536,     0.35636,     0.35736,     0.35836,     0.35936,\n",
       "           0.36036,     0.36136,     0.36236,     0.36336,     0.36436,     0.36537,     0.36637,     0.36737,     0.36837,     0.36937,     0.37037,     0.37137,     0.37237,     0.37337,     0.37437,     0.37538,     0.37638,     0.37738,     0.37838,     0.37938,     0.38038,     0.38138,     0.38238,     0.38338,\n",
       "           0.38438,     0.38539,     0.38639,     0.38739,     0.38839,     0.38939,     0.39039,     0.39139,     0.39239,     0.39339,     0.39439,      0.3954,      0.3964,      0.3974,      0.3984,      0.3994,      0.4004,      0.4014,      0.4024,      0.4034,      0.4044,     0.40541,     0.40641,     0.40741,\n",
       "           0.40841,     0.40941,     0.41041,     0.41141,     0.41241,     0.41341,     0.41441,     0.41542,     0.41642,     0.41742,     0.41842,     0.41942,     0.42042,     0.42142,     0.42242,     0.42342,     0.42442,     0.42543,     0.42643,     0.42743,     0.42843,     0.42943,     0.43043,     0.43143,\n",
       "           0.43243,     0.43343,     0.43443,     0.43544,     0.43644,     0.43744,     0.43844,     0.43944,     0.44044,     0.44144,     0.44244,     0.44344,     0.44444,     0.44545,     0.44645,     0.44745,     0.44845,     0.44945,     0.45045,     0.45145,     0.45245,     0.45345,     0.45445,     0.45546,\n",
       "           0.45646,     0.45746,     0.45846,     0.45946,     0.46046,     0.46146,     0.46246,     0.46346,     0.46446,     0.46547,     0.46647,     0.46747,     0.46847,     0.46947,     0.47047,     0.47147,     0.47247,     0.47347,     0.47447,     0.47548,     0.47648,     0.47748,     0.47848,     0.47948,\n",
       "           0.48048,     0.48148,     0.48248,     0.48348,     0.48448,     0.48549,     0.48649,     0.48749,     0.48849,     0.48949,     0.49049,     0.49149,     0.49249,     0.49349,     0.49449,      0.4955,      0.4965,      0.4975,      0.4985,      0.4995,      0.5005,      0.5015,      0.5025,      0.5035,\n",
       "            0.5045,     0.50551,     0.50651,     0.50751,     0.50851,     0.50951,     0.51051,     0.51151,     0.51251,     0.51351,     0.51451,     0.51552,     0.51652,     0.51752,     0.51852,     0.51952,     0.52052,     0.52152,     0.52252,     0.52352,     0.52452,     0.52553,     0.52653,     0.52753,\n",
       "           0.52853,     0.52953,     0.53053,     0.53153,     0.53253,     0.53353,     0.53453,     0.53554,     0.53654,     0.53754,     0.53854,     0.53954,     0.54054,     0.54154,     0.54254,     0.54354,     0.54454,     0.54555,     0.54655,     0.54755,     0.54855,     0.54955,     0.55055,     0.55155,\n",
       "           0.55255,     0.55355,     0.55455,     0.55556,     0.55656,     0.55756,     0.55856,     0.55956,     0.56056,     0.56156,     0.56256,     0.56356,     0.56456,     0.56557,     0.56657,     0.56757,     0.56857,     0.56957,     0.57057,     0.57157,     0.57257,     0.57357,     0.57457,     0.57558,\n",
       "           0.57658,     0.57758,     0.57858,     0.57958,     0.58058,     0.58158,     0.58258,     0.58358,     0.58458,     0.58559,     0.58659,     0.58759,     0.58859,     0.58959,     0.59059,     0.59159,     0.59259,     0.59359,     0.59459,      0.5956,      0.5966,      0.5976,      0.5986,      0.5996,\n",
       "            0.6006,      0.6016,      0.6026,      0.6036,      0.6046,     0.60561,     0.60661,     0.60761,     0.60861,     0.60961,     0.61061,     0.61161,     0.61261,     0.61361,     0.61461,     0.61562,     0.61662,     0.61762,     0.61862,     0.61962,     0.62062,     0.62162,     0.62262,     0.62362,\n",
       "           0.62462,     0.62563,     0.62663,     0.62763,     0.62863,     0.62963,     0.63063,     0.63163,     0.63263,     0.63363,     0.63463,     0.63564,     0.63664,     0.63764,     0.63864,     0.63964,     0.64064,     0.64164,     0.64264,     0.64364,     0.64464,     0.64565,     0.64665,     0.64765,\n",
       "           0.64865,     0.64965,     0.65065,     0.65165,     0.65265,     0.65365,     0.65465,     0.65566,     0.65666,     0.65766,     0.65866,     0.65966,     0.66066,     0.66166,     0.66266,     0.66366,     0.66466,     0.66567,     0.66667,     0.66767,     0.66867,     0.66967,     0.67067,     0.67167,\n",
       "           0.67267,     0.67367,     0.67467,     0.67568,     0.67668,     0.67768,     0.67868,     0.67968,     0.68068,     0.68168,     0.68268,     0.68368,     0.68468,     0.68569,     0.68669,     0.68769,     0.68869,     0.68969,     0.69069,     0.69169,     0.69269,     0.69369,     0.69469,      0.6957,\n",
       "            0.6967,      0.6977,      0.6987,      0.6997,      0.7007,      0.7017,      0.7027,      0.7037,      0.7047,     0.70571,     0.70671,     0.70771,     0.70871,     0.70971,     0.71071,     0.71171,     0.71271,     0.71371,     0.71471,     0.71572,     0.71672,     0.71772,     0.71872,     0.71972,\n",
       "           0.72072,     0.72172,     0.72272,     0.72372,     0.72472,     0.72573,     0.72673,     0.72773,     0.72873,     0.72973,     0.73073,     0.73173,     0.73273,     0.73373,     0.73473,     0.73574,     0.73674,     0.73774,     0.73874,     0.73974,     0.74074,     0.74174,     0.74274,     0.74374,\n",
       "           0.74474,     0.74575,     0.74675,     0.74775,     0.74875,     0.74975,     0.75075,     0.75175,     0.75275,     0.75375,     0.75475,     0.75576,     0.75676,     0.75776,     0.75876,     0.75976,     0.76076,     0.76176,     0.76276,     0.76376,     0.76476,     0.76577,     0.76677,     0.76777,\n",
       "           0.76877,     0.76977,     0.77077,     0.77177,     0.77277,     0.77377,     0.77477,     0.77578,     0.77678,     0.77778,     0.77878,     0.77978,     0.78078,     0.78178,     0.78278,     0.78378,     0.78478,     0.78579,     0.78679,     0.78779,     0.78879,     0.78979,     0.79079,     0.79179,\n",
       "           0.79279,     0.79379,     0.79479,      0.7958,      0.7968,      0.7978,      0.7988,      0.7998,      0.8008,      0.8018,      0.8028,      0.8038,      0.8048,     0.80581,     0.80681,     0.80781,     0.80881,     0.80981,     0.81081,     0.81181,     0.81281,     0.81381,     0.81481,     0.81582,\n",
       "           0.81682,     0.81782,     0.81882,     0.81982,     0.82082,     0.82182,     0.82282,     0.82382,     0.82482,     0.82583,     0.82683,     0.82783,     0.82883,     0.82983,     0.83083,     0.83183,     0.83283,     0.83383,     0.83483,     0.83584,     0.83684,     0.83784,     0.83884,     0.83984,\n",
       "           0.84084,     0.84184,     0.84284,     0.84384,     0.84484,     0.84585,     0.84685,     0.84785,     0.84885,     0.84985,     0.85085,     0.85185,     0.85285,     0.85385,     0.85485,     0.85586,     0.85686,     0.85786,     0.85886,     0.85986,     0.86086,     0.86186,     0.86286,     0.86386,\n",
       "           0.86486,     0.86587,     0.86687,     0.86787,     0.86887,     0.86987,     0.87087,     0.87187,     0.87287,     0.87387,     0.87487,     0.87588,     0.87688,     0.87788,     0.87888,     0.87988,     0.88088,     0.88188,     0.88288,     0.88388,     0.88488,     0.88589,     0.88689,     0.88789,\n",
       "           0.88889,     0.88989,     0.89089,     0.89189,     0.89289,     0.89389,     0.89489,      0.8959,      0.8969,      0.8979,      0.8989,      0.8999,      0.9009,      0.9019,      0.9029,      0.9039,      0.9049,     0.90591,     0.90691,     0.90791,     0.90891,     0.90991,     0.91091,     0.91191,\n",
       "           0.91291,     0.91391,     0.91491,     0.91592,     0.91692,     0.91792,     0.91892,     0.91992,     0.92092,     0.92192,     0.92292,     0.92392,     0.92492,     0.92593,     0.92693,     0.92793,     0.92893,     0.92993,     0.93093,     0.93193,     0.93293,     0.93393,     0.93493,     0.93594,\n",
       "           0.93694,     0.93794,     0.93894,     0.93994,     0.94094,     0.94194,     0.94294,     0.94394,     0.94494,     0.94595,     0.94695,     0.94795,     0.94895,     0.94995,     0.95095,     0.95195,     0.95295,     0.95395,     0.95495,     0.95596,     0.95696,     0.95796,     0.95896,     0.95996,\n",
       "           0.96096,     0.96196,     0.96296,     0.96396,     0.96496,     0.96597,     0.96697,     0.96797,     0.96897,     0.96997,     0.97097,     0.97197,     0.97297,     0.97397,     0.97497,     0.97598,     0.97698,     0.97798,     0.97898,     0.97998,     0.98098,     0.98198,     0.98298,     0.98398,\n",
       "           0.98498,     0.98599,     0.98699,     0.98799,     0.98899,     0.98999,     0.99099,     0.99199,     0.99299,     0.99399,     0.99499,       0.996,       0.997,       0.998,       0.999,           1]), array([[    0.91176,     0.91176,     0.91176,     0.91176,     0.91176,     0.90419,     0.89706,     0.89706,     0.89706,     0.89706,     0.89706,     0.88235,     0.88235,     0.88235,     0.88235,     0.88235,     0.88235,     0.88235,     0.88235,     0.88235,     0.88235,     0.88235,     0.88235,\n",
       "            0.88235,     0.88235,     0.88235,     0.87963,     0.87466,     0.86969,     0.86555,     0.86198,     0.85842,     0.85485,     0.84729,     0.83824,     0.83824,     0.83824,     0.83824,     0.83824,     0.83824,     0.83824,     0.83824,     0.83824,     0.83824,     0.83824,     0.83824,\n",
       "            0.83824,     0.83824,     0.83824,     0.83824,     0.83824,     0.83824,     0.83824,     0.83824,     0.83824,     0.83824,     0.83824,     0.83824,     0.83824,     0.83824,     0.83824,     0.83824,     0.83824,     0.83824,     0.83824,     0.83824,     0.83824,     0.83824,     0.83824,\n",
       "            0.83824,     0.83824,     0.83824,     0.83824,     0.83824,     0.83824,     0.83824,     0.83824,     0.83824,     0.83824,     0.83824,     0.83824,     0.83824,     0.83824,     0.83824,     0.83824,     0.83824,     0.83824,     0.83824,     0.83824,     0.83824,     0.83824,     0.83824,\n",
       "            0.83824,     0.83824,     0.83824,     0.83824,     0.83824,     0.83824,     0.83824,     0.83824,     0.83824,     0.83824,     0.83824,     0.83824,     0.83824,     0.83824,     0.83824,     0.83824,     0.83824,     0.83824,     0.83824,     0.83824,     0.83824,     0.83824,     0.83824,\n",
       "            0.83824,     0.83824,     0.83824,     0.83824,     0.83824,     0.83824,     0.83824,     0.83824,     0.83824,     0.83824,     0.83824,     0.83824,     0.83824,     0.83824,     0.83824,     0.83824,     0.83824,     0.83824,     0.83824,     0.83824,     0.83824,     0.83824,     0.83824,\n",
       "            0.83824,     0.83824,     0.83824,     0.83824,     0.83824,     0.83824,     0.83824,     0.83824,     0.83824,     0.83824,     0.83824,     0.83824,     0.83824,     0.83824,     0.83824,     0.83824,     0.83824,     0.83824,     0.83824,     0.83824,     0.83824,     0.83824,     0.83824,\n",
       "            0.83824,     0.83824,     0.83824,     0.83824,     0.83824,     0.83824,     0.83824,     0.83824,     0.83824,     0.83824,     0.83824,     0.83824,     0.83824,     0.83824,     0.83824,     0.83824,     0.83824,     0.83824,     0.83824,     0.83824,     0.83824,     0.83824,     0.83824,\n",
       "            0.83824,     0.83824,     0.83824,     0.83824,     0.83824,     0.83824,     0.83824,     0.83824,     0.83824,     0.83824,     0.83824,     0.83824,     0.83824,     0.83824,     0.83824,     0.83824,     0.83824,     0.83824,     0.83824,     0.83824,     0.83824,     0.83824,     0.83824,\n",
       "            0.83824,     0.83824,     0.83824,     0.83824,     0.83824,     0.83824,     0.83824,     0.83824,     0.83824,     0.83824,     0.83824,     0.83824,     0.83824,     0.83824,     0.83824,     0.83824,     0.83824,     0.83824,     0.83824,     0.83824,     0.83824,     0.83824,     0.83824,\n",
       "            0.83824,     0.83824,     0.83824,     0.83824,     0.83824,     0.83824,     0.83824,     0.83824,     0.83824,     0.83824,     0.83824,     0.83824,     0.83824,     0.83824,     0.83824,     0.83824,     0.83824,     0.83824,     0.83824,     0.83824,     0.83824,     0.83824,     0.83824,\n",
       "            0.83824,     0.83824,     0.83824,     0.83824,     0.83824,     0.83824,     0.83824,     0.83824,     0.83824,     0.83824,     0.83824,     0.83824,     0.83824,     0.83824,     0.83824,     0.83824,     0.83824,     0.83824,     0.83824,     0.83824,     0.83824,     0.83824,     0.83824,\n",
       "            0.83824,     0.83824,     0.83824,     0.83824,     0.83824,     0.83824,     0.83824,     0.83824,     0.83824,     0.83824,     0.83824,     0.83824,     0.83824,     0.83824,     0.83824,     0.83824,     0.83824,     0.83824,     0.83824,     0.83824,     0.83824,     0.83824,     0.83824,\n",
       "            0.83824,     0.83824,     0.83824,     0.83824,     0.83824,     0.83824,     0.83824,     0.83824,     0.83824,     0.83824,     0.83824,     0.83824,     0.83824,     0.83824,     0.83824,     0.83824,     0.83824,     0.83824,     0.83824,     0.83824,     0.83824,     0.83824,     0.83824,\n",
       "            0.83824,     0.83824,     0.83824,     0.83824,     0.83824,     0.83824,     0.83824,     0.83824,     0.83824,     0.83824,     0.83824,     0.83824,     0.83824,     0.83824,     0.83824,     0.83824,     0.83824,     0.83824,     0.83824,     0.83824,     0.83824,     0.83824,     0.83824,\n",
       "            0.83824,     0.83824,     0.83824,     0.83824,     0.83824,     0.83824,     0.83824,     0.83824,     0.83824,     0.83824,     0.83824,     0.83824,     0.83824,     0.83824,     0.83824,     0.83824,     0.83824,     0.83824,     0.83824,     0.83824,     0.83824,     0.83824,     0.83824,\n",
       "            0.83824,      0.8382,     0.83811,     0.83801,     0.83791,     0.83782,     0.83772,     0.83762,     0.83752,     0.83743,     0.83733,     0.83723,     0.83713,     0.83704,     0.83694,     0.83684,     0.83674,     0.83665,     0.83655,     0.83645,     0.83636,     0.83626,     0.83616,\n",
       "            0.83606,     0.83597,     0.83587,     0.83577,     0.83567,     0.83558,     0.83548,     0.83538,     0.83529,     0.83519,     0.83509,     0.83499,      0.8349,      0.8348,      0.8347,      0.8346,     0.83451,     0.83441,     0.83431,     0.83421,     0.83412,     0.83402,     0.83392,\n",
       "            0.83383,     0.83373,     0.83363,     0.83353,     0.83344,     0.83334,     0.83324,     0.83314,     0.83305,     0.83295,     0.83285,     0.83276,     0.83266,     0.83256,     0.83246,     0.83237,     0.83227,     0.83217,     0.83207,     0.83198,     0.83188,     0.83178,     0.83168,\n",
       "            0.83159,     0.83149,     0.83139,      0.8313,      0.8312,      0.8311,       0.831,     0.83091,     0.83081,     0.83071,     0.83061,     0.83052,     0.83042,     0.83032,     0.83022,     0.83013,     0.83003,     0.82993,     0.82984,     0.82974,     0.82964,     0.82954,     0.82945,\n",
       "            0.82935,     0.82925,     0.82915,     0.82906,     0.82896,     0.82886,     0.82877,     0.82867,     0.82857,     0.82847,     0.82838,     0.82828,     0.82818,     0.82808,     0.82799,     0.82789,     0.82779,     0.82769,      0.8276,      0.8275,      0.8274,     0.82731,     0.82721,\n",
       "            0.82711,     0.82701,     0.82692,     0.82682,     0.82672,     0.82662,     0.82653,     0.82643,     0.82633,     0.82623,     0.82614,     0.82604,     0.82594,     0.82585,     0.82575,     0.82565,     0.82555,     0.82546,     0.82536,     0.82526,     0.82516,     0.82507,     0.82497,\n",
       "            0.82487,     0.82478,     0.82468,     0.82458,     0.82448,     0.82439,     0.82429,     0.82419,     0.82409,       0.824,      0.8239,      0.8238,      0.8237,     0.82361,     0.82341,     0.82279,     0.82218,     0.82157,     0.82096,     0.82034,     0.81973,     0.81912,     0.81851,\n",
       "            0.81789,     0.81728,     0.81667,     0.81606,     0.81544,     0.81483,     0.81422,     0.81361,     0.81299,     0.81238,     0.81177,     0.81116,     0.81054,     0.80993,     0.80932,     0.80877,     0.80848,     0.80818,     0.80789,      0.8076,     0.80731,     0.80702,     0.80673,\n",
       "            0.80643,     0.80614,     0.80585,     0.80556,     0.80527,     0.80498,     0.80468,     0.80439,      0.8041,     0.80381,     0.80352,     0.80323,     0.80293,     0.80264,     0.80235,     0.80206,     0.80177,     0.80148,     0.80118,     0.80089,      0.8006,     0.80031,     0.80002,\n",
       "            0.79973,     0.79943,     0.79914,     0.79885,     0.79856,     0.79827,     0.79798,     0.79768,     0.79739,      0.7971,     0.79681,     0.79652,     0.79623,     0.79593,     0.79564,     0.79535,     0.79506,     0.79477,     0.79448,     0.79418,     0.79402,     0.79389,     0.79376,\n",
       "            0.79363,      0.7935,     0.79337,     0.79324,     0.79311,     0.79298,     0.79285,     0.79272,     0.79259,     0.79246,     0.79232,     0.79219,     0.79206,     0.79193,      0.7918,     0.79167,     0.79154,     0.79141,     0.79128,     0.79115,     0.79102,     0.79089,     0.79076,\n",
       "            0.79063,      0.7905,     0.79037,     0.79024,     0.79011,     0.78998,     0.78985,     0.78972,     0.78959,     0.78946,     0.78933,      0.7892,     0.78907,     0.78894,     0.78881,     0.78868,     0.78855,     0.78842,     0.78829,     0.78816,     0.78803,      0.7879,     0.78777,\n",
       "            0.78764,     0.78751,     0.78738,     0.78725,     0.78712,     0.78699,     0.78686,     0.78673,      0.7866,     0.78647,     0.78634,     0.78621,     0.78608,     0.78595,     0.78582,     0.78569,     0.78556,     0.78543,      0.7853,     0.78517,     0.78504,     0.78491,     0.78478,\n",
       "            0.78465,     0.78452,     0.78439,     0.78425,     0.78412,     0.78399,     0.78386,     0.78373,      0.7836,     0.78347,     0.78334,     0.78321,     0.78308,     0.78295,     0.78282,     0.78269,     0.78256,     0.78243,      0.7823,     0.78217,     0.78204,     0.78191,     0.78178,\n",
       "            0.78165,     0.78152,     0.78139,     0.78126,     0.78113,       0.781,     0.78087,     0.78074,     0.78061,     0.78048,     0.78035,     0.78022,     0.78009,     0.77996,     0.77983,      0.7797,     0.77957,     0.77944,     0.77922,     0.77897,     0.77872,     0.77847,     0.77822,\n",
       "            0.77797,     0.77772,     0.77747,     0.77722,     0.77698,     0.77673,     0.77648,     0.77623,     0.77598,     0.77573,     0.77548,     0.77523,     0.77499,     0.77474,     0.77449,     0.77424,     0.77399,     0.77374,     0.77349,     0.77324,       0.773,     0.77275,      0.7725,\n",
       "            0.77225,       0.772,     0.77175,      0.7715,     0.77125,     0.77101,     0.77076,     0.77051,     0.77026,     0.77001,     0.76976,     0.76951,     0.76926,     0.76902,     0.76877,     0.76852,     0.76827,     0.76802,     0.76777,     0.76752,     0.76727,     0.76703,     0.76678,\n",
       "            0.76653,     0.76628,     0.76603,     0.76578,     0.76553,     0.76528,     0.76504,     0.76479,     0.76324,     0.76106,     0.75889,     0.75672,     0.75455,     0.75237,      0.7502,     0.74874,     0.74735,     0.74596,     0.74457,     0.74318,     0.74179,      0.7404,     0.73901,\n",
       "            0.73763,     0.73624,     0.73117,     0.72059,     0.72016,     0.71968,      0.7192,     0.71872,     0.71824,     0.71776,     0.71728,      0.7168,     0.71632,     0.71584,     0.71537,     0.71489,     0.71441,     0.71393,     0.71345,     0.71297,     0.71249,     0.71201,     0.71153,\n",
       "            0.71105,     0.71057,     0.71009,     0.70961,     0.70913,     0.70865,     0.70817,     0.70769,     0.70721,     0.70673,     0.70625,     0.70557,     0.70419,     0.70282,     0.70144,     0.70006,     0.69868,      0.6973,     0.69593,     0.69455,     0.69317,     0.69179,     0.69091,\n",
       "            0.69043,     0.68995,     0.68947,     0.68899,     0.68851,     0.68803,     0.68756,     0.68708,      0.6866,     0.68612,     0.68564,     0.68516,     0.68468,      0.6842,     0.68372,     0.68324,     0.68276,     0.68228,      0.6818,     0.68132,     0.68084,     0.68036,     0.67988,\n",
       "            0.67941,     0.67893,     0.67845,     0.67797,     0.67749,     0.67701,     0.67653,     0.67328,     0.66965,     0.66601,     0.66238,     0.65643,     0.65001,     0.64437,     0.63938,     0.63439,     0.61422,     0.60263,     0.59951,      0.5964,     0.59329,     0.59017,      0.5878,\n",
       "            0.58666,     0.58551,     0.58436,     0.58322,     0.58207,     0.58092,     0.57978,     0.57863,     0.57748,     0.57634,     0.57519,     0.57404,      0.5707,     0.56557,     0.56045,     0.53779,     0.52653,     0.51848,     0.51264,     0.50874,     0.50485,     0.50095,     0.49634,\n",
       "            0.49149,     0.48664,     0.47023,       0.466,     0.46178,     0.45755,     0.43884,     0.43385,     0.42886,     0.40398,     0.37618,     0.36397,     0.33758,     0.31435,     0.28271,     0.26916,     0.25983,     0.25126,     0.23406,     0.22949,     0.22492,     0.22006,     0.20982,\n",
       "            0.20044,     0.19159,     0.18304,     0.16977,     0.15707,     0.15061,     0.14267,     0.13295,     0.11482,      0.1013,    0.096188,    0.091076,    0.072801,    0.070095,    0.067389,    0.064683,    0.061977,    0.059271,    0.051235,    0.042466,    0.034863,    0.025414,           0,\n",
       "                  0,           0,           0,           0,           0,           0,           0,           0,           0,           0,           0,           0,           0,           0,           0,           0,           0,           0,           0,           0,           0,           0,           0,\n",
       "                  0,           0,           0,           0,           0,           0,           0,           0,           0,           0,           0,           0,           0,           0,           0,           0,           0,           0,           0,           0,           0,           0,           0,\n",
       "                  0,           0,           0,           0,           0,           0,           0,           0,           0,           0,           0]]), 'Confidence', 'Recall']]\n",
       "fitness: 0.5833185447939917\n",
       "keys: ['metrics/precision(B)', 'metrics/recall(B)', 'metrics/mAP50(B)', 'metrics/mAP50-95(B)']\n",
       "maps: array([    0.54827])\n",
       "names: {0: 'licence'}\n",
       "plot: True\n",
       "results_dict: {'metrics/precision(B)': 0.9659419074291236, 'metrics/recall(B)': 0.8342147589886814, 'metrics/mAP50(B)': 0.8987714922595562, 'metrics/mAP50-95(B)': 0.5482682172978178, 'fitness': 0.5833185447939917}\n",
       "save_dir: PosixPath('runs/detect/train2')\n",
       "speed: {'preprocess': 0.3640204668045044, 'inference': 33.887363970279694, 'loss': 0.0008642673492431641, 'postprocess': 0.9050294756889343}\n",
       "task: 'detect'"
      ]
     },
     "execution_count": 11,
     "metadata": {},
     "output_type": "execute_result"
    }
   ],
   "source": [
    "model.val(data=r'/kaggle/working/Car_License_Plates-2/data.yaml')"
   ]
  },
  {
   "cell_type": "markdown",
   "id": "99271716",
   "metadata": {
    "papermill": {
     "duration": 0.32952,
     "end_time": "2024-12-15T05:18:32.282989",
     "exception": false,
     "start_time": "2024-12-15T05:18:31.953469",
     "status": "completed"
    },
    "tags": []
   },
   "source": [
    "### Select the Best Model"
   ]
  },
  {
   "cell_type": "code",
   "execution_count": 12,
   "id": "79918548",
   "metadata": {
    "execution": {
     "iopub.execute_input": "2024-12-15T05:18:33.060220Z",
     "iopub.status.busy": "2024-12-15T05:18:33.059823Z",
     "iopub.status.idle": "2024-12-15T05:18:34.120319Z",
     "shell.execute_reply": "2024-12-15T05:18:34.119020Z"
    },
    "id": "ToePX_F1X6S8",
    "papermill": {
     "duration": 1.441085,
     "end_time": "2024-12-15T05:18:34.121702",
     "exception": true,
     "start_time": "2024-12-15T05:18:32.680617",
     "status": "failed"
    },
    "tags": []
   },
   "outputs": [
    {
     "ename": "FileNotFoundError",
     "evalue": "[Errno 2] No such file or directory: '/kaggle/working/runs/detect/train3/weights/best.pt'",
     "output_type": "error",
     "traceback": [
      "\u001B[0;31m---------------------------------------------------------------------------\u001B[0m",
      "\u001B[0;31mFileNotFoundError\u001B[0m                         Traceback (most recent call last)",
      "Cell \u001B[0;32mIn[12], line 1\u001B[0m\n\u001B[0;32m----> 1\u001B[0m best \u001B[38;5;241m=\u001B[39m \u001B[43mYOLO\u001B[49m\u001B[43m(\u001B[49m\u001B[43mmodel\u001B[49m\u001B[38;5;241;43m=\u001B[39;49m\u001B[43m \u001B[49m\u001B[38;5;124;43mr\u001B[39;49m\u001B[38;5;124;43m\"\u001B[39;49m\u001B[38;5;124;43m/kaggle/working/runs/detect/train3/weights/best.pt\u001B[39;49m\u001B[38;5;124;43m\"\u001B[39;49m\u001B[43m)\u001B[49m\n",
      "File \u001B[0;32m/opt/conda/lib/python3.10/site-packages/ultralytics/models/yolo/model.py:23\u001B[0m, in \u001B[0;36mYOLO.__init__\u001B[0;34m(self, model, task, verbose)\u001B[0m\n\u001B[1;32m     20\u001B[0m     \u001B[38;5;28mself\u001B[39m\u001B[38;5;241m.\u001B[39m\u001B[38;5;18m__dict__\u001B[39m \u001B[38;5;241m=\u001B[39m new_instance\u001B[38;5;241m.\u001B[39m\u001B[38;5;18m__dict__\u001B[39m\n\u001B[1;32m     21\u001B[0m \u001B[38;5;28;01melse\u001B[39;00m:\n\u001B[1;32m     22\u001B[0m     \u001B[38;5;66;03m# Continue with default YOLO initialization\u001B[39;00m\n\u001B[0;32m---> 23\u001B[0m     \u001B[38;5;28;43msuper\u001B[39;49m\u001B[43m(\u001B[49m\u001B[43m)\u001B[49m\u001B[38;5;241;43m.\u001B[39;49m\u001B[38;5;21;43m__init__\u001B[39;49m\u001B[43m(\u001B[49m\u001B[43mmodel\u001B[49m\u001B[38;5;241;43m=\u001B[39;49m\u001B[43mmodel\u001B[49m\u001B[43m,\u001B[49m\u001B[43m \u001B[49m\u001B[43mtask\u001B[49m\u001B[38;5;241;43m=\u001B[39;49m\u001B[43mtask\u001B[49m\u001B[43m,\u001B[49m\u001B[43m \u001B[49m\u001B[43mverbose\u001B[49m\u001B[38;5;241;43m=\u001B[39;49m\u001B[43mverbose\u001B[49m\u001B[43m)\u001B[49m\n",
      "File \u001B[0;32m/opt/conda/lib/python3.10/site-packages/ultralytics/engine/model.py:146\u001B[0m, in \u001B[0;36mModel.__init__\u001B[0;34m(self, model, task, verbose)\u001B[0m\n\u001B[1;32m    144\u001B[0m     \u001B[38;5;28mself\u001B[39m\u001B[38;5;241m.\u001B[39m_new(model, task\u001B[38;5;241m=\u001B[39mtask, verbose\u001B[38;5;241m=\u001B[39mverbose)\n\u001B[1;32m    145\u001B[0m \u001B[38;5;28;01melse\u001B[39;00m:\n\u001B[0;32m--> 146\u001B[0m     \u001B[38;5;28;43mself\u001B[39;49m\u001B[38;5;241;43m.\u001B[39;49m\u001B[43m_load\u001B[49m\u001B[43m(\u001B[49m\u001B[43mmodel\u001B[49m\u001B[43m,\u001B[49m\u001B[43m \u001B[49m\u001B[43mtask\u001B[49m\u001B[38;5;241;43m=\u001B[39;49m\u001B[43mtask\u001B[49m\u001B[43m)\u001B[49m\n\u001B[1;32m    148\u001B[0m \u001B[38;5;66;03m# Delete super().training for accessing self.model.training\u001B[39;00m\n\u001B[1;32m    149\u001B[0m \u001B[38;5;28;01mdel\u001B[39;00m \u001B[38;5;28mself\u001B[39m\u001B[38;5;241m.\u001B[39mtraining\n",
      "File \u001B[0;32m/opt/conda/lib/python3.10/site-packages/ultralytics/engine/model.py:289\u001B[0m, in \u001B[0;36mModel._load\u001B[0;34m(self, weights, task)\u001B[0m\n\u001B[1;32m    286\u001B[0m weights \u001B[38;5;241m=\u001B[39m checks\u001B[38;5;241m.\u001B[39mcheck_model_file_from_stem(weights)  \u001B[38;5;66;03m# add suffix, i.e. yolov8n -> yolov8n.pt\u001B[39;00m\n\u001B[1;32m    288\u001B[0m \u001B[38;5;28;01mif\u001B[39;00m Path(weights)\u001B[38;5;241m.\u001B[39msuffix \u001B[38;5;241m==\u001B[39m \u001B[38;5;124m\"\u001B[39m\u001B[38;5;124m.pt\u001B[39m\u001B[38;5;124m\"\u001B[39m:\n\u001B[0;32m--> 289\u001B[0m     \u001B[38;5;28mself\u001B[39m\u001B[38;5;241m.\u001B[39mmodel, \u001B[38;5;28mself\u001B[39m\u001B[38;5;241m.\u001B[39mckpt \u001B[38;5;241m=\u001B[39m \u001B[43mattempt_load_one_weight\u001B[49m\u001B[43m(\u001B[49m\u001B[43mweights\u001B[49m\u001B[43m)\u001B[49m\n\u001B[1;32m    290\u001B[0m     \u001B[38;5;28mself\u001B[39m\u001B[38;5;241m.\u001B[39mtask \u001B[38;5;241m=\u001B[39m \u001B[38;5;28mself\u001B[39m\u001B[38;5;241m.\u001B[39mmodel\u001B[38;5;241m.\u001B[39margs[\u001B[38;5;124m\"\u001B[39m\u001B[38;5;124mtask\u001B[39m\u001B[38;5;124m\"\u001B[39m]\n\u001B[1;32m    291\u001B[0m     \u001B[38;5;28mself\u001B[39m\u001B[38;5;241m.\u001B[39moverrides \u001B[38;5;241m=\u001B[39m \u001B[38;5;28mself\u001B[39m\u001B[38;5;241m.\u001B[39mmodel\u001B[38;5;241m.\u001B[39margs \u001B[38;5;241m=\u001B[39m \u001B[38;5;28mself\u001B[39m\u001B[38;5;241m.\u001B[39m_reset_ckpt_args(\u001B[38;5;28mself\u001B[39m\u001B[38;5;241m.\u001B[39mmodel\u001B[38;5;241m.\u001B[39margs)\n",
      "File \u001B[0;32m/opt/conda/lib/python3.10/site-packages/ultralytics/nn/tasks.py:910\u001B[0m, in \u001B[0;36mattempt_load_one_weight\u001B[0;34m(weight, device, inplace, fuse)\u001B[0m\n\u001B[1;32m    908\u001B[0m \u001B[38;5;28;01mdef\u001B[39;00m \u001B[38;5;21mattempt_load_one_weight\u001B[39m(weight, device\u001B[38;5;241m=\u001B[39m\u001B[38;5;28;01mNone\u001B[39;00m, inplace\u001B[38;5;241m=\u001B[39m\u001B[38;5;28;01mTrue\u001B[39;00m, fuse\u001B[38;5;241m=\u001B[39m\u001B[38;5;28;01mFalse\u001B[39;00m):\n\u001B[1;32m    909\u001B[0m \u001B[38;5;250m    \u001B[39m\u001B[38;5;124;03m\"\"\"Loads a single model weights.\"\"\"\u001B[39;00m\n\u001B[0;32m--> 910\u001B[0m     ckpt, weight \u001B[38;5;241m=\u001B[39m \u001B[43mtorch_safe_load\u001B[49m\u001B[43m(\u001B[49m\u001B[43mweight\u001B[49m\u001B[43m)\u001B[49m  \u001B[38;5;66;03m# load ckpt\u001B[39;00m\n\u001B[1;32m    911\u001B[0m     args \u001B[38;5;241m=\u001B[39m {\u001B[38;5;241m*\u001B[39m\u001B[38;5;241m*\u001B[39mDEFAULT_CFG_DICT, \u001B[38;5;241m*\u001B[39m\u001B[38;5;241m*\u001B[39m(ckpt\u001B[38;5;241m.\u001B[39mget(\u001B[38;5;124m\"\u001B[39m\u001B[38;5;124mtrain_args\u001B[39m\u001B[38;5;124m\"\u001B[39m, {}))}  \u001B[38;5;66;03m# combine model and default args, preferring model args\u001B[39;00m\n\u001B[1;32m    912\u001B[0m     model \u001B[38;5;241m=\u001B[39m (ckpt\u001B[38;5;241m.\u001B[39mget(\u001B[38;5;124m\"\u001B[39m\u001B[38;5;124mema\u001B[39m\u001B[38;5;124m\"\u001B[39m) \u001B[38;5;129;01mor\u001B[39;00m ckpt[\u001B[38;5;124m\"\u001B[39m\u001B[38;5;124mmodel\u001B[39m\u001B[38;5;124m\"\u001B[39m])\u001B[38;5;241m.\u001B[39mto(device)\u001B[38;5;241m.\u001B[39mfloat()  \u001B[38;5;66;03m# FP32 model\u001B[39;00m\n",
      "File \u001B[0;32m/opt/conda/lib/python3.10/site-packages/ultralytics/nn/tasks.py:837\u001B[0m, in \u001B[0;36mtorch_safe_load\u001B[0;34m(weight, safe_only)\u001B[0m\n\u001B[1;32m    835\u001B[0m                 ckpt \u001B[38;5;241m=\u001B[39m torch\u001B[38;5;241m.\u001B[39mload(f, pickle_module\u001B[38;5;241m=\u001B[39msafe_pickle)\n\u001B[1;32m    836\u001B[0m         \u001B[38;5;28;01melse\u001B[39;00m:\n\u001B[0;32m--> 837\u001B[0m             ckpt \u001B[38;5;241m=\u001B[39m \u001B[43mtorch\u001B[49m\u001B[38;5;241;43m.\u001B[39;49m\u001B[43mload\u001B[49m\u001B[43m(\u001B[49m\u001B[43mfile\u001B[49m\u001B[43m,\u001B[49m\u001B[43m \u001B[49m\u001B[43mmap_location\u001B[49m\u001B[38;5;241;43m=\u001B[39;49m\u001B[38;5;124;43m\"\u001B[39;49m\u001B[38;5;124;43mcpu\u001B[39;49m\u001B[38;5;124;43m\"\u001B[39;49m\u001B[43m)\u001B[49m\n\u001B[1;32m    839\u001B[0m \u001B[38;5;28;01mexcept\u001B[39;00m \u001B[38;5;167;01mModuleNotFoundError\u001B[39;00m \u001B[38;5;28;01mas\u001B[39;00m e:  \u001B[38;5;66;03m# e.name is missing module name\u001B[39;00m\n\u001B[1;32m    840\u001B[0m     \u001B[38;5;28;01mif\u001B[39;00m e\u001B[38;5;241m.\u001B[39mname \u001B[38;5;241m==\u001B[39m \u001B[38;5;124m\"\u001B[39m\u001B[38;5;124mmodels\u001B[39m\u001B[38;5;124m\"\u001B[39m:\n",
      "File \u001B[0;32m/opt/conda/lib/python3.10/site-packages/ultralytics/utils/patches.py:86\u001B[0m, in \u001B[0;36mtorch_load\u001B[0;34m(*args, **kwargs)\u001B[0m\n\u001B[1;32m     83\u001B[0m \u001B[38;5;28;01mif\u001B[39;00m TORCH_1_13 \u001B[38;5;129;01mand\u001B[39;00m \u001B[38;5;124m\"\u001B[39m\u001B[38;5;124mweights_only\u001B[39m\u001B[38;5;124m\"\u001B[39m \u001B[38;5;129;01mnot\u001B[39;00m \u001B[38;5;129;01min\u001B[39;00m kwargs:\n\u001B[1;32m     84\u001B[0m     kwargs[\u001B[38;5;124m\"\u001B[39m\u001B[38;5;124mweights_only\u001B[39m\u001B[38;5;124m\"\u001B[39m] \u001B[38;5;241m=\u001B[39m \u001B[38;5;28;01mFalse\u001B[39;00m\n\u001B[0;32m---> 86\u001B[0m \u001B[38;5;28;01mreturn\u001B[39;00m \u001B[43m_torch_load\u001B[49m\u001B[43m(\u001B[49m\u001B[38;5;241;43m*\u001B[39;49m\u001B[43margs\u001B[49m\u001B[43m,\u001B[49m\u001B[43m \u001B[49m\u001B[38;5;241;43m*\u001B[39;49m\u001B[38;5;241;43m*\u001B[39;49m\u001B[43mkwargs\u001B[49m\u001B[43m)\u001B[49m\n",
      "File \u001B[0;32m/opt/conda/lib/python3.10/site-packages/torch/serialization.py:1065\u001B[0m, in \u001B[0;36mload\u001B[0;34m(f, map_location, pickle_module, weights_only, mmap, **pickle_load_args)\u001B[0m\n\u001B[1;32m   1062\u001B[0m \u001B[38;5;28;01mif\u001B[39;00m \u001B[38;5;124m'\u001B[39m\u001B[38;5;124mencoding\u001B[39m\u001B[38;5;124m'\u001B[39m \u001B[38;5;129;01mnot\u001B[39;00m \u001B[38;5;129;01min\u001B[39;00m pickle_load_args\u001B[38;5;241m.\u001B[39mkeys():\n\u001B[1;32m   1063\u001B[0m     pickle_load_args[\u001B[38;5;124m'\u001B[39m\u001B[38;5;124mencoding\u001B[39m\u001B[38;5;124m'\u001B[39m] \u001B[38;5;241m=\u001B[39m \u001B[38;5;124m'\u001B[39m\u001B[38;5;124mutf-8\u001B[39m\u001B[38;5;124m'\u001B[39m\n\u001B[0;32m-> 1065\u001B[0m \u001B[38;5;28;01mwith\u001B[39;00m \u001B[43m_open_file_like\u001B[49m\u001B[43m(\u001B[49m\u001B[43mf\u001B[49m\u001B[43m,\u001B[49m\u001B[43m \u001B[49m\u001B[38;5;124;43m'\u001B[39;49m\u001B[38;5;124;43mrb\u001B[39;49m\u001B[38;5;124;43m'\u001B[39;49m\u001B[43m)\u001B[49m \u001B[38;5;28;01mas\u001B[39;00m opened_file:\n\u001B[1;32m   1066\u001B[0m     \u001B[38;5;28;01mif\u001B[39;00m _is_zipfile(opened_file):\n\u001B[1;32m   1067\u001B[0m         \u001B[38;5;66;03m# The zipfile reader is going to advance the current file position.\u001B[39;00m\n\u001B[1;32m   1068\u001B[0m         \u001B[38;5;66;03m# If we want to actually tail call to torch.jit.load, we need to\u001B[39;00m\n\u001B[1;32m   1069\u001B[0m         \u001B[38;5;66;03m# reset back to the original position.\u001B[39;00m\n\u001B[1;32m   1070\u001B[0m         orig_position \u001B[38;5;241m=\u001B[39m opened_file\u001B[38;5;241m.\u001B[39mtell()\n",
      "File \u001B[0;32m/opt/conda/lib/python3.10/site-packages/torch/serialization.py:468\u001B[0m, in \u001B[0;36m_open_file_like\u001B[0;34m(name_or_buffer, mode)\u001B[0m\n\u001B[1;32m    466\u001B[0m \u001B[38;5;28;01mdef\u001B[39;00m \u001B[38;5;21m_open_file_like\u001B[39m(name_or_buffer, mode):\n\u001B[1;32m    467\u001B[0m     \u001B[38;5;28;01mif\u001B[39;00m _is_path(name_or_buffer):\n\u001B[0;32m--> 468\u001B[0m         \u001B[38;5;28;01mreturn\u001B[39;00m \u001B[43m_open_file\u001B[49m\u001B[43m(\u001B[49m\u001B[43mname_or_buffer\u001B[49m\u001B[43m,\u001B[49m\u001B[43m \u001B[49m\u001B[43mmode\u001B[49m\u001B[43m)\u001B[49m\n\u001B[1;32m    469\u001B[0m     \u001B[38;5;28;01melse\u001B[39;00m:\n\u001B[1;32m    470\u001B[0m         \u001B[38;5;28;01mif\u001B[39;00m \u001B[38;5;124m'\u001B[39m\u001B[38;5;124mw\u001B[39m\u001B[38;5;124m'\u001B[39m \u001B[38;5;129;01min\u001B[39;00m mode:\n",
      "File \u001B[0;32m/opt/conda/lib/python3.10/site-packages/torch/serialization.py:449\u001B[0m, in \u001B[0;36m_open_file.__init__\u001B[0;34m(self, name, mode)\u001B[0m\n\u001B[1;32m    448\u001B[0m \u001B[38;5;28;01mdef\u001B[39;00m \u001B[38;5;21m__init__\u001B[39m(\u001B[38;5;28mself\u001B[39m, name, mode):\n\u001B[0;32m--> 449\u001B[0m     \u001B[38;5;28msuper\u001B[39m()\u001B[38;5;241m.\u001B[39m\u001B[38;5;21m__init__\u001B[39m(\u001B[38;5;28;43mopen\u001B[39;49m\u001B[43m(\u001B[49m\u001B[43mname\u001B[49m\u001B[43m,\u001B[49m\u001B[43m \u001B[49m\u001B[43mmode\u001B[49m\u001B[43m)\u001B[49m)\n",
      "\u001B[0;31mFileNotFoundError\u001B[0m: [Errno 2] No such file or directory: '/kaggle/working/runs/detect/train3/weights/best.pt'"
     ]
    }
   ],
   "source": "best = YOLO(model=r\"/kaggle/working/runs/detect/train3/weights/best.pt\")"
  },
  {
   "cell_type": "markdown",
   "id": "6e386c1e",
   "metadata": {
    "papermill": {
     "duration": null,
     "end_time": null,
     "exception": null,
     "start_time": null,
     "status": "pending"
    },
    "tags": []
   },
   "source": [
    "### Testing"
   ]
  },
  {
   "cell_type": "code",
   "execution_count": null,
   "id": "145598ba",
   "metadata": {
    "id": "0kagY4nrX6Un",
    "outputId": "2762dd13-1ec6-4100-d841-08524c90aa89",
    "papermill": {
     "duration": null,
     "end_time": null,
     "exception": null,
     "start_time": null,
     "status": "pending"
    },
    "tags": []
   },
   "outputs": [],
   "source": [
    "best.predict(conf=0.25,\n",
    "             source=r\"/kaggle/working/Car_License_Plates-2/test/images/Cars129_png.rf.881823a221699ef0677915cea761bdbf.jpg\",\n",
    "             save=True)"
   ]
  },
  {
   "cell_type": "markdown",
   "id": "dd9f77d3",
   "metadata": {
    "papermill": {
     "duration": null,
     "end_time": null,
     "exception": null,
     "start_time": null,
     "status": "pending"
    },
    "tags": []
   },
   "source": [
    "### Show Prediction Image"
   ]
  },
  {
   "cell_type": "code",
   "execution_count": null,
   "id": "007cc16c",
   "metadata": {
    "id": "TUB8pGYJtuhN",
    "outputId": "74be4f0a-f033-44a6-fd13-3c8ab007fd5b",
    "papermill": {
     "duration": null,
     "end_time": null,
     "exception": null,
     "start_time": null,
     "status": "pending"
    },
    "tags": []
   },
   "outputs": [],
   "source": [
    "Image(filename=r'/kaggle/working/runs/detect/predict2/Cars129_png.rf.881823a221699ef0677915cea761bdbf.jpg', width=600)"
   ]
  },
  {
   "cell_type": "markdown",
   "id": "19bd69b7",
   "metadata": {
    "papermill": {
     "duration": null,
     "end_time": null,
     "exception": null,
     "start_time": null,
     "status": "pending"
    },
    "tags": []
   },
   "source": [
    "### Compress Run Folder"
   ]
  },
  {
   "cell_type": "code",
   "execution_count": null,
   "id": "0c1d20db",
   "metadata": {
    "id": "T0B1sm-MX6V7",
    "outputId": "9e7f00a8-0ee9-4728-c8d4-7edc619319ec",
    "papermill": {
     "duration": null,
     "end_time": null,
     "exception": null,
     "start_time": null,
     "status": "pending"
    },
    "tags": []
   },
   "outputs": [],
   "source": [
    "import shutil\n",
    "\n",
    "shutil.make_archive(\"/kaggle/working/runs\", 'zip', \"/content/runs\")"
   ]
  },
  {
   "cell_type": "markdown",
   "id": "a449198a",
   "metadata": {
    "papermill": {
     "duration": null,
     "end_time": null,
     "exception": null,
     "start_time": null,
     "status": "pending"
    },
    "tags": []
   },
   "source": [
    "### download Folder"
   ]
  },
  {
   "cell_type": "code",
   "execution_count": null,
   "id": "1f3fe1f3",
   "metadata": {
    "id": "R_P1r_Iff6Cv",
    "outputId": "14b0bb27-408d-4d00-eab1-7de48f975ad5",
    "papermill": {
     "duration": null,
     "end_time": null,
     "exception": null,
     "start_time": null,
     "status": "pending"
    },
    "tags": []
   },
   "outputs": [],
   "source": [
    "from google.colab import files\n",
    "\n",
    "files.download(\"/kaggle/working/runs.zip\")"
   ]
  },
  {
   "cell_type": "code",
   "execution_count": null,
   "id": "8c0e2329",
   "metadata": {
    "id": "qE8c5ErDf6LU",
    "papermill": {
     "duration": null,
     "end_time": null,
     "exception": null,
     "start_time": null,
     "status": "pending"
    },
    "tags": []
   },
   "outputs": [],
   "source": []
  }
 ],
 "metadata": {
  "accelerator": "GPU",
  "colab": {
   "gpuType": "T4",
   "name": "Welcome To Colaboratory",
   "provenance": []
  },
  "kaggle": {
   "accelerator": "gpu",
   "dataSources": [
    {
     "datasetId": 686454,
     "sourceId": 1203932,
     "sourceType": "datasetVersion"
    }
   ],
   "dockerImageVersionId": 30805,
   "isGpuEnabled": true,
   "isInternetEnabled": true,
   "language": "python",
   "sourceType": "notebook"
  },
  "kernelspec": {
   "display_name": "Python 3",
   "language": "python",
   "name": "python3"
  },
  "language_info": {
   "codemirror_mode": {
    "name": "ipython",
    "version": 3
   },
   "file_extension": ".py",
   "mimetype": "text/x-python",
   "name": "python",
   "nbconvert_exporter": "python",
   "pygments_lexer": "ipython3",
   "version": "3.10.14"
  },
  "papermill": {
   "default_parameters": {},
   "duration": 5792.721958,
   "end_time": "2024-12-15T05:18:37.571901",
   "environment_variables": {},
   "exception": true,
   "input_path": "__notebook__.ipynb",
   "output_path": "__notebook__.ipynb",
   "parameters": {},
   "start_time": "2024-12-15T03:42:04.849943",
   "version": "2.6.0"
  }
 },
 "nbformat": 4,
 "nbformat_minor": 5
}
